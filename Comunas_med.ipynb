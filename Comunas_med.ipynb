{
  "cells": [
    {
      "cell_type": "markdown",
      "metadata": {
        "id": "view-in-github",
        "colab_type": "text"
      },
      "source": [
        "<a href=\"https://colab.research.google.com/github/jrioss/Mapas-y-poligonos/blob/main/Comunas_med.ipynb\" target=\"_parent\"><img src=\"https://colab.research.google.com/assets/colab-badge.svg\" alt=\"Open In Colab\"/></a>"
      ]
    },
    {
      "cell_type": "code",
      "execution_count": 2,
      "metadata": {
        "tags": [],
        "colab": {
          "base_uri": "https://localhost:8080/"
        },
        "id": "Nfn-r638EIP5",
        "outputId": "c63cecd2-5541-48a7-aa68-6fe3d7c7eb32"
      },
      "outputs": [
        {
          "output_type": "stream",
          "name": "stdout",
          "text": [
            "Looking in indexes: https://pypi.org/simple, https://us-python.pkg.dev/colab-wheels/public/simple/\n",
            "Collecting cenpy\n",
            "  Downloading cenpy-1.0.1.tar.gz (30 kB)\n",
            "  Preparing metadata (setup.py) ... \u001b[?25l\u001b[?25hdone\n",
            "Requirement already satisfied: pandas in /usr/local/lib/python3.8/dist-packages (from cenpy) (1.3.5)\n",
            "Collecting geopandas\n",
            "  Downloading geopandas-0.12.2-py3-none-any.whl (1.1 MB)\n",
            "\u001b[2K     \u001b[90m━━━━━━━━━━━━━━━━━━━━━━━━━━━━━━━━━━━━━━━━\u001b[0m \u001b[32m1.1/1.1 MB\u001b[0m \u001b[31m14.2 MB/s\u001b[0m eta \u001b[36m0:00:00\u001b[0m\n",
            "\u001b[?25hRequirement already satisfied: requests in /usr/local/lib/python3.8/dist-packages (from cenpy) (2.25.1)\n",
            "Collecting rtree\n",
            "  Downloading Rtree-1.0.1-cp38-cp38-manylinux_2_17_x86_64.manylinux2014_x86_64.whl (1.0 MB)\n",
            "\u001b[2K     \u001b[90m━━━━━━━━━━━━━━━━━━━━━━━━━━━━━━━━━━━━━━━━\u001b[0m \u001b[32m1.0/1.0 MB\u001b[0m \u001b[31m48.4 MB/s\u001b[0m eta \u001b[36m0:00:00\u001b[0m\n",
            "\u001b[?25hRequirement already satisfied: numpy in /usr/local/lib/python3.8/dist-packages (from cenpy) (1.21.6)\n",
            "Requirement already satisfied: six in /usr/local/lib/python3.8/dist-packages (from cenpy) (1.15.0)\n",
            "Collecting fuzzywuzzy\n",
            "  Downloading fuzzywuzzy-0.18.0-py2.py3-none-any.whl (18 kB)\n",
            "Collecting libpysal\n",
            "  Downloading libpysal-4.7.0-py3-none-any.whl (2.4 MB)\n",
            "\u001b[2K     \u001b[90m━━━━━━━━━━━━━━━━━━━━━━━━━━━━━━━━━━━━━━━━\u001b[0m \u001b[32m2.4/2.4 MB\u001b[0m \u001b[31m72.1 MB/s\u001b[0m eta \u001b[36m0:00:00\u001b[0m\n",
            "\u001b[?25hCollecting fiona>=1.8\n",
            "  Downloading Fiona-1.9.1-cp38-cp38-manylinux_2_17_x86_64.manylinux2014_x86_64.whl (16.0 MB)\n",
            "\u001b[2K     \u001b[90m━━━━━━━━━━━━━━━━━━━━━━━━━━━━━━━━━━━━━━━━\u001b[0m \u001b[32m16.0/16.0 MB\u001b[0m \u001b[31m57.2 MB/s\u001b[0m eta \u001b[36m0:00:00\u001b[0m\n",
            "\u001b[?25hRequirement already satisfied: shapely>=1.7 in /usr/local/lib/python3.8/dist-packages (from geopandas->cenpy) (2.0.1)\n",
            "Requirement already satisfied: packaging in /usr/local/lib/python3.8/dist-packages (from geopandas->cenpy) (23.0)\n",
            "Collecting pyproj>=2.6.1.post1\n",
            "  Downloading pyproj-3.4.1-cp38-cp38-manylinux_2_17_x86_64.manylinux2014_x86_64.whl (7.8 MB)\n",
            "\u001b[2K     \u001b[90m━━━━━━━━━━━━━━━━━━━━━━━━━━━━━━━━━━━━━━━━\u001b[0m \u001b[32m7.8/7.8 MB\u001b[0m \u001b[31m37.1 MB/s\u001b[0m eta \u001b[36m0:00:00\u001b[0m\n",
            "\u001b[?25hRequirement already satisfied: pytz>=2017.3 in /usr/local/lib/python3.8/dist-packages (from pandas->cenpy) (2022.7.1)\n",
            "Requirement already satisfied: python-dateutil>=2.7.3 in /usr/local/lib/python3.8/dist-packages (from pandas->cenpy) (2.8.2)\n",
            "Requirement already satisfied: scipy>=0.11 in /usr/local/lib/python3.8/dist-packages (from libpysal->cenpy) (1.7.3)\n",
            "Requirement already satisfied: platformdirs in /usr/local/lib/python3.8/dist-packages (from libpysal->cenpy) (3.0.0)\n",
            "Requirement already satisfied: jinja2 in /usr/local/lib/python3.8/dist-packages (from libpysal->cenpy) (2.11.3)\n",
            "Requirement already satisfied: beautifulsoup4 in /usr/local/lib/python3.8/dist-packages (from libpysal->cenpy) (4.6.3)\n",
            "Requirement already satisfied: urllib3<1.27,>=1.21.1 in /usr/local/lib/python3.8/dist-packages (from requests->cenpy) (1.24.3)\n",
            "Requirement already satisfied: idna<3,>=2.5 in /usr/local/lib/python3.8/dist-packages (from requests->cenpy) (2.10)\n",
            "Requirement already satisfied: certifi>=2017.4.17 in /usr/local/lib/python3.8/dist-packages (from requests->cenpy) (2022.12.7)\n",
            "Requirement already satisfied: chardet<5,>=3.0.2 in /usr/local/lib/python3.8/dist-packages (from requests->cenpy) (4.0.0)\n",
            "Requirement already satisfied: setuptools in /usr/local/lib/python3.8/dist-packages (from fiona>=1.8->geopandas->cenpy) (57.4.0)\n",
            "Collecting cligj>=0.5\n",
            "  Downloading cligj-0.7.2-py3-none-any.whl (7.1 kB)\n",
            "Collecting click-plugins>=1.0\n",
            "  Downloading click_plugins-1.1.1-py2.py3-none-any.whl (7.5 kB)\n",
            "Requirement already satisfied: attrs>=19.2.0 in /usr/local/lib/python3.8/dist-packages (from fiona>=1.8->geopandas->cenpy) (22.2.0)\n",
            "Collecting munch>=2.3.2\n",
            "  Downloading munch-2.5.0-py2.py3-none-any.whl (10 kB)\n",
            "Collecting click~=8.0\n",
            "  Downloading click-8.1.3-py3-none-any.whl (96 kB)\n",
            "\u001b[2K     \u001b[90m━━━━━━━━━━━━━━━━━━━━━━━━━━━━━━━━━━━━━━━━\u001b[0m \u001b[32m96.6/96.6 KB\u001b[0m \u001b[31m10.4 MB/s\u001b[0m eta \u001b[36m0:00:00\u001b[0m\n",
            "\u001b[?25hRequirement already satisfied: MarkupSafe>=0.23 in /usr/local/lib/python3.8/dist-packages (from jinja2->libpysal->cenpy) (2.0.1)\n",
            "Building wheels for collected packages: cenpy\n",
            "  Building wheel for cenpy (setup.py) ... \u001b[?25l\u001b[?25hdone\n",
            "  Created wheel for cenpy: filename=cenpy-1.0.1-py3-none-any.whl size=30061 sha256=2e8427d7a5dc4ad5082236a6c1395b75003c67271938d16d440f24a766aa8549\n",
            "  Stored in directory: /root/.cache/pip/wheels/ed/a3/b9/ec8f57828ca04f3e5035ad526fc7f4b22c61472e05d919b5af\n",
            "Successfully built cenpy\n",
            "Installing collected packages: fuzzywuzzy, rtree, pyproj, munch, click, cligj, click-plugins, libpysal, fiona, geopandas, cenpy\n",
            "  Attempting uninstall: click\n",
            "    Found existing installation: click 7.1.2\n",
            "    Uninstalling click-7.1.2:\n",
            "      Successfully uninstalled click-7.1.2\n",
            "\u001b[31mERROR: pip's dependency resolver does not currently take into account all the packages that are installed. This behaviour is the source of the following dependency conflicts.\n",
            "flask 1.1.4 requires click<8.0,>=5.1, but you have click 8.1.3 which is incompatible.\u001b[0m\u001b[31m\n",
            "\u001b[0mSuccessfully installed cenpy-1.0.1 click-8.1.3 click-plugins-1.1.1 cligj-0.7.2 fiona-1.9.1 fuzzywuzzy-0.18.0 geopandas-0.12.2 libpysal-4.7.0 munch-2.5.0 pyproj-3.4.1 rtree-1.0.1\n",
            "Looking in indexes: https://pypi.org/simple, https://us-python.pkg.dev/colab-wheels/public/simple/\n",
            "Collecting datashader\n",
            "  Downloading datashader-0.14.4-py2.py3-none-any.whl (18.2 MB)\n",
            "\u001b[2K     \u001b[90m━━━━━━━━━━━━━━━━━━━━━━━━━━━━━━━━━━━━━━━━\u001b[0m \u001b[32m18.2/18.2 MB\u001b[0m \u001b[31m56.9 MB/s\u001b[0m eta \u001b[36m0:00:00\u001b[0m\n",
            "\u001b[?25hRequirement already satisfied: numpy in /usr/local/lib/python3.8/dist-packages (from datashader) (1.21.6)\n",
            "Collecting datashape\n",
            "  Downloading datashape-0.5.2.tar.gz (76 kB)\n",
            "\u001b[2K     \u001b[90m━━━━━━━━━━━━━━━━━━━━━━━━━━━━━━━━━━━━━━━━\u001b[0m \u001b[32m76.5/76.5 KB\u001b[0m \u001b[31m7.9 MB/s\u001b[0m eta \u001b[36m0:00:00\u001b[0m\n",
            "\u001b[?25h  Preparing metadata (setup.py) ... \u001b[?25l\u001b[?25hdone\n",
            "Requirement already satisfied: param in /usr/local/lib/python3.8/dist-packages (from datashader) (1.12.3)\n",
            "Requirement already satisfied: requests in /usr/local/lib/python3.8/dist-packages (from datashader) (2.25.1)\n",
            "Requirement already satisfied: colorcet in /usr/local/lib/python3.8/dist-packages (from datashader) (3.0.1)\n",
            "Requirement already satisfied: xarray in /usr/local/lib/python3.8/dist-packages (from datashader) (2022.12.0)\n",
            "Requirement already satisfied: dask in /usr/local/lib/python3.8/dist-packages (from datashader) (2022.2.1)\n",
            "Requirement already satisfied: pandas in /usr/local/lib/python3.8/dist-packages (from datashader) (1.3.5)\n",
            "Requirement already satisfied: pyct in /usr/local/lib/python3.8/dist-packages (from datashader) (0.5.0)\n",
            "Requirement already satisfied: toolz in /usr/local/lib/python3.8/dist-packages (from datashader) (0.12.0)\n",
            "Requirement already satisfied: numba>=0.51 in /usr/local/lib/python3.8/dist-packages (from datashader) (0.56.4)\n",
            "Requirement already satisfied: scipy in /usr/local/lib/python3.8/dist-packages (from datashader) (1.7.3)\n",
            "Requirement already satisfied: pillow in /usr/local/lib/python3.8/dist-packages (from datashader) (7.1.2)\n",
            "Requirement already satisfied: llvmlite<0.40,>=0.39.0dev0 in /usr/local/lib/python3.8/dist-packages (from numba>=0.51->datashader) (0.39.1)\n",
            "Requirement already satisfied: importlib-metadata in /usr/local/lib/python3.8/dist-packages (from numba>=0.51->datashader) (6.0.0)\n",
            "Requirement already satisfied: setuptools in /usr/local/lib/python3.8/dist-packages (from numba>=0.51->datashader) (57.4.0)\n",
            "Requirement already satisfied: partd>=0.3.10 in /usr/local/lib/python3.8/dist-packages (from dask->datashader) (1.3.0)\n",
            "Requirement already satisfied: fsspec>=0.6.0 in /usr/local/lib/python3.8/dist-packages (from dask->datashader) (2023.1.0)\n",
            "Requirement already satisfied: cloudpickle>=1.1.1 in /usr/local/lib/python3.8/dist-packages (from dask->datashader) (2.2.1)\n",
            "Requirement already satisfied: pyyaml>=5.3.1 in /usr/local/lib/python3.8/dist-packages (from dask->datashader) (6.0)\n",
            "Requirement already satisfied: packaging>=20.0 in /usr/local/lib/python3.8/dist-packages (from dask->datashader) (23.0)\n",
            "Requirement already satisfied: multipledispatch>=0.4.7 in /usr/local/lib/python3.8/dist-packages (from datashape->datashader) (0.6.0)\n",
            "Requirement already satisfied: python-dateutil in /usr/local/lib/python3.8/dist-packages (from datashape->datashader) (2.8.2)\n",
            "Requirement already satisfied: pytz>=2017.3 in /usr/local/lib/python3.8/dist-packages (from pandas->datashader) (2022.7.1)\n",
            "Requirement already satisfied: certifi>=2017.4.17 in /usr/local/lib/python3.8/dist-packages (from requests->datashader) (2022.12.7)\n",
            "Requirement already satisfied: urllib3<1.27,>=1.21.1 in /usr/local/lib/python3.8/dist-packages (from requests->datashader) (1.24.3)\n",
            "Requirement already satisfied: idna<3,>=2.5 in /usr/local/lib/python3.8/dist-packages (from requests->datashader) (2.10)\n",
            "Requirement already satisfied: chardet<5,>=3.0.2 in /usr/local/lib/python3.8/dist-packages (from requests->datashader) (4.0.0)\n",
            "Requirement already satisfied: six in /usr/local/lib/python3.8/dist-packages (from multipledispatch>=0.4.7->datashape->datashader) (1.15.0)\n",
            "Requirement already satisfied: locket in /usr/local/lib/python3.8/dist-packages (from partd>=0.3.10->dask->datashader) (1.0.0)\n",
            "Requirement already satisfied: zipp>=0.5 in /usr/local/lib/python3.8/dist-packages (from importlib-metadata->numba>=0.51->datashader) (3.12.1)\n",
            "Building wheels for collected packages: datashape\n",
            "  Building wheel for datashape (setup.py) ... \u001b[?25l\u001b[?25hdone\n",
            "  Created wheel for datashape: filename=datashape-0.5.2-py3-none-any.whl size=59439 sha256=057f29f690b6ea158824e1b4f8144a9d62f8e61096f1d4f8a28b44f4c6bb7483\n",
            "  Stored in directory: /root/.cache/pip/wheels/6d/79/c4/c425774559165f472d32e5ef592ff9a71179abb31f05dbc98b\n",
            "Successfully built datashape\n",
            "Installing collected packages: datashape, datashader\n",
            "Successfully installed datashader-0.14.4 datashape-0.5.2\n",
            "Looking in indexes: https://pypi.org/simple, https://us-python.pkg.dev/colab-wheels/public/simple/\n",
            "Collecting contextily\n",
            "  Downloading contextily-1.3.0-py3-none-any.whl (16 kB)\n",
            "Collecting rasterio\n",
            "  Downloading rasterio-1.3.6-cp38-cp38-manylinux_2_17_x86_64.manylinux2014_x86_64.whl (20.1 MB)\n",
            "\u001b[2K     \u001b[90m━━━━━━━━━━━━━━━━━━━━━━━━━━━━━━━━━━━━━━━━\u001b[0m \u001b[32m20.1/20.1 MB\u001b[0m \u001b[31m52.6 MB/s\u001b[0m eta \u001b[36m0:00:00\u001b[0m\n",
            "\u001b[?25hRequirement already satisfied: geopy in /usr/local/lib/python3.8/dist-packages (from contextily) (1.17.0)\n",
            "Collecting mercantile\n",
            "  Downloading mercantile-1.2.1-py3-none-any.whl (14 kB)\n",
            "Requirement already satisfied: requests in /usr/local/lib/python3.8/dist-packages (from contextily) (2.25.1)\n",
            "Collecting xyzservices\n",
            "  Downloading xyzservices-2022.9.0-py3-none-any.whl (55 kB)\n",
            "\u001b[2K     \u001b[90m━━━━━━━━━━━━━━━━━━━━━━━━━━━━━━━━━━━━━━━━\u001b[0m \u001b[32m55.9/55.9 KB\u001b[0m \u001b[31m5.2 MB/s\u001b[0m eta \u001b[36m0:00:00\u001b[0m\n",
            "\u001b[?25hRequirement already satisfied: pillow in /usr/local/lib/python3.8/dist-packages (from contextily) (7.1.2)\n",
            "Requirement already satisfied: matplotlib in /usr/local/lib/python3.8/dist-packages (from contextily) (3.2.2)\n",
            "Requirement already satisfied: joblib in /usr/local/lib/python3.8/dist-packages (from contextily) (1.2.0)\n",
            "Requirement already satisfied: geographiclib<2,>=1.49 in /usr/local/lib/python3.8/dist-packages (from geopy->contextily) (1.52)\n",
            "Requirement already satisfied: python-dateutil>=2.1 in /usr/local/lib/python3.8/dist-packages (from matplotlib->contextily) (2.8.2)\n",
            "Requirement already satisfied: cycler>=0.10 in /usr/local/lib/python3.8/dist-packages (from matplotlib->contextily) (0.11.0)\n",
            "Requirement already satisfied: numpy>=1.11 in /usr/local/lib/python3.8/dist-packages (from matplotlib->contextily) (1.21.6)\n",
            "Requirement already satisfied: pyparsing!=2.0.4,!=2.1.2,!=2.1.6,>=2.0.1 in /usr/local/lib/python3.8/dist-packages (from matplotlib->contextily) (3.0.9)\n",
            "Requirement already satisfied: kiwisolver>=1.0.1 in /usr/local/lib/python3.8/dist-packages (from matplotlib->contextily) (1.4.4)\n",
            "Requirement already satisfied: click>=3.0 in /usr/local/lib/python3.8/dist-packages (from mercantile->contextily) (8.1.3)\n",
            "Requirement already satisfied: setuptools in /usr/local/lib/python3.8/dist-packages (from rasterio->contextily) (57.4.0)\n",
            "Requirement already satisfied: click-plugins in /usr/local/lib/python3.8/dist-packages (from rasterio->contextily) (1.1.1)\n",
            "Requirement already satisfied: cligj>=0.5 in /usr/local/lib/python3.8/dist-packages (from rasterio->contextily) (0.7.2)\n",
            "Requirement already satisfied: certifi in /usr/local/lib/python3.8/dist-packages (from rasterio->contextily) (2022.12.7)\n",
            "Collecting snuggs>=1.4.1\n",
            "  Downloading snuggs-1.4.7-py3-none-any.whl (5.4 kB)\n",
            "Requirement already satisfied: attrs in /usr/local/lib/python3.8/dist-packages (from rasterio->contextily) (22.2.0)\n",
            "Collecting affine\n",
            "  Downloading affine-2.4.0-py3-none-any.whl (15 kB)\n",
            "Requirement already satisfied: chardet<5,>=3.0.2 in /usr/local/lib/python3.8/dist-packages (from requests->contextily) (4.0.0)\n",
            "Requirement already satisfied: idna<3,>=2.5 in /usr/local/lib/python3.8/dist-packages (from requests->contextily) (2.10)\n",
            "Requirement already satisfied: urllib3<1.27,>=1.21.1 in /usr/local/lib/python3.8/dist-packages (from requests->contextily) (1.24.3)\n",
            "Requirement already satisfied: six>=1.5 in /usr/local/lib/python3.8/dist-packages (from python-dateutil>=2.1->matplotlib->contextily) (1.15.0)\n",
            "Installing collected packages: xyzservices, snuggs, mercantile, affine, rasterio, contextily\n",
            "Successfully installed affine-2.4.0 contextily-1.3.0 mercantile-1.2.1 rasterio-1.3.6 snuggs-1.4.7 xyzservices-2022.9.0\n"
          ]
        }
      ],
      "source": [
        "!pip install cenpy\n",
        "!pip install datashader\n",
        "!pip install contextily\n",
        "!pip install pygeohash\n",
        "#!pip install osmnx"
      ],
      "id": "Nfn-r638EIP5"
    },
    {
      "cell_type": "code",
      "source": [
        "#!pip uninstall numpy\n",
        "#!pip uninstall setuptools\n",
        "#!pip install setuptools\n",
        "#!pip install numpy"
      ],
      "metadata": {
        "id": "qhAoFaUPo7kD"
      },
      "id": "qhAoFaUPo7kD",
      "execution_count": 3,
      "outputs": []
    },
    {
      "cell_type": "code",
      "source": [
        "#!pip install --upgrade pip\n",
        "#!pip install --upgrade numpy\n",
        "#!pip install numpy==1.23.5"
      ],
      "metadata": {
        "id": "pFLwNPAHruzQ"
      },
      "id": "pFLwNPAHruzQ",
      "execution_count": 4,
      "outputs": []
    },
    {
      "cell_type": "code",
      "execution_count": 5,
      "metadata": {
        "tags": [],
        "id": "7I7sHoaIEIP-"
      },
      "outputs": [],
      "source": [
        "import warnings\n",
        "warnings.filterwarnings('ignore')\n",
        "import pandas as pd\n",
        "import numpy as np\n",
        "import geopandas as gpd\n",
        "import libpysal.weights as weights\n",
        "import contextily as ctx\n",
        "import datashader\n",
        "import matplotlib.pyplot as plt\n",
        "import cenpy\n",
        "#import osmnx\n",
        "import rasterio as rio\n",
        "from rasterio.plot import show as rioshow\n",
        "\n",
        "#from google.colab import drive"
      ],
      "id": "7I7sHoaIEIP-"
    },
    {
      "cell_type": "markdown",
      "metadata": {
        "id": "LtJG9U_cEIP_"
      },
      "source": [
        "# Datos del mapa de Antioquia"
      ],
      "id": "LtJG9U_cEIP_"
    },
    {
      "cell_type": "code",
      "source": [
        "col_2 = gpd.read_file(\"mpio.shx\")\n",
        "#col_2 = gpd.read_file(\"https://github.com/jrioss/Mapas-y-poligonos/blob/main/Municipio/mpio.shp\")\n",
        "col_2.head()"
      ],
      "metadata": {
        "colab": {
          "base_uri": "https://localhost:8080/",
          "height": 206
        },
        "id": "JOxXHhvaToI3",
        "outputId": "2c49fc8a-609c-4438-ae6e-742b6081bd3f"
      },
      "id": "JOxXHhvaToI3",
      "execution_count": 6,
      "outputs": [
        {
          "output_type": "execute_result",
          "data": {
            "text/plain": [
              "                                            geometry\n",
              "0  POLYGON ((1290154.980 1796649.425, 1270385.550...\n",
              "1  POLYGON ((1187687.339 1800431.820, 1188158.788...\n",
              "2  POLYGON ((1198031.055 1767210.476, 1212713.613...\n",
              "3  POLYGON ((1156062.702 1755981.216, 1159630.667...\n",
              "4  POLYGON ((1095571.713 1750924.096, 1097255.333..."
            ],
            "text/html": [
              "\n",
              "  <div id=\"df-d6ddaf60-c6bb-4b6d-bf42-4809bd51e795\">\n",
              "    <div class=\"colab-df-container\">\n",
              "      <div>\n",
              "<style scoped>\n",
              "    .dataframe tbody tr th:only-of-type {\n",
              "        vertical-align: middle;\n",
              "    }\n",
              "\n",
              "    .dataframe tbody tr th {\n",
              "        vertical-align: top;\n",
              "    }\n",
              "\n",
              "    .dataframe thead th {\n",
              "        text-align: right;\n",
              "    }\n",
              "</style>\n",
              "<table border=\"1\" class=\"dataframe\">\n",
              "  <thead>\n",
              "    <tr style=\"text-align: right;\">\n",
              "      <th></th>\n",
              "      <th>geometry</th>\n",
              "    </tr>\n",
              "  </thead>\n",
              "  <tbody>\n",
              "    <tr>\n",
              "      <th>0</th>\n",
              "      <td>POLYGON ((1290154.980 1796649.425, 1270385.550...</td>\n",
              "    </tr>\n",
              "    <tr>\n",
              "      <th>1</th>\n",
              "      <td>POLYGON ((1187687.339 1800431.820, 1188158.788...</td>\n",
              "    </tr>\n",
              "    <tr>\n",
              "      <th>2</th>\n",
              "      <td>POLYGON ((1198031.055 1767210.476, 1212713.613...</td>\n",
              "    </tr>\n",
              "    <tr>\n",
              "      <th>3</th>\n",
              "      <td>POLYGON ((1156062.702 1755981.216, 1159630.667...</td>\n",
              "    </tr>\n",
              "    <tr>\n",
              "      <th>4</th>\n",
              "      <td>POLYGON ((1095571.713 1750924.096, 1097255.333...</td>\n",
              "    </tr>\n",
              "  </tbody>\n",
              "</table>\n",
              "</div>\n",
              "      <button class=\"colab-df-convert\" onclick=\"convertToInteractive('df-d6ddaf60-c6bb-4b6d-bf42-4809bd51e795')\"\n",
              "              title=\"Convert this dataframe to an interactive table.\"\n",
              "              style=\"display:none;\">\n",
              "        \n",
              "  <svg xmlns=\"http://www.w3.org/2000/svg\" height=\"24px\"viewBox=\"0 0 24 24\"\n",
              "       width=\"24px\">\n",
              "    <path d=\"M0 0h24v24H0V0z\" fill=\"none\"/>\n",
              "    <path d=\"M18.56 5.44l.94 2.06.94-2.06 2.06-.94-2.06-.94-.94-2.06-.94 2.06-2.06.94zm-11 1L8.5 8.5l.94-2.06 2.06-.94-2.06-.94L8.5 2.5l-.94 2.06-2.06.94zm10 10l.94 2.06.94-2.06 2.06-.94-2.06-.94-.94-2.06-.94 2.06-2.06.94z\"/><path d=\"M17.41 7.96l-1.37-1.37c-.4-.4-.92-.59-1.43-.59-.52 0-1.04.2-1.43.59L10.3 9.45l-7.72 7.72c-.78.78-.78 2.05 0 2.83L4 21.41c.39.39.9.59 1.41.59.51 0 1.02-.2 1.41-.59l7.78-7.78 2.81-2.81c.8-.78.8-2.07 0-2.86zM5.41 20L4 18.59l7.72-7.72 1.47 1.35L5.41 20z\"/>\n",
              "  </svg>\n",
              "      </button>\n",
              "      \n",
              "  <style>\n",
              "    .colab-df-container {\n",
              "      display:flex;\n",
              "      flex-wrap:wrap;\n",
              "      gap: 12px;\n",
              "    }\n",
              "\n",
              "    .colab-df-convert {\n",
              "      background-color: #E8F0FE;\n",
              "      border: none;\n",
              "      border-radius: 50%;\n",
              "      cursor: pointer;\n",
              "      display: none;\n",
              "      fill: #1967D2;\n",
              "      height: 32px;\n",
              "      padding: 0 0 0 0;\n",
              "      width: 32px;\n",
              "    }\n",
              "\n",
              "    .colab-df-convert:hover {\n",
              "      background-color: #E2EBFA;\n",
              "      box-shadow: 0px 1px 2px rgba(60, 64, 67, 0.3), 0px 1px 3px 1px rgba(60, 64, 67, 0.15);\n",
              "      fill: #174EA6;\n",
              "    }\n",
              "\n",
              "    [theme=dark] .colab-df-convert {\n",
              "      background-color: #3B4455;\n",
              "      fill: #D2E3FC;\n",
              "    }\n",
              "\n",
              "    [theme=dark] .colab-df-convert:hover {\n",
              "      background-color: #434B5C;\n",
              "      box-shadow: 0px 1px 3px 1px rgba(0, 0, 0, 0.15);\n",
              "      filter: drop-shadow(0px 1px 2px rgba(0, 0, 0, 0.3));\n",
              "      fill: #FFFFFF;\n",
              "    }\n",
              "  </style>\n",
              "\n",
              "      <script>\n",
              "        const buttonEl =\n",
              "          document.querySelector('#df-d6ddaf60-c6bb-4b6d-bf42-4809bd51e795 button.colab-df-convert');\n",
              "        buttonEl.style.display =\n",
              "          google.colab.kernel.accessAllowed ? 'block' : 'none';\n",
              "\n",
              "        async function convertToInteractive(key) {\n",
              "          const element = document.querySelector('#df-d6ddaf60-c6bb-4b6d-bf42-4809bd51e795');\n",
              "          const dataTable =\n",
              "            await google.colab.kernel.invokeFunction('convertToInteractive',\n",
              "                                                     [key], {});\n",
              "          if (!dataTable) return;\n",
              "\n",
              "          const docLinkHtml = 'Like what you see? Visit the ' +\n",
              "            '<a target=\"_blank\" href=https://colab.research.google.com/notebooks/data_table.ipynb>data table notebook</a>'\n",
              "            + ' to learn more about interactive tables.';\n",
              "          element.innerHTML = '';\n",
              "          dataTable['output_type'] = 'display_data';\n",
              "          await google.colab.output.renderOutput(dataTable, element);\n",
              "          const docLink = document.createElement('div');\n",
              "          docLink.innerHTML = docLinkHtml;\n",
              "          element.appendChild(docLink);\n",
              "        }\n",
              "      </script>\n",
              "    </div>\n",
              "  </div>\n",
              "  "
            ]
          },
          "metadata": {},
          "execution_count": 6
        }
      ]
    },
    {
      "cell_type": "code",
      "source": [
        "municipios = col_2.to_csv('municipios.csv')"
      ],
      "metadata": {
        "id": "3Lkahk9qRN4o"
      },
      "id": "3Lkahk9qRN4o",
      "execution_count": 7,
      "outputs": []
    },
    {
      "cell_type": "code",
      "source": [
        "col_2.shape"
      ],
      "metadata": {
        "colab": {
          "base_uri": "https://localhost:8080/"
        },
        "id": "lgZb66zPUrDw",
        "outputId": "4f3ae19d-0274-441b-f0cf-54d4c862995c"
      },
      "id": "lgZb66zPUrDw",
      "execution_count": 8,
      "outputs": [
        {
          "output_type": "execute_result",
          "data": {
            "text/plain": [
              "(1122, 1)"
            ]
          },
          "metadata": {},
          "execution_count": 8
        }
      ]
    },
    {
      "cell_type": "code",
      "execution_count": 9,
      "metadata": {
        "colab": {
          "base_uri": "https://localhost:8080/",
          "height": 206
        },
        "id": "zgvRAgXKEIQC",
        "outputId": "3e4c0927-2ab0-447d-b411-09596c7ef3a2"
      },
      "outputs": [
        {
          "output_type": "execute_result",
          "data": {
            "text/plain": [
              "  DPTO             NOMBRE_DPT          AREA    PERIMETER     HECTARES  \\\n",
              "0   05              ANTIOQUIA  6.335186e+10  1963728.843  6335185.555   \n",
              "1   08              ATLANTICO  3.360765e+09   240936.172   336076.535   \n",
              "2   11  SANTAFE DE BOGOTA D.C  1.650948e+09   323322.540   165094.778   \n",
              "3   13                BOLIVAR  2.614189e+10  1309427.968  2614189.453   \n",
              "4   15                 BOYACA  2.335258e+10  1364539.911  2335258.246   \n",
              "\n",
              "                                            geometry  \n",
              "0  POLYGON ((-76.30730 8.61930, -76.29810 8.61640...  \n",
              "1  POLYGON ((-74.87060 10.36120, -74.87640 10.343...  \n",
              "2  POLYGON ((-74.02290 4.79510, -74.02640 4.78360...  \n",
              "3  POLYGON ((-75.15950 10.42360, -75.15430 10.409...  \n",
              "4  POLYGON ((-72.21300 7.02750, -72.20610 7.02460...  "
            ],
            "text/html": [
              "\n",
              "  <div id=\"df-cceec48b-6158-4b21-afbd-f907e4a565ab\">\n",
              "    <div class=\"colab-df-container\">\n",
              "      <div>\n",
              "<style scoped>\n",
              "    .dataframe tbody tr th:only-of-type {\n",
              "        vertical-align: middle;\n",
              "    }\n",
              "\n",
              "    .dataframe tbody tr th {\n",
              "        vertical-align: top;\n",
              "    }\n",
              "\n",
              "    .dataframe thead th {\n",
              "        text-align: right;\n",
              "    }\n",
              "</style>\n",
              "<table border=\"1\" class=\"dataframe\">\n",
              "  <thead>\n",
              "    <tr style=\"text-align: right;\">\n",
              "      <th></th>\n",
              "      <th>DPTO</th>\n",
              "      <th>NOMBRE_DPT</th>\n",
              "      <th>AREA</th>\n",
              "      <th>PERIMETER</th>\n",
              "      <th>HECTARES</th>\n",
              "      <th>geometry</th>\n",
              "    </tr>\n",
              "  </thead>\n",
              "  <tbody>\n",
              "    <tr>\n",
              "      <th>0</th>\n",
              "      <td>05</td>\n",
              "      <td>ANTIOQUIA</td>\n",
              "      <td>6.335186e+10</td>\n",
              "      <td>1963728.843</td>\n",
              "      <td>6335185.555</td>\n",
              "      <td>POLYGON ((-76.30730 8.61930, -76.29810 8.61640...</td>\n",
              "    </tr>\n",
              "    <tr>\n",
              "      <th>1</th>\n",
              "      <td>08</td>\n",
              "      <td>ATLANTICO</td>\n",
              "      <td>3.360765e+09</td>\n",
              "      <td>240936.172</td>\n",
              "      <td>336076.535</td>\n",
              "      <td>POLYGON ((-74.87060 10.36120, -74.87640 10.343...</td>\n",
              "    </tr>\n",
              "    <tr>\n",
              "      <th>2</th>\n",
              "      <td>11</td>\n",
              "      <td>SANTAFE DE BOGOTA D.C</td>\n",
              "      <td>1.650948e+09</td>\n",
              "      <td>323322.540</td>\n",
              "      <td>165094.778</td>\n",
              "      <td>POLYGON ((-74.02290 4.79510, -74.02640 4.78360...</td>\n",
              "    </tr>\n",
              "    <tr>\n",
              "      <th>3</th>\n",
              "      <td>13</td>\n",
              "      <td>BOLIVAR</td>\n",
              "      <td>2.614189e+10</td>\n",
              "      <td>1309427.968</td>\n",
              "      <td>2614189.453</td>\n",
              "      <td>POLYGON ((-75.15950 10.42360, -75.15430 10.409...</td>\n",
              "    </tr>\n",
              "    <tr>\n",
              "      <th>4</th>\n",
              "      <td>15</td>\n",
              "      <td>BOYACA</td>\n",
              "      <td>2.335258e+10</td>\n",
              "      <td>1364539.911</td>\n",
              "      <td>2335258.246</td>\n",
              "      <td>POLYGON ((-72.21300 7.02750, -72.20610 7.02460...</td>\n",
              "    </tr>\n",
              "  </tbody>\n",
              "</table>\n",
              "</div>\n",
              "      <button class=\"colab-df-convert\" onclick=\"convertToInteractive('df-cceec48b-6158-4b21-afbd-f907e4a565ab')\"\n",
              "              title=\"Convert this dataframe to an interactive table.\"\n",
              "              style=\"display:none;\">\n",
              "        \n",
              "  <svg xmlns=\"http://www.w3.org/2000/svg\" height=\"24px\"viewBox=\"0 0 24 24\"\n",
              "       width=\"24px\">\n",
              "    <path d=\"M0 0h24v24H0V0z\" fill=\"none\"/>\n",
              "    <path d=\"M18.56 5.44l.94 2.06.94-2.06 2.06-.94-2.06-.94-.94-2.06-.94 2.06-2.06.94zm-11 1L8.5 8.5l.94-2.06 2.06-.94-2.06-.94L8.5 2.5l-.94 2.06-2.06.94zm10 10l.94 2.06.94-2.06 2.06-.94-2.06-.94-.94-2.06-.94 2.06-2.06.94z\"/><path d=\"M17.41 7.96l-1.37-1.37c-.4-.4-.92-.59-1.43-.59-.52 0-1.04.2-1.43.59L10.3 9.45l-7.72 7.72c-.78.78-.78 2.05 0 2.83L4 21.41c.39.39.9.59 1.41.59.51 0 1.02-.2 1.41-.59l7.78-7.78 2.81-2.81c.8-.78.8-2.07 0-2.86zM5.41 20L4 18.59l7.72-7.72 1.47 1.35L5.41 20z\"/>\n",
              "  </svg>\n",
              "      </button>\n",
              "      \n",
              "  <style>\n",
              "    .colab-df-container {\n",
              "      display:flex;\n",
              "      flex-wrap:wrap;\n",
              "      gap: 12px;\n",
              "    }\n",
              "\n",
              "    .colab-df-convert {\n",
              "      background-color: #E8F0FE;\n",
              "      border: none;\n",
              "      border-radius: 50%;\n",
              "      cursor: pointer;\n",
              "      display: none;\n",
              "      fill: #1967D2;\n",
              "      height: 32px;\n",
              "      padding: 0 0 0 0;\n",
              "      width: 32px;\n",
              "    }\n",
              "\n",
              "    .colab-df-convert:hover {\n",
              "      background-color: #E2EBFA;\n",
              "      box-shadow: 0px 1px 2px rgba(60, 64, 67, 0.3), 0px 1px 3px 1px rgba(60, 64, 67, 0.15);\n",
              "      fill: #174EA6;\n",
              "    }\n",
              "\n",
              "    [theme=dark] .colab-df-convert {\n",
              "      background-color: #3B4455;\n",
              "      fill: #D2E3FC;\n",
              "    }\n",
              "\n",
              "    [theme=dark] .colab-df-convert:hover {\n",
              "      background-color: #434B5C;\n",
              "      box-shadow: 0px 1px 3px 1px rgba(0, 0, 0, 0.15);\n",
              "      filter: drop-shadow(0px 1px 2px rgba(0, 0, 0, 0.3));\n",
              "      fill: #FFFFFF;\n",
              "    }\n",
              "  </style>\n",
              "\n",
              "      <script>\n",
              "        const buttonEl =\n",
              "          document.querySelector('#df-cceec48b-6158-4b21-afbd-f907e4a565ab button.colab-df-convert');\n",
              "        buttonEl.style.display =\n",
              "          google.colab.kernel.accessAllowed ? 'block' : 'none';\n",
              "\n",
              "        async function convertToInteractive(key) {\n",
              "          const element = document.querySelector('#df-cceec48b-6158-4b21-afbd-f907e4a565ab');\n",
              "          const dataTable =\n",
              "            await google.colab.kernel.invokeFunction('convertToInteractive',\n",
              "                                                     [key], {});\n",
              "          if (!dataTable) return;\n",
              "\n",
              "          const docLinkHtml = 'Like what you see? Visit the ' +\n",
              "            '<a target=\"_blank\" href=https://colab.research.google.com/notebooks/data_table.ipynb>data table notebook</a>'\n",
              "            + ' to learn more about interactive tables.';\n",
              "          element.innerHTML = '';\n",
              "          dataTable['output_type'] = 'display_data';\n",
              "          await google.colab.output.renderOutput(dataTable, element);\n",
              "          const docLink = document.createElement('div');\n",
              "          docLink.innerHTML = docLinkHtml;\n",
              "          element.appendChild(docLink);\n",
              "        }\n",
              "      </script>\n",
              "    </div>\n",
              "  </div>\n",
              "  "
            ]
          },
          "metadata": {},
          "execution_count": 9
        }
      ],
      "source": [
        "col = gpd.read_file(\"https://gist.githubusercontent.com/john-guerra/43c7656821069d00dcbc/raw/be6a6e239cd5b5b803c6e7c2ec405b793a9064dd/Colombia.geo.json\")\n",
        "col.head()"
      ],
      "id": "zgvRAgXKEIQC"
    },
    {
      "cell_type": "code",
      "source": [
        "col.shape"
      ],
      "metadata": {
        "colab": {
          "base_uri": "https://localhost:8080/"
        },
        "id": "8yWx8NIMUubk",
        "outputId": "69004f02-812b-456a-fb90-b5fbf10f92ec"
      },
      "id": "8yWx8NIMUubk",
      "execution_count": 10,
      "outputs": [
        {
          "output_type": "execute_result",
          "data": {
            "text/plain": [
              "(33, 6)"
            ]
          },
          "metadata": {},
          "execution_count": 10
        }
      ]
    },
    {
      "cell_type": "code",
      "execution_count": 11,
      "metadata": {
        "colab": {
          "base_uri": "https://localhost:8080/",
          "height": 206
        },
        "id": "hrOA_R_pEIQD",
        "outputId": "1352571d-eb19-446f-bcfa-0bdbbc48ad50"
      },
      "outputs": [
        {
          "output_type": "execute_result",
          "data": {
            "text/plain": [
              "              NOMBRE_DPT                                           geometry\n",
              "0              ANTIOQUIA  POLYGON ((-76.30730 8.61930, -76.29810 8.61640...\n",
              "1              ATLANTICO  POLYGON ((-74.87060 10.36120, -74.87640 10.343...\n",
              "2  SANTAFE DE BOGOTA D.C  POLYGON ((-74.02290 4.79510, -74.02640 4.78360...\n",
              "3                BOLIVAR  POLYGON ((-75.15950 10.42360, -75.15430 10.409...\n",
              "4                 BOYACA  POLYGON ((-72.21300 7.02750, -72.20610 7.02460..."
            ],
            "text/html": [
              "\n",
              "  <div id=\"df-80753379-dcd2-45ca-9e1d-79e154e2ae07\">\n",
              "    <div class=\"colab-df-container\">\n",
              "      <div>\n",
              "<style scoped>\n",
              "    .dataframe tbody tr th:only-of-type {\n",
              "        vertical-align: middle;\n",
              "    }\n",
              "\n",
              "    .dataframe tbody tr th {\n",
              "        vertical-align: top;\n",
              "    }\n",
              "\n",
              "    .dataframe thead th {\n",
              "        text-align: right;\n",
              "    }\n",
              "</style>\n",
              "<table border=\"1\" class=\"dataframe\">\n",
              "  <thead>\n",
              "    <tr style=\"text-align: right;\">\n",
              "      <th></th>\n",
              "      <th>NOMBRE_DPT</th>\n",
              "      <th>geometry</th>\n",
              "    </tr>\n",
              "  </thead>\n",
              "  <tbody>\n",
              "    <tr>\n",
              "      <th>0</th>\n",
              "      <td>ANTIOQUIA</td>\n",
              "      <td>POLYGON ((-76.30730 8.61930, -76.29810 8.61640...</td>\n",
              "    </tr>\n",
              "    <tr>\n",
              "      <th>1</th>\n",
              "      <td>ATLANTICO</td>\n",
              "      <td>POLYGON ((-74.87060 10.36120, -74.87640 10.343...</td>\n",
              "    </tr>\n",
              "    <tr>\n",
              "      <th>2</th>\n",
              "      <td>SANTAFE DE BOGOTA D.C</td>\n",
              "      <td>POLYGON ((-74.02290 4.79510, -74.02640 4.78360...</td>\n",
              "    </tr>\n",
              "    <tr>\n",
              "      <th>3</th>\n",
              "      <td>BOLIVAR</td>\n",
              "      <td>POLYGON ((-75.15950 10.42360, -75.15430 10.409...</td>\n",
              "    </tr>\n",
              "    <tr>\n",
              "      <th>4</th>\n",
              "      <td>BOYACA</td>\n",
              "      <td>POLYGON ((-72.21300 7.02750, -72.20610 7.02460...</td>\n",
              "    </tr>\n",
              "  </tbody>\n",
              "</table>\n",
              "</div>\n",
              "      <button class=\"colab-df-convert\" onclick=\"convertToInteractive('df-80753379-dcd2-45ca-9e1d-79e154e2ae07')\"\n",
              "              title=\"Convert this dataframe to an interactive table.\"\n",
              "              style=\"display:none;\">\n",
              "        \n",
              "  <svg xmlns=\"http://www.w3.org/2000/svg\" height=\"24px\"viewBox=\"0 0 24 24\"\n",
              "       width=\"24px\">\n",
              "    <path d=\"M0 0h24v24H0V0z\" fill=\"none\"/>\n",
              "    <path d=\"M18.56 5.44l.94 2.06.94-2.06 2.06-.94-2.06-.94-.94-2.06-.94 2.06-2.06.94zm-11 1L8.5 8.5l.94-2.06 2.06-.94-2.06-.94L8.5 2.5l-.94 2.06-2.06.94zm10 10l.94 2.06.94-2.06 2.06-.94-2.06-.94-.94-2.06-.94 2.06-2.06.94z\"/><path d=\"M17.41 7.96l-1.37-1.37c-.4-.4-.92-.59-1.43-.59-.52 0-1.04.2-1.43.59L10.3 9.45l-7.72 7.72c-.78.78-.78 2.05 0 2.83L4 21.41c.39.39.9.59 1.41.59.51 0 1.02-.2 1.41-.59l7.78-7.78 2.81-2.81c.8-.78.8-2.07 0-2.86zM5.41 20L4 18.59l7.72-7.72 1.47 1.35L5.41 20z\"/>\n",
              "  </svg>\n",
              "      </button>\n",
              "      \n",
              "  <style>\n",
              "    .colab-df-container {\n",
              "      display:flex;\n",
              "      flex-wrap:wrap;\n",
              "      gap: 12px;\n",
              "    }\n",
              "\n",
              "    .colab-df-convert {\n",
              "      background-color: #E8F0FE;\n",
              "      border: none;\n",
              "      border-radius: 50%;\n",
              "      cursor: pointer;\n",
              "      display: none;\n",
              "      fill: #1967D2;\n",
              "      height: 32px;\n",
              "      padding: 0 0 0 0;\n",
              "      width: 32px;\n",
              "    }\n",
              "\n",
              "    .colab-df-convert:hover {\n",
              "      background-color: #E2EBFA;\n",
              "      box-shadow: 0px 1px 2px rgba(60, 64, 67, 0.3), 0px 1px 3px 1px rgba(60, 64, 67, 0.15);\n",
              "      fill: #174EA6;\n",
              "    }\n",
              "\n",
              "    [theme=dark] .colab-df-convert {\n",
              "      background-color: #3B4455;\n",
              "      fill: #D2E3FC;\n",
              "    }\n",
              "\n",
              "    [theme=dark] .colab-df-convert:hover {\n",
              "      background-color: #434B5C;\n",
              "      box-shadow: 0px 1px 3px 1px rgba(0, 0, 0, 0.15);\n",
              "      filter: drop-shadow(0px 1px 2px rgba(0, 0, 0, 0.3));\n",
              "      fill: #FFFFFF;\n",
              "    }\n",
              "  </style>\n",
              "\n",
              "      <script>\n",
              "        const buttonEl =\n",
              "          document.querySelector('#df-80753379-dcd2-45ca-9e1d-79e154e2ae07 button.colab-df-convert');\n",
              "        buttonEl.style.display =\n",
              "          google.colab.kernel.accessAllowed ? 'block' : 'none';\n",
              "\n",
              "        async function convertToInteractive(key) {\n",
              "          const element = document.querySelector('#df-80753379-dcd2-45ca-9e1d-79e154e2ae07');\n",
              "          const dataTable =\n",
              "            await google.colab.kernel.invokeFunction('convertToInteractive',\n",
              "                                                     [key], {});\n",
              "          if (!dataTable) return;\n",
              "\n",
              "          const docLinkHtml = 'Like what you see? Visit the ' +\n",
              "            '<a target=\"_blank\" href=https://colab.research.google.com/notebooks/data_table.ipynb>data table notebook</a>'\n",
              "            + ' to learn more about interactive tables.';\n",
              "          element.innerHTML = '';\n",
              "          dataTable['output_type'] = 'display_data';\n",
              "          await google.colab.output.renderOutput(dataTable, element);\n",
              "          const docLink = document.createElement('div');\n",
              "          docLink.innerHTML = docLinkHtml;\n",
              "          element.appendChild(docLink);\n",
              "        }\n",
              "      </script>\n",
              "    </div>\n",
              "  </div>\n",
              "  "
            ]
          },
          "metadata": {},
          "execution_count": 11
        }
      ],
      "source": [
        "tokeep = [\"NOMBRE_DPT\",\"geometry\"]\n",
        "datos_polygons = col[tokeep]\n",
        "datos_polygons.head()"
      ],
      "id": "hrOA_R_pEIQD"
    },
    {
      "cell_type": "code",
      "execution_count": 12,
      "metadata": {
        "colab": {
          "base_uri": "https://localhost:8080/",
          "height": 81
        },
        "id": "wtM-HYxnEIQE",
        "outputId": "bead10b1-b74a-44ca-fcaa-b8ce1030525b"
      },
      "outputs": [
        {
          "output_type": "execute_result",
          "data": {
            "text/plain": [
              "  NOMBRE_DPT                                           geometry\n",
              "0  ANTIOQUIA  POLYGON ((-76.30730 8.61930, -76.29810 8.61640..."
            ],
            "text/html": [
              "\n",
              "  <div id=\"df-801222b4-a359-4ba7-9ecb-1751bb5aafda\">\n",
              "    <div class=\"colab-df-container\">\n",
              "      <div>\n",
              "<style scoped>\n",
              "    .dataframe tbody tr th:only-of-type {\n",
              "        vertical-align: middle;\n",
              "    }\n",
              "\n",
              "    .dataframe tbody tr th {\n",
              "        vertical-align: top;\n",
              "    }\n",
              "\n",
              "    .dataframe thead th {\n",
              "        text-align: right;\n",
              "    }\n",
              "</style>\n",
              "<table border=\"1\" class=\"dataframe\">\n",
              "  <thead>\n",
              "    <tr style=\"text-align: right;\">\n",
              "      <th></th>\n",
              "      <th>NOMBRE_DPT</th>\n",
              "      <th>geometry</th>\n",
              "    </tr>\n",
              "  </thead>\n",
              "  <tbody>\n",
              "    <tr>\n",
              "      <th>0</th>\n",
              "      <td>ANTIOQUIA</td>\n",
              "      <td>POLYGON ((-76.30730 8.61930, -76.29810 8.61640...</td>\n",
              "    </tr>\n",
              "  </tbody>\n",
              "</table>\n",
              "</div>\n",
              "      <button class=\"colab-df-convert\" onclick=\"convertToInteractive('df-801222b4-a359-4ba7-9ecb-1751bb5aafda')\"\n",
              "              title=\"Convert this dataframe to an interactive table.\"\n",
              "              style=\"display:none;\">\n",
              "        \n",
              "  <svg xmlns=\"http://www.w3.org/2000/svg\" height=\"24px\"viewBox=\"0 0 24 24\"\n",
              "       width=\"24px\">\n",
              "    <path d=\"M0 0h24v24H0V0z\" fill=\"none\"/>\n",
              "    <path d=\"M18.56 5.44l.94 2.06.94-2.06 2.06-.94-2.06-.94-.94-2.06-.94 2.06-2.06.94zm-11 1L8.5 8.5l.94-2.06 2.06-.94-2.06-.94L8.5 2.5l-.94 2.06-2.06.94zm10 10l.94 2.06.94-2.06 2.06-.94-2.06-.94-.94-2.06-.94 2.06-2.06.94z\"/><path d=\"M17.41 7.96l-1.37-1.37c-.4-.4-.92-.59-1.43-.59-.52 0-1.04.2-1.43.59L10.3 9.45l-7.72 7.72c-.78.78-.78 2.05 0 2.83L4 21.41c.39.39.9.59 1.41.59.51 0 1.02-.2 1.41-.59l7.78-7.78 2.81-2.81c.8-.78.8-2.07 0-2.86zM5.41 20L4 18.59l7.72-7.72 1.47 1.35L5.41 20z\"/>\n",
              "  </svg>\n",
              "      </button>\n",
              "      \n",
              "  <style>\n",
              "    .colab-df-container {\n",
              "      display:flex;\n",
              "      flex-wrap:wrap;\n",
              "      gap: 12px;\n",
              "    }\n",
              "\n",
              "    .colab-df-convert {\n",
              "      background-color: #E8F0FE;\n",
              "      border: none;\n",
              "      border-radius: 50%;\n",
              "      cursor: pointer;\n",
              "      display: none;\n",
              "      fill: #1967D2;\n",
              "      height: 32px;\n",
              "      padding: 0 0 0 0;\n",
              "      width: 32px;\n",
              "    }\n",
              "\n",
              "    .colab-df-convert:hover {\n",
              "      background-color: #E2EBFA;\n",
              "      box-shadow: 0px 1px 2px rgba(60, 64, 67, 0.3), 0px 1px 3px 1px rgba(60, 64, 67, 0.15);\n",
              "      fill: #174EA6;\n",
              "    }\n",
              "\n",
              "    [theme=dark] .colab-df-convert {\n",
              "      background-color: #3B4455;\n",
              "      fill: #D2E3FC;\n",
              "    }\n",
              "\n",
              "    [theme=dark] .colab-df-convert:hover {\n",
              "      background-color: #434B5C;\n",
              "      box-shadow: 0px 1px 3px 1px rgba(0, 0, 0, 0.15);\n",
              "      filter: drop-shadow(0px 1px 2px rgba(0, 0, 0, 0.3));\n",
              "      fill: #FFFFFF;\n",
              "    }\n",
              "  </style>\n",
              "\n",
              "      <script>\n",
              "        const buttonEl =\n",
              "          document.querySelector('#df-801222b4-a359-4ba7-9ecb-1751bb5aafda button.colab-df-convert');\n",
              "        buttonEl.style.display =\n",
              "          google.colab.kernel.accessAllowed ? 'block' : 'none';\n",
              "\n",
              "        async function convertToInteractive(key) {\n",
              "          const element = document.querySelector('#df-801222b4-a359-4ba7-9ecb-1751bb5aafda');\n",
              "          const dataTable =\n",
              "            await google.colab.kernel.invokeFunction('convertToInteractive',\n",
              "                                                     [key], {});\n",
              "          if (!dataTable) return;\n",
              "\n",
              "          const docLinkHtml = 'Like what you see? Visit the ' +\n",
              "            '<a target=\"_blank\" href=https://colab.research.google.com/notebooks/data_table.ipynb>data table notebook</a>'\n",
              "            + ' to learn more about interactive tables.';\n",
              "          element.innerHTML = '';\n",
              "          dataTable['output_type'] = 'display_data';\n",
              "          await google.colab.output.renderOutput(dataTable, element);\n",
              "          const docLink = document.createElement('div');\n",
              "          docLink.innerHTML = docLinkHtml;\n",
              "          element.appendChild(docLink);\n",
              "        }\n",
              "      </script>\n",
              "    </div>\n",
              "  </div>\n",
              "  "
            ]
          },
          "metadata": {},
          "execution_count": 12
        }
      ],
      "source": [
        "datos_polygons_ant = datos_polygons.query('NOMBRE_DPT == \"ANTIOQUIA\"')\n",
        "datos_polygons_ant"
      ],
      "id": "wtM-HYxnEIQE"
    },
    {
      "cell_type": "markdown",
      "metadata": {
        "id": "tgRVaIljEIQF"
      },
      "source": [
        "# Comunas de medellín"
      ],
      "id": "tgRVaIljEIQF"
    },
    {
      "cell_type": "code",
      "source": [
        "#comunas = gpd.read_file(\"https://www.medellin.gov.co/mapas/rest/services/ServiciosPlaneacion/POT48_Base/MapServer/3/query?where=1%3D1&outFields=*&outSR=4326&f=json\")\n",
        "comunas = gpd.read_file('comunas.txt')\n",
        "comunas.head()"
      ],
      "metadata": {
        "colab": {
          "base_uri": "https://localhost:8080/",
          "height": 424
        },
        "id": "elcFp6lmOZ5O",
        "outputId": "4ae6dc52-6687-41ed-a162-1b4d58952052"
      },
      "id": "elcFp6lmOZ5O",
      "execution_count": 65,
      "outputs": [
        {
          "output_type": "execute_result",
          "data": {
            "text/plain": [
              "   OBJECTID CODIGO      NOMBRE IDENTIFICACION LIMITEMUNICIPIOID  \\\n",
              "0       344     01     Popular       Comuna 1               001   \n",
              "1       345     02  Santa Cruz       Comuna 2               001   \n",
              "2       346     03    Manrique       Comuna 3               001   \n",
              "3       347     04    Aranjuez       Comuna 4               001   \n",
              "4       348     05    Castilla       Comuna 5               001   \n",
              "\n",
              "   SUBTIPO_COMUNACORREGIMIENTO  LINK_DOCUMENTO    SHAPE.AREA     SHAPE.LEN  \\\n",
              "0                            1             NaN  3.098286e+06   9604.982975   \n",
              "1                            1             NaN  2.195872e+06   8597.709005   \n",
              "2                            1             NaN  5.096745e+06  12078.235158   \n",
              "3                            1             NaN  4.883730e+06   9643.087768   \n",
              "4                            1             NaN  6.064362e+06  16098.607962   \n",
              "\n",
              "                                            geometry  \n",
              "0  POLYGON ((-75.54803 6.30436, -75.54795 6.30431...  \n",
              "1  POLYGON ((-75.55703 6.31007, -75.55699 6.31003...  \n",
              "2  POLYGON ((-75.54252 6.28632, -75.54252 6.28632...  \n",
              "3  POLYGON ((-75.56229 6.29126, -75.56221 6.29125...  \n",
              "4  POLYGON ((-75.56566 6.31261, -75.56559 6.31259...  "
            ],
            "text/html": [
              "\n",
              "  <div id=\"df-156cba00-1463-4bc7-aff3-4a4b60c7d35a\">\n",
              "    <div class=\"colab-df-container\">\n",
              "      <div>\n",
              "<style scoped>\n",
              "    .dataframe tbody tr th:only-of-type {\n",
              "        vertical-align: middle;\n",
              "    }\n",
              "\n",
              "    .dataframe tbody tr th {\n",
              "        vertical-align: top;\n",
              "    }\n",
              "\n",
              "    .dataframe thead th {\n",
              "        text-align: right;\n",
              "    }\n",
              "</style>\n",
              "<table border=\"1\" class=\"dataframe\">\n",
              "  <thead>\n",
              "    <tr style=\"text-align: right;\">\n",
              "      <th></th>\n",
              "      <th>OBJECTID</th>\n",
              "      <th>CODIGO</th>\n",
              "      <th>NOMBRE</th>\n",
              "      <th>IDENTIFICACION</th>\n",
              "      <th>LIMITEMUNICIPIOID</th>\n",
              "      <th>SUBTIPO_COMUNACORREGIMIENTO</th>\n",
              "      <th>LINK_DOCUMENTO</th>\n",
              "      <th>SHAPE.AREA</th>\n",
              "      <th>SHAPE.LEN</th>\n",
              "      <th>geometry</th>\n",
              "    </tr>\n",
              "  </thead>\n",
              "  <tbody>\n",
              "    <tr>\n",
              "      <th>0</th>\n",
              "      <td>344</td>\n",
              "      <td>01</td>\n",
              "      <td>Popular</td>\n",
              "      <td>Comuna 1</td>\n",
              "      <td>001</td>\n",
              "      <td>1</td>\n",
              "      <td>NaN</td>\n",
              "      <td>3.098286e+06</td>\n",
              "      <td>9604.982975</td>\n",
              "      <td>POLYGON ((-75.54803 6.30436, -75.54795 6.30431...</td>\n",
              "    </tr>\n",
              "    <tr>\n",
              "      <th>1</th>\n",
              "      <td>345</td>\n",
              "      <td>02</td>\n",
              "      <td>Santa Cruz</td>\n",
              "      <td>Comuna 2</td>\n",
              "      <td>001</td>\n",
              "      <td>1</td>\n",
              "      <td>NaN</td>\n",
              "      <td>2.195872e+06</td>\n",
              "      <td>8597.709005</td>\n",
              "      <td>POLYGON ((-75.55703 6.31007, -75.55699 6.31003...</td>\n",
              "    </tr>\n",
              "    <tr>\n",
              "      <th>2</th>\n",
              "      <td>346</td>\n",
              "      <td>03</td>\n",
              "      <td>Manrique</td>\n",
              "      <td>Comuna 3</td>\n",
              "      <td>001</td>\n",
              "      <td>1</td>\n",
              "      <td>NaN</td>\n",
              "      <td>5.096745e+06</td>\n",
              "      <td>12078.235158</td>\n",
              "      <td>POLYGON ((-75.54252 6.28632, -75.54252 6.28632...</td>\n",
              "    </tr>\n",
              "    <tr>\n",
              "      <th>3</th>\n",
              "      <td>347</td>\n",
              "      <td>04</td>\n",
              "      <td>Aranjuez</td>\n",
              "      <td>Comuna 4</td>\n",
              "      <td>001</td>\n",
              "      <td>1</td>\n",
              "      <td>NaN</td>\n",
              "      <td>4.883730e+06</td>\n",
              "      <td>9643.087768</td>\n",
              "      <td>POLYGON ((-75.56229 6.29126, -75.56221 6.29125...</td>\n",
              "    </tr>\n",
              "    <tr>\n",
              "      <th>4</th>\n",
              "      <td>348</td>\n",
              "      <td>05</td>\n",
              "      <td>Castilla</td>\n",
              "      <td>Comuna 5</td>\n",
              "      <td>001</td>\n",
              "      <td>1</td>\n",
              "      <td>NaN</td>\n",
              "      <td>6.064362e+06</td>\n",
              "      <td>16098.607962</td>\n",
              "      <td>POLYGON ((-75.56566 6.31261, -75.56559 6.31259...</td>\n",
              "    </tr>\n",
              "  </tbody>\n",
              "</table>\n",
              "</div>\n",
              "      <button class=\"colab-df-convert\" onclick=\"convertToInteractive('df-156cba00-1463-4bc7-aff3-4a4b60c7d35a')\"\n",
              "              title=\"Convert this dataframe to an interactive table.\"\n",
              "              style=\"display:none;\">\n",
              "        \n",
              "  <svg xmlns=\"http://www.w3.org/2000/svg\" height=\"24px\"viewBox=\"0 0 24 24\"\n",
              "       width=\"24px\">\n",
              "    <path d=\"M0 0h24v24H0V0z\" fill=\"none\"/>\n",
              "    <path d=\"M18.56 5.44l.94 2.06.94-2.06 2.06-.94-2.06-.94-.94-2.06-.94 2.06-2.06.94zm-11 1L8.5 8.5l.94-2.06 2.06-.94-2.06-.94L8.5 2.5l-.94 2.06-2.06.94zm10 10l.94 2.06.94-2.06 2.06-.94-2.06-.94-.94-2.06-.94 2.06-2.06.94z\"/><path d=\"M17.41 7.96l-1.37-1.37c-.4-.4-.92-.59-1.43-.59-.52 0-1.04.2-1.43.59L10.3 9.45l-7.72 7.72c-.78.78-.78 2.05 0 2.83L4 21.41c.39.39.9.59 1.41.59.51 0 1.02-.2 1.41-.59l7.78-7.78 2.81-2.81c.8-.78.8-2.07 0-2.86zM5.41 20L4 18.59l7.72-7.72 1.47 1.35L5.41 20z\"/>\n",
              "  </svg>\n",
              "      </button>\n",
              "      \n",
              "  <style>\n",
              "    .colab-df-container {\n",
              "      display:flex;\n",
              "      flex-wrap:wrap;\n",
              "      gap: 12px;\n",
              "    }\n",
              "\n",
              "    .colab-df-convert {\n",
              "      background-color: #E8F0FE;\n",
              "      border: none;\n",
              "      border-radius: 50%;\n",
              "      cursor: pointer;\n",
              "      display: none;\n",
              "      fill: #1967D2;\n",
              "      height: 32px;\n",
              "      padding: 0 0 0 0;\n",
              "      width: 32px;\n",
              "    }\n",
              "\n",
              "    .colab-df-convert:hover {\n",
              "      background-color: #E2EBFA;\n",
              "      box-shadow: 0px 1px 2px rgba(60, 64, 67, 0.3), 0px 1px 3px 1px rgba(60, 64, 67, 0.15);\n",
              "      fill: #174EA6;\n",
              "    }\n",
              "\n",
              "    [theme=dark] .colab-df-convert {\n",
              "      background-color: #3B4455;\n",
              "      fill: #D2E3FC;\n",
              "    }\n",
              "\n",
              "    [theme=dark] .colab-df-convert:hover {\n",
              "      background-color: #434B5C;\n",
              "      box-shadow: 0px 1px 3px 1px rgba(0, 0, 0, 0.15);\n",
              "      filter: drop-shadow(0px 1px 2px rgba(0, 0, 0, 0.3));\n",
              "      fill: #FFFFFF;\n",
              "    }\n",
              "  </style>\n",
              "\n",
              "      <script>\n",
              "        const buttonEl =\n",
              "          document.querySelector('#df-156cba00-1463-4bc7-aff3-4a4b60c7d35a button.colab-df-convert');\n",
              "        buttonEl.style.display =\n",
              "          google.colab.kernel.accessAllowed ? 'block' : 'none';\n",
              "\n",
              "        async function convertToInteractive(key) {\n",
              "          const element = document.querySelector('#df-156cba00-1463-4bc7-aff3-4a4b60c7d35a');\n",
              "          const dataTable =\n",
              "            await google.colab.kernel.invokeFunction('convertToInteractive',\n",
              "                                                     [key], {});\n",
              "          if (!dataTable) return;\n",
              "\n",
              "          const docLinkHtml = 'Like what you see? Visit the ' +\n",
              "            '<a target=\"_blank\" href=https://colab.research.google.com/notebooks/data_table.ipynb>data table notebook</a>'\n",
              "            + ' to learn more about interactive tables.';\n",
              "          element.innerHTML = '';\n",
              "          dataTable['output_type'] = 'display_data';\n",
              "          await google.colab.output.renderOutput(dataTable, element);\n",
              "          const docLink = document.createElement('div');\n",
              "          docLink.innerHTML = docLinkHtml;\n",
              "          element.appendChild(docLink);\n",
              "        }\n",
              "      </script>\n",
              "    </div>\n",
              "  </div>\n",
              "  "
            ]
          },
          "metadata": {},
          "execution_count": 65
        }
      ]
    },
    {
      "cell_type": "code",
      "source": [
        "type(comunas)"
      ],
      "metadata": {
        "colab": {
          "base_uri": "https://localhost:8080/"
        },
        "id": "MjvXYVcYQ1lh",
        "outputId": "9a4f77a5-628d-4299-81aa-0c2702f19b56"
      },
      "id": "MjvXYVcYQ1lh",
      "execution_count": 66,
      "outputs": [
        {
          "output_type": "execute_result",
          "data": {
            "text/plain": [
              "geopandas.geodataframe.GeoDataFrame"
            ]
          },
          "metadata": {},
          "execution_count": 66
        }
      ]
    },
    {
      "cell_type": "code",
      "source": [
        "comunas.shape"
      ],
      "metadata": {
        "colab": {
          "base_uri": "https://localhost:8080/"
        },
        "id": "FcfYAFQRO8jF",
        "outputId": "0adc6ba8-66a7-4740-f659-08ad7adaca4a"
      },
      "id": "FcfYAFQRO8jF",
      "execution_count": 67,
      "outputs": [
        {
          "output_type": "execute_result",
          "data": {
            "text/plain": [
              "(23, 10)"
            ]
          },
          "metadata": {},
          "execution_count": 67
        }
      ]
    },
    {
      "cell_type": "code",
      "source": [
        "# Plot comunas en mapa de Antioquia\n",
        "ax = comunas.set_geometry('geometry').plot('CODIGO', markersize=50, figsize=(10,10), legend= True)\n",
        "datos_polygons_ant.plot('NOMBRE_DPT',ax = ax, facecolor='none', edgecolor='k', linewidth=2)\n",
        "plt.title('Comunas en Medellín')\n",
        "plt.ylabel('Latitud')\n",
        "plt.xlabel('Longitud');"
      ],
      "metadata": {
        "colab": {
          "base_uri": "https://localhost:8080/",
          "height": 621
        },
        "id": "ZXKH97dZMEY0",
        "outputId": "cfa0ff1f-ba16-4cf3-92cf-f6c2052ff6a4"
      },
      "id": "ZXKH97dZMEY0",
      "execution_count": 68,
      "outputs": [
        {
          "output_type": "display_data",
          "data": {
            "text/plain": [
              "<Figure size 720x720 with 1 Axes>"
            ],
            "image/png": "[encoded data removed]"
          },
          "metadata": {
            "needs_background": "light"
          }
        }
      ]
    },
    {
      "cell_type": "code",
      "source": [
        "direcciones = pd.read_excel(\"direcciones.xlsx\")\n",
        "direcciones.head()"
      ],
      "metadata": {
        "colab": {
          "base_uri": "https://localhost:8080/",
          "height": 206
        },
        "id": "pokMm2JqvmBq",
        "outputId": "9ce82ed8-596e-4f01-e65e-c10d5db2d580"
      },
      "id": "pokMm2JqvmBq",
      "execution_count": 140,
      "outputs": [
        {
          "output_type": "execute_result",
          "data": {
            "text/plain": [
              "   Numero            Guia                                          Direccion  \\\n",
              "0       1  85910400503861                           CALLE 74 B # 87 I 36 SUR   \n",
              "1       2  85910400505842        CRA 89 A BIS # 80 19 SUR BOSA SANBERNARDINO   \n",
              "2       3  85910400503645  KRA 100A # 73-14 SUR BOSA RECREO VILLAS DE VIZ...   \n",
              "3       4  85910400501649    CARRERA 80 M #74C 30 SUR CASA BOSA LAURELES  -    \n",
              "4       5  85910400505019  Calle 65 sur 102 - 51 Santa Monica 5 Casa 194 ...   \n",
              "\n",
              "  Ciudad_Destino   Longitud   Latitud  \n",
              "0         Bogota -74.201573  4.620067  \n",
              "1         Bogota -74.206462  4.623023  \n",
              "2         Bogota -74.205900  4.634086  \n",
              "3         Bogota -74.202180  4.609949  \n",
              "4         Bogota -74.201495  4.638412  "
            ],
            "text/html": [
              "\n",
              "  <div id=\"df-4ad86607-7e62-4ab2-beee-ff9af351ea48\">\n",
              "    <div class=\"colab-df-container\">\n",
              "      <div>\n",
              "<style scoped>\n",
              "    .dataframe tbody tr th:only-of-type {\n",
              "        vertical-align: middle;\n",
              "    }\n",
              "\n",
              "    .dataframe tbody tr th {\n",
              "        vertical-align: top;\n",
              "    }\n",
              "\n",
              "    .dataframe thead th {\n",
              "        text-align: right;\n",
              "    }\n",
              "</style>\n",
              "<table border=\"1\" class=\"dataframe\">\n",
              "  <thead>\n",
              "    <tr style=\"text-align: right;\">\n",
              "      <th></th>\n",
              "      <th>Numero</th>\n",
              "      <th>Guia</th>\n",
              "      <th>Direccion</th>\n",
              "      <th>Ciudad_Destino</th>\n",
              "      <th>Longitud</th>\n",
              "      <th>Latitud</th>\n",
              "    </tr>\n",
              "  </thead>\n",
              "  <tbody>\n",
              "    <tr>\n",
              "      <th>0</th>\n",
              "      <td>1</td>\n",
              "      <td>85910400503861</td>\n",
              "      <td>CALLE 74 B # 87 I 36 SUR</td>\n",
              "      <td>Bogota</td>\n",
              "      <td>-74.201573</td>\n",
              "      <td>4.620067</td>\n",
              "    </tr>\n",
              "    <tr>\n",
              "      <th>1</th>\n",
              "      <td>2</td>\n",
              "      <td>85910400505842</td>\n",
              "      <td>CRA 89 A BIS # 80 19 SUR BOSA SANBERNARDINO</td>\n",
              "      <td>Bogota</td>\n",
              "      <td>-74.206462</td>\n",
              "      <td>4.623023</td>\n",
              "    </tr>\n",
              "    <tr>\n",
              "      <th>2</th>\n",
              "      <td>3</td>\n",
              "      <td>85910400503645</td>\n",
              "      <td>KRA 100A # 73-14 SUR BOSA RECREO VILLAS DE VIZ...</td>\n",
              "      <td>Bogota</td>\n",
              "      <td>-74.205900</td>\n",
              "      <td>4.634086</td>\n",
              "    </tr>\n",
              "    <tr>\n",
              "      <th>3</th>\n",
              "      <td>4</td>\n",
              "      <td>85910400501649</td>\n",
              "      <td>CARRERA 80 M #74C 30 SUR CASA BOSA LAURELES  -</td>\n",
              "      <td>Bogota</td>\n",
              "      <td>-74.202180</td>\n",
              "      <td>4.609949</td>\n",
              "    </tr>\n",
              "    <tr>\n",
              "      <th>4</th>\n",
              "      <td>5</td>\n",
              "      <td>85910400505019</td>\n",
              "      <td>Calle 65 sur 102 - 51 Santa Monica 5 Casa 194 ...</td>\n",
              "      <td>Bogota</td>\n",
              "      <td>-74.201495</td>\n",
              "      <td>4.638412</td>\n",
              "    </tr>\n",
              "  </tbody>\n",
              "</table>\n",
              "</div>\n",
              "      <button class=\"colab-df-convert\" onclick=\"convertToInteractive('df-4ad86607-7e62-4ab2-beee-ff9af351ea48')\"\n",
              "              title=\"Convert this dataframe to an interactive table.\"\n",
              "              style=\"display:none;\">\n",
              "        \n",
              "  <svg xmlns=\"http://www.w3.org/2000/svg\" height=\"24px\"viewBox=\"0 0 24 24\"\n",
              "       width=\"24px\">\n",
              "    <path d=\"M0 0h24v24H0V0z\" fill=\"none\"/>\n",
              "    <path d=\"M18.56 5.44l.94 2.06.94-2.06 2.06-.94-2.06-.94-.94-2.06-.94 2.06-2.06.94zm-11 1L8.5 8.5l.94-2.06 2.06-.94-2.06-.94L8.5 2.5l-.94 2.06-2.06.94zm10 10l.94 2.06.94-2.06 2.06-.94-2.06-.94-.94-2.06-.94 2.06-2.06.94z\"/><path d=\"M17.41 7.96l-1.37-1.37c-.4-.4-.92-.59-1.43-.59-.52 0-1.04.2-1.43.59L10.3 9.45l-7.72 7.72c-.78.78-.78 2.05 0 2.83L4 21.41c.39.39.9.59 1.41.59.51 0 1.02-.2 1.41-.59l7.78-7.78 2.81-2.81c.8-.78.8-2.07 0-2.86zM5.41 20L4 18.59l7.72-7.72 1.47 1.35L5.41 20z\"/>\n",
              "  </svg>\n",
              "      </button>\n",
              "      \n",
              "  <style>\n",
              "    .colab-df-container {\n",
              "      display:flex;\n",
              "      flex-wrap:wrap;\n",
              "      gap: 12px;\n",
              "    }\n",
              "\n",
              "    .colab-df-convert {\n",
              "      background-color: #E8F0FE;\n",
              "      border: none;\n",
              "      border-radius: 50%;\n",
              "      cursor: pointer;\n",
              "      display: none;\n",
              "      fill: #1967D2;\n",
              "      height: 32px;\n",
              "      padding: 0 0 0 0;\n",
              "      width: 32px;\n",
              "    }\n",
              "\n",
              "    .colab-df-convert:hover {\n",
              "      background-color: #E2EBFA;\n",
              "      box-shadow: 0px 1px 2px rgba(60, 64, 67, 0.3), 0px 1px 3px 1px rgba(60, 64, 67, 0.15);\n",
              "      fill: #174EA6;\n",
              "    }\n",
              "\n",
              "    [theme=dark] .colab-df-convert {\n",
              "      background-color: #3B4455;\n",
              "      fill: #D2E3FC;\n",
              "    }\n",
              "\n",
              "    [theme=dark] .colab-df-convert:hover {\n",
              "      background-color: #434B5C;\n",
              "      box-shadow: 0px 1px 3px 1px rgba(0, 0, 0, 0.15);\n",
              "      filter: drop-shadow(0px 1px 2px rgba(0, 0, 0, 0.3));\n",
              "      fill: #FFFFFF;\n",
              "    }\n",
              "  </style>\n",
              "\n",
              "      <script>\n",
              "        const buttonEl =\n",
              "          document.querySelector('#df-4ad86607-7e62-4ab2-beee-ff9af351ea48 button.colab-df-convert');\n",
              "        buttonEl.style.display =\n",
              "          google.colab.kernel.accessAllowed ? 'block' : 'none';\n",
              "\n",
              "        async function convertToInteractive(key) {\n",
              "          const element = document.querySelector('#df-4ad86607-7e62-4ab2-beee-ff9af351ea48');\n",
              "          const dataTable =\n",
              "            await google.colab.kernel.invokeFunction('convertToInteractive',\n",
              "                                                     [key], {});\n",
              "          if (!dataTable) return;\n",
              "\n",
              "          const docLinkHtml = 'Like what you see? Visit the ' +\n",
              "            '<a target=\"_blank\" href=https://colab.research.google.com/notebooks/data_table.ipynb>data table notebook</a>'\n",
              "            + ' to learn more about interactive tables.';\n",
              "          element.innerHTML = '';\n",
              "          dataTable['output_type'] = 'display_data';\n",
              "          await google.colab.output.renderOutput(dataTable, element);\n",
              "          const docLink = document.createElement('div');\n",
              "          docLink.innerHTML = docLinkHtml;\n",
              "          element.appendChild(docLink);\n",
              "        }\n",
              "      </script>\n",
              "    </div>\n",
              "  </div>\n",
              "  "
            ]
          },
          "metadata": {},
          "execution_count": 140
        }
      ]
    },
    {
      "cell_type": "code",
      "source": [
        "direcciones.info()"
      ],
      "metadata": {
        "colab": {
          "base_uri": "https://localhost:8080/"
        },
        "id": "UdrsUTRCrksS",
        "outputId": "e496c1d9-00ea-4533-d044-a68896bf6175"
      },
      "id": "UdrsUTRCrksS",
      "execution_count": 141,
      "outputs": [
        {
          "output_type": "stream",
          "name": "stdout",
          "text": [
            "<class 'pandas.core.frame.DataFrame'>\n",
            "RangeIndex: 1396 entries, 0 to 1395\n",
            "Data columns (total 6 columns):\n",
            " #   Column          Non-Null Count  Dtype  \n",
            "---  ------          --------------  -----  \n",
            " 0   Numero          1396 non-null   int64  \n",
            " 1   Guia            1396 non-null   int64  \n",
            " 2   Direccion       1396 non-null   object \n",
            " 3   Ciudad_Destino  1396 non-null   object \n",
            " 4   Longitud        1396 non-null   float64\n",
            " 5   Latitud         1396 non-null   float64\n",
            "dtypes: float64(2), int64(2), object(2)\n",
            "memory usage: 65.6+ KB\n"
          ]
        }
      ]
    },
    {
      "cell_type": "code",
      "source": [
        "dir_med = direcciones[direcciones['Ciudad_Destino'] ==\"MEDELLIN\"]\n",
        "dir_med = dir_med[dir_med['Longitud'] < 0]\n",
        "dir_med.head()"
      ],
      "metadata": {
        "colab": {
          "base_uri": "https://localhost:8080/",
          "height": 206
        },
        "id": "lfwoESWYinP6",
        "outputId": "682c9b03-8c6a-43b2-875a-9846a0d9b825"
      },
      "id": "lfwoESWYinP6",
      "execution_count": 142,
      "outputs": [
        {
          "output_type": "execute_result",
          "data": {
            "text/plain": [
              "     Numero      Guia                Direccion Ciudad_Destino   Longitud  \\\n",
              "113     114  43655646      CL 107 B CR 42 B 36       MEDELLIN -75.548154   \n",
              "114     115  43660571           CL 107 A 45 33       MEDELLIN -75.550772   \n",
              "115     116  43654197            CL 120 49 C 8       MEDELLIN -75.551840   \n",
              "116     117  43658310  CR 49 A 107 160 IN 1881       MEDELLIN -75.553070   \n",
              "117     118  43660538           CL 125 50 E 23       MEDELLIN -75.553762   \n",
              "\n",
              "      Latitud  \n",
              "113  6.295546  \n",
              "114  6.295817  \n",
              "115  6.304134  \n",
              "116  6.298838  \n",
              "117  6.307220  "
            ],
            "text/html": [
              "\n",
              "  <div id=\"df-9b93069d-8612-4c38-9b34-955db59c54db\">\n",
              "    <div class=\"colab-df-container\">\n",
              "      <div>\n",
              "<style scoped>\n",
              "    .dataframe tbody tr th:only-of-type {\n",
              "        vertical-align: middle;\n",
              "    }\n",
              "\n",
              "    .dataframe tbody tr th {\n",
              "        vertical-align: top;\n",
              "    }\n",
              "\n",
              "    .dataframe thead th {\n",
              "        text-align: right;\n",
              "    }\n",
              "</style>\n",
              "<table border=\"1\" class=\"dataframe\">\n",
              "  <thead>\n",
              "    <tr style=\"text-align: right;\">\n",
              "      <th></th>\n",
              "      <th>Numero</th>\n",
              "      <th>Guia</th>\n",
              "      <th>Direccion</th>\n",
              "      <th>Ciudad_Destino</th>\n",
              "      <th>Longitud</th>\n",
              "      <th>Latitud</th>\n",
              "    </tr>\n",
              "  </thead>\n",
              "  <tbody>\n",
              "    <tr>\n",
              "      <th>113</th>\n",
              "      <td>114</td>\n",
              "      <td>43655646</td>\n",
              "      <td>CL 107 B CR 42 B 36</td>\n",
              "      <td>MEDELLIN</td>\n",
              "      <td>-75.548154</td>\n",
              "      <td>6.295546</td>\n",
              "    </tr>\n",
              "    <tr>\n",
              "      <th>114</th>\n",
              "      <td>115</td>\n",
              "      <td>43660571</td>\n",
              "      <td>CL 107 A 45 33</td>\n",
              "      <td>MEDELLIN</td>\n",
              "      <td>-75.550772</td>\n",
              "      <td>6.295817</td>\n",
              "    </tr>\n",
              "    <tr>\n",
              "      <th>115</th>\n",
              "      <td>116</td>\n",
              "      <td>43654197</td>\n",
              "      <td>CL 120 49 C 8</td>\n",
              "      <td>MEDELLIN</td>\n",
              "      <td>-75.551840</td>\n",
              "      <td>6.304134</td>\n",
              "    </tr>\n",
              "    <tr>\n",
              "      <th>116</th>\n",
              "      <td>117</td>\n",
              "      <td>43658310</td>\n",
              "      <td>CR 49 A 107 160 IN 1881</td>\n",
              "      <td>MEDELLIN</td>\n",
              "      <td>-75.553070</td>\n",
              "      <td>6.298838</td>\n",
              "    </tr>\n",
              "    <tr>\n",
              "      <th>117</th>\n",
              "      <td>118</td>\n",
              "      <td>43660538</td>\n",
              "      <td>CL 125 50 E 23</td>\n",
              "      <td>MEDELLIN</td>\n",
              "      <td>-75.553762</td>\n",
              "      <td>6.307220</td>\n",
              "    </tr>\n",
              "  </tbody>\n",
              "</table>\n",
              "</div>\n",
              "      <button class=\"colab-df-convert\" onclick=\"convertToInteractive('df-9b93069d-8612-4c38-9b34-955db59c54db')\"\n",
              "              title=\"Convert this dataframe to an interactive table.\"\n",
              "              style=\"display:none;\">\n",
              "        \n",
              "  <svg xmlns=\"http://www.w3.org/2000/svg\" height=\"24px\"viewBox=\"0 0 24 24\"\n",
              "       width=\"24px\">\n",
              "    <path d=\"M0 0h24v24H0V0z\" fill=\"none\"/>\n",
              "    <path d=\"M18.56 5.44l.94 2.06.94-2.06 2.06-.94-2.06-.94-.94-2.06-.94 2.06-2.06.94zm-11 1L8.5 8.5l.94-2.06 2.06-.94-2.06-.94L8.5 2.5l-.94 2.06-2.06.94zm10 10l.94 2.06.94-2.06 2.06-.94-2.06-.94-.94-2.06-.94 2.06-2.06.94z\"/><path d=\"M17.41 7.96l-1.37-1.37c-.4-.4-.92-.59-1.43-.59-.52 0-1.04.2-1.43.59L10.3 9.45l-7.72 7.72c-.78.78-.78 2.05 0 2.83L4 21.41c.39.39.9.59 1.41.59.51 0 1.02-.2 1.41-.59l7.78-7.78 2.81-2.81c.8-.78.8-2.07 0-2.86zM5.41 20L4 18.59l7.72-7.72 1.47 1.35L5.41 20z\"/>\n",
              "  </svg>\n",
              "      </button>\n",
              "      \n",
              "  <style>\n",
              "    .colab-df-container {\n",
              "      display:flex;\n",
              "      flex-wrap:wrap;\n",
              "      gap: 12px;\n",
              "    }\n",
              "\n",
              "    .colab-df-convert {\n",
              "      background-color: #E8F0FE;\n",
              "      border: none;\n",
              "      border-radius: 50%;\n",
              "      cursor: pointer;\n",
              "      display: none;\n",
              "      fill: #1967D2;\n",
              "      height: 32px;\n",
              "      padding: 0 0 0 0;\n",
              "      width: 32px;\n",
              "    }\n",
              "\n",
              "    .colab-df-convert:hover {\n",
              "      background-color: #E2EBFA;\n",
              "      box-shadow: 0px 1px 2px rgba(60, 64, 67, 0.3), 0px 1px 3px 1px rgba(60, 64, 67, 0.15);\n",
              "      fill: #174EA6;\n",
              "    }\n",
              "\n",
              "    [theme=dark] .colab-df-convert {\n",
              "      background-color: #3B4455;\n",
              "      fill: #D2E3FC;\n",
              "    }\n",
              "\n",
              "    [theme=dark] .colab-df-convert:hover {\n",
              "      background-color: #434B5C;\n",
              "      box-shadow: 0px 1px 3px 1px rgba(0, 0, 0, 0.15);\n",
              "      filter: drop-shadow(0px 1px 2px rgba(0, 0, 0, 0.3));\n",
              "      fill: #FFFFFF;\n",
              "    }\n",
              "  </style>\n",
              "\n",
              "      <script>\n",
              "        const buttonEl =\n",
              "          document.querySelector('#df-9b93069d-8612-4c38-9b34-955db59c54db button.colab-df-convert');\n",
              "        buttonEl.style.display =\n",
              "          google.colab.kernel.accessAllowed ? 'block' : 'none';\n",
              "\n",
              "        async function convertToInteractive(key) {\n",
              "          const element = document.querySelector('#df-9b93069d-8612-4c38-9b34-955db59c54db');\n",
              "          const dataTable =\n",
              "            await google.colab.kernel.invokeFunction('convertToInteractive',\n",
              "                                                     [key], {});\n",
              "          if (!dataTable) return;\n",
              "\n",
              "          const docLinkHtml = 'Like what you see? Visit the ' +\n",
              "            '<a target=\"_blank\" href=https://colab.research.google.com/notebooks/data_table.ipynb>data table notebook</a>'\n",
              "            + ' to learn more about interactive tables.';\n",
              "          element.innerHTML = '';\n",
              "          dataTable['output_type'] = 'display_data';\n",
              "          await google.colab.output.renderOutput(dataTable, element);\n",
              "          const docLink = document.createElement('div');\n",
              "          docLink.innerHTML = docLinkHtml;\n",
              "          element.appendChild(docLink);\n",
              "        }\n",
              "      </script>\n",
              "    </div>\n",
              "  </div>\n",
              "  "
            ]
          },
          "metadata": {},
          "execution_count": 142
        }
      ]
    },
    {
      "cell_type": "code",
      "source": [
        "#dir_med['Longitud'] = dir_med['Longitud'].apply(float64)\n",
        "\n",
        "dir_med['Latitud']=pd.to_numeric(dir_med['Latitud'], errors='coerce').fillna(0, downcast='infer')\n",
        "dir_med['Longitud']=pd.to_numeric(dir_med['Longitud'], errors='coerce').fillna(0, downcast='infer')\n",
        "dir_med = dir_med.reset_index()\n",
        "\n",
        "dir_med.info()"
      ],
      "metadata": {
        "colab": {
          "base_uri": "https://localhost:8080/"
        },
        "id": "u06eTuNGmncC",
        "outputId": "d737851b-dc89-46f3-a8e0-957f05d83e1b"
      },
      "id": "u06eTuNGmncC",
      "execution_count": 143,
      "outputs": [
        {
          "output_type": "stream",
          "name": "stdout",
          "text": [
            "<class 'pandas.core.frame.DataFrame'>\n",
            "RangeIndex: 743 entries, 0 to 742\n",
            "Data columns (total 7 columns):\n",
            " #   Column          Non-Null Count  Dtype  \n",
            "---  ------          --------------  -----  \n",
            " 0   index           743 non-null    int64  \n",
            " 1   Numero          743 non-null    int64  \n",
            " 2   Guia            743 non-null    int64  \n",
            " 3   Direccion       743 non-null    object \n",
            " 4   Ciudad_Destino  743 non-null    object \n",
            " 5   Longitud        743 non-null    float64\n",
            " 6   Latitud         743 non-null    float64\n",
            "dtypes: float64(2), int64(3), object(2)\n",
            "memory usage: 40.8+ KB\n"
          ]
        }
      ]
    },
    {
      "cell_type": "code",
      "source": [
        "dir_med_geo = gpd.points_from_xy(\n",
        "                                  x = dir_med['Longitud'],\n",
        "                                  y = dir_med['Latitud'],\n",
        "                                  crs = \"EPSG: 4326\"\n",
        ")\n",
        "\n",
        "dir_med_geo"
      ],
      "metadata": {
        "colab": {
          "base_uri": "https://localhost:8080/"
        },
        "id": "ai2JMMt3kMyz",
        "outputId": "c2164a64-2629-4407-96fa-ec054fa5b553"
      },
      "id": "ai2JMMt3kMyz",
      "execution_count": 164,
      "outputs": [
        {
          "output_type": "execute_result",
          "data": {
            "text/plain": [
              "<GeometryArray>\n",
              "[<POINT (-75.548 6.296)>, <POINT (-75.551 6.296)>, <POINT (-75.552 6.304)>,\n",
              " <POINT (-75.553 6.299)>, <POINT (-75.554 6.307)>, <POINT (-75.542 6.295)>,\n",
              " <POINT (-75.552 6.297)>, <POINT (-75.549 6.297)>, <POINT (-75.556 6.297)>,\n",
              " <POINT (-75.543 6.296)>,\n",
              " ...\n",
              " <POINT (-75.597 6.249)>, <POINT (-75.597 6.248)>, <POINT (-75.592 6.247)>,\n",
              "  <POINT (-75.59 6.249)>, <POINT (-75.586 6.248)>, <POINT (-75.585 6.249)>,\n",
              " <POINT (-75.584 6.248)>, <POINT (-75.582 6.245)>,  <POINT (-75.58 6.244)>,\n",
              " <POINT (-75.581 6.244)>]\n",
              "Length: 743, dtype: geometry"
            ]
          },
          "metadata": {},
          "execution_count": 164
        }
      ]
    },
    {
      "cell_type": "code",
      "source": [
        "dir_med_p = gpd.GeoDataFrame(dir_med, geometry = dir_med_geo)\n",
        "dir_med_p.head()"
      ],
      "metadata": {
        "colab": {
          "base_uri": "https://localhost:8080/",
          "height": 206
        },
        "id": "o4JxejhXoGBj",
        "outputId": "afb45f6a-d78e-4004-c5d2-b52700ca70bb"
      },
      "id": "o4JxejhXoGBj",
      "execution_count": 165,
      "outputs": [
        {
          "output_type": "execute_result",
          "data": {
            "text/plain": [
              "   index  Numero      Guia                Direccion Ciudad_Destino   Longitud  \\\n",
              "0    113     114  43655646      CL 107 B CR 42 B 36       MEDELLIN -75.548154   \n",
              "1    114     115  43660571           CL 107 A 45 33       MEDELLIN -75.550772   \n",
              "2    115     116  43654197            CL 120 49 C 8       MEDELLIN -75.551840   \n",
              "3    116     117  43658310  CR 49 A 107 160 IN 1881       MEDELLIN -75.553070   \n",
              "4    117     118  43660538           CL 125 50 E 23       MEDELLIN -75.553762   \n",
              "\n",
              "    Latitud                   geometry  \n",
              "0  6.295546  POINT (-75.54815 6.29555)  \n",
              "1  6.295817  POINT (-75.55077 6.29582)  \n",
              "2  6.304134  POINT (-75.55184 6.30413)  \n",
              "3  6.298838  POINT (-75.55307 6.29884)  \n",
              "4  6.307220  POINT (-75.55376 6.30722)  "
            ],
            "text/html": [
              "\n",
              "  <div id=\"df-8ce18b89-bd35-4227-ba70-2f3558c9557e\">\n",
              "    <div class=\"colab-df-container\">\n",
              "      <div>\n",
              "<style scoped>\n",
              "    .dataframe tbody tr th:only-of-type {\n",
              "        vertical-align: middle;\n",
              "    }\n",
              "\n",
              "    .dataframe tbody tr th {\n",
              "        vertical-align: top;\n",
              "    }\n",
              "\n",
              "    .dataframe thead th {\n",
              "        text-align: right;\n",
              "    }\n",
              "</style>\n",
              "<table border=\"1\" class=\"dataframe\">\n",
              "  <thead>\n",
              "    <tr style=\"text-align: right;\">\n",
              "      <th></th>\n",
              "      <th>index</th>\n",
              "      <th>Numero</th>\n",
              "      <th>Guia</th>\n",
              "      <th>Direccion</th>\n",
              "      <th>Ciudad_Destino</th>\n",
              "      <th>Longitud</th>\n",
              "      <th>Latitud</th>\n",
              "      <th>geometry</th>\n",
              "    </tr>\n",
              "  </thead>\n",
              "  <tbody>\n",
              "    <tr>\n",
              "      <th>0</th>\n",
              "      <td>113</td>\n",
              "      <td>114</td>\n",
              "      <td>43655646</td>\n",
              "      <td>CL 107 B CR 42 B 36</td>\n",
              "      <td>MEDELLIN</td>\n",
              "      <td>-75.548154</td>\n",
              "      <td>6.295546</td>\n",
              "      <td>POINT (-75.54815 6.29555)</td>\n",
              "    </tr>\n",
              "    <tr>\n",
              "      <th>1</th>\n",
              "      <td>114</td>\n",
              "      <td>115</td>\n",
              "      <td>43660571</td>\n",
              "      <td>CL 107 A 45 33</td>\n",
              "      <td>MEDELLIN</td>\n",
              "      <td>-75.550772</td>\n",
              "      <td>6.295817</td>\n",
              "      <td>POINT (-75.55077 6.29582)</td>\n",
              "    </tr>\n",
              "    <tr>\n",
              "      <th>2</th>\n",
              "      <td>115</td>\n",
              "      <td>116</td>\n",
              "      <td>43654197</td>\n",
              "      <td>CL 120 49 C 8</td>\n",
              "      <td>MEDELLIN</td>\n",
              "      <td>-75.551840</td>\n",
              "      <td>6.304134</td>\n",
              "      <td>POINT (-75.55184 6.30413)</td>\n",
              "    </tr>\n",
              "    <tr>\n",
              "      <th>3</th>\n",
              "      <td>116</td>\n",
              "      <td>117</td>\n",
              "      <td>43658310</td>\n",
              "      <td>CR 49 A 107 160 IN 1881</td>\n",
              "      <td>MEDELLIN</td>\n",
              "      <td>-75.553070</td>\n",
              "      <td>6.298838</td>\n",
              "      <td>POINT (-75.55307 6.29884)</td>\n",
              "    </tr>\n",
              "    <tr>\n",
              "      <th>4</th>\n",
              "      <td>117</td>\n",
              "      <td>118</td>\n",
              "      <td>43660538</td>\n",
              "      <td>CL 125 50 E 23</td>\n",
              "      <td>MEDELLIN</td>\n",
              "      <td>-75.553762</td>\n",
              "      <td>6.307220</td>\n",
              "      <td>POINT (-75.55376 6.30722)</td>\n",
              "    </tr>\n",
              "  </tbody>\n",
              "</table>\n",
              "</div>\n",
              "      <button class=\"colab-df-convert\" onclick=\"convertToInteractive('df-8ce18b89-bd35-4227-ba70-2f3558c9557e')\"\n",
              "              title=\"Convert this dataframe to an interactive table.\"\n",
              "              style=\"display:none;\">\n",
              "        \n",
              "  <svg xmlns=\"http://www.w3.org/2000/svg\" height=\"24px\"viewBox=\"0 0 24 24\"\n",
              "       width=\"24px\">\n",
              "    <path d=\"M0 0h24v24H0V0z\" fill=\"none\"/>\n",
              "    <path d=\"M18.56 5.44l.94 2.06.94-2.06 2.06-.94-2.06-.94-.94-2.06-.94 2.06-2.06.94zm-11 1L8.5 8.5l.94-2.06 2.06-.94-2.06-.94L8.5 2.5l-.94 2.06-2.06.94zm10 10l.94 2.06.94-2.06 2.06-.94-2.06-.94-.94-2.06-.94 2.06-2.06.94z\"/><path d=\"M17.41 7.96l-1.37-1.37c-.4-.4-.92-.59-1.43-.59-.52 0-1.04.2-1.43.59L10.3 9.45l-7.72 7.72c-.78.78-.78 2.05 0 2.83L4 21.41c.39.39.9.59 1.41.59.51 0 1.02-.2 1.41-.59l7.78-7.78 2.81-2.81c.8-.78.8-2.07 0-2.86zM5.41 20L4 18.59l7.72-7.72 1.47 1.35L5.41 20z\"/>\n",
              "  </svg>\n",
              "      </button>\n",
              "      \n",
              "  <style>\n",
              "    .colab-df-container {\n",
              "      display:flex;\n",
              "      flex-wrap:wrap;\n",
              "      gap: 12px;\n",
              "    }\n",
              "\n",
              "    .colab-df-convert {\n",
              "      background-color: #E8F0FE;\n",
              "      border: none;\n",
              "      border-radius: 50%;\n",
              "      cursor: pointer;\n",
              "      display: none;\n",
              "      fill: #1967D2;\n",
              "      height: 32px;\n",
              "      padding: 0 0 0 0;\n",
              "      width: 32px;\n",
              "    }\n",
              "\n",
              "    .colab-df-convert:hover {\n",
              "      background-color: #E2EBFA;\n",
              "      box-shadow: 0px 1px 2px rgba(60, 64, 67, 0.3), 0px 1px 3px 1px rgba(60, 64, 67, 0.15);\n",
              "      fill: #174EA6;\n",
              "    }\n",
              "\n",
              "    [theme=dark] .colab-df-convert {\n",
              "      background-color: #3B4455;\n",
              "      fill: #D2E3FC;\n",
              "    }\n",
              "\n",
              "    [theme=dark] .colab-df-convert:hover {\n",
              "      background-color: #434B5C;\n",
              "      box-shadow: 0px 1px 3px 1px rgba(0, 0, 0, 0.15);\n",
              "      filter: drop-shadow(0px 1px 2px rgba(0, 0, 0, 0.3));\n",
              "      fill: #FFFFFF;\n",
              "    }\n",
              "  </style>\n",
              "\n",
              "      <script>\n",
              "        const buttonEl =\n",
              "          document.querySelector('#df-8ce18b89-bd35-4227-ba70-2f3558c9557e button.colab-df-convert');\n",
              "        buttonEl.style.display =\n",
              "          google.colab.kernel.accessAllowed ? 'block' : 'none';\n",
              "\n",
              "        async function convertToInteractive(key) {\n",
              "          const element = document.querySelector('#df-8ce18b89-bd35-4227-ba70-2f3558c9557e');\n",
              "          const dataTable =\n",
              "            await google.colab.kernel.invokeFunction('convertToInteractive',\n",
              "                                                     [key], {});\n",
              "          if (!dataTable) return;\n",
              "\n",
              "          const docLinkHtml = 'Like what you see? Visit the ' +\n",
              "            '<a target=\"_blank\" href=https://colab.research.google.com/notebooks/data_table.ipynb>data table notebook</a>'\n",
              "            + ' to learn more about interactive tables.';\n",
              "          element.innerHTML = '';\n",
              "          dataTable['output_type'] = 'display_data';\n",
              "          await google.colab.output.renderOutput(dataTable, element);\n",
              "          const docLink = document.createElement('div');\n",
              "          docLink.innerHTML = docLinkHtml;\n",
              "          element.appendChild(docLink);\n",
              "        }\n",
              "      </script>\n",
              "    </div>\n",
              "  </div>\n",
              "  "
            ]
          },
          "metadata": {},
          "execution_count": 165
        }
      ]
    },
    {
      "cell_type": "code",
      "source": [
        "import pygeohash as pgh\n",
        "\n",
        "dir_med_p['Geohash_6']=dir_med_p.apply(lambda x: pgh.encode(x.Latitud, x.Longitud, precision=6), axis=1)\n",
        "dir_med_p['Geohash_7']=dir_med_p.apply(lambda x: pgh.encode(x.Latitud, x.Longitud, precision=7), axis=1)\n",
        "dir_med_p.head()"
      ],
      "metadata": {
        "colab": {
          "base_uri": "https://localhost:8080/",
          "height": 206
        },
        "id": "bDV3I9nokYLf",
        "outputId": "94efa201-a3fa-4bab-c2a3-8de5565a4515"
      },
      "id": "bDV3I9nokYLf",
      "execution_count": 172,
      "outputs": [
        {
          "output_type": "execute_result",
          "data": {
            "text/plain": [
              "   index  Numero      Guia                Direccion Ciudad_Destino   Longitud  \\\n",
              "0    113     114  43655646      CL 107 B CR 42 B 36       MEDELLIN -75.548154   \n",
              "1    114     115  43660571           CL 107 A 45 33       MEDELLIN -75.550772   \n",
              "2    115     116  43654197            CL 120 49 C 8       MEDELLIN -75.551840   \n",
              "3    116     117  43658310  CR 49 A 107 160 IN 1881       MEDELLIN -75.553070   \n",
              "4    117     118  43660538           CL 125 50 E 23       MEDELLIN -75.553762   \n",
              "\n",
              "    Latitud                   geometry Geohash  Densidad Geohash_6 Geohash_7  \n",
              "0  6.295546  POINT (-75.54815 6.29555)  d347bf        55    d347bf   d347bf5  \n",
              "1  6.295817  POINT (-75.55077 6.29582)  d347bf        55    d347bf   d347bf1  \n",
              "2  6.304134  POINT (-75.55184 6.30413)  d347bg        52    d347bg   d347bg8  \n",
              "3  6.298838  POINT (-75.55307 6.29884)  d347bd        28    d347bd   d347bdx  \n",
              "4  6.307220  POINT (-75.55376 6.30722)  d347bs        11    d347bs   d347bsp  "
            ],
            "text/html": [
              "\n",
              "  <div id=\"df-570ff216-9453-43a6-ae54-f2192041b577\">\n",
              "    <div class=\"colab-df-container\">\n",
              "      <div>\n",
              "<style scoped>\n",
              "    .dataframe tbody tr th:only-of-type {\n",
              "        vertical-align: middle;\n",
              "    }\n",
              "\n",
              "    .dataframe tbody tr th {\n",
              "        vertical-align: top;\n",
              "    }\n",
              "\n",
              "    .dataframe thead th {\n",
              "        text-align: right;\n",
              "    }\n",
              "</style>\n",
              "<table border=\"1\" class=\"dataframe\">\n",
              "  <thead>\n",
              "    <tr style=\"text-align: right;\">\n",
              "      <th></th>\n",
              "      <th>index</th>\n",
              "      <th>Numero</th>\n",
              "      <th>Guia</th>\n",
              "      <th>Direccion</th>\n",
              "      <th>Ciudad_Destino</th>\n",
              "      <th>Longitud</th>\n",
              "      <th>Latitud</th>\n",
              "      <th>geometry</th>\n",
              "      <th>Geohash</th>\n",
              "      <th>Densidad</th>\n",
              "      <th>Geohash_6</th>\n",
              "      <th>Geohash_7</th>\n",
              "    </tr>\n",
              "  </thead>\n",
              "  <tbody>\n",
              "    <tr>\n",
              "      <th>0</th>\n",
              "      <td>113</td>\n",
              "      <td>114</td>\n",
              "      <td>43655646</td>\n",
              "      <td>CL 107 B CR 42 B 36</td>\n",
              "      <td>MEDELLIN</td>\n",
              "      <td>-75.548154</td>\n",
              "      <td>6.295546</td>\n",
              "      <td>POINT (-75.54815 6.29555)</td>\n",
              "      <td>d347bf</td>\n",
              "      <td>55</td>\n",
              "      <td>d347bf</td>\n",
              "      <td>d347bf5</td>\n",
              "    </tr>\n",
              "    <tr>\n",
              "      <th>1</th>\n",
              "      <td>114</td>\n",
              "      <td>115</td>\n",
              "      <td>43660571</td>\n",
              "      <td>CL 107 A 45 33</td>\n",
              "      <td>MEDELLIN</td>\n",
              "      <td>-75.550772</td>\n",
              "      <td>6.295817</td>\n",
              "      <td>POINT (-75.55077 6.29582)</td>\n",
              "      <td>d347bf</td>\n",
              "      <td>55</td>\n",
              "      <td>d347bf</td>\n",
              "      <td>d347bf1</td>\n",
              "    </tr>\n",
              "    <tr>\n",
              "      <th>2</th>\n",
              "      <td>115</td>\n",
              "      <td>116</td>\n",
              "      <td>43654197</td>\n",
              "      <td>CL 120 49 C 8</td>\n",
              "      <td>MEDELLIN</td>\n",
              "      <td>-75.551840</td>\n",
              "      <td>6.304134</td>\n",
              "      <td>POINT (-75.55184 6.30413)</td>\n",
              "      <td>d347bg</td>\n",
              "      <td>52</td>\n",
              "      <td>d347bg</td>\n",
              "      <td>d347bg8</td>\n",
              "    </tr>\n",
              "    <tr>\n",
              "      <th>3</th>\n",
              "      <td>116</td>\n",
              "      <td>117</td>\n",
              "      <td>43658310</td>\n",
              "      <td>CR 49 A 107 160 IN 1881</td>\n",
              "      <td>MEDELLIN</td>\n",
              "      <td>-75.553070</td>\n",
              "      <td>6.298838</td>\n",
              "      <td>POINT (-75.55307 6.29884)</td>\n",
              "      <td>d347bd</td>\n",
              "      <td>28</td>\n",
              "      <td>d347bd</td>\n",
              "      <td>d347bdx</td>\n",
              "    </tr>\n",
              "    <tr>\n",
              "      <th>4</th>\n",
              "      <td>117</td>\n",
              "      <td>118</td>\n",
              "      <td>43660538</td>\n",
              "      <td>CL 125 50 E 23</td>\n",
              "      <td>MEDELLIN</td>\n",
              "      <td>-75.553762</td>\n",
              "      <td>6.307220</td>\n",
              "      <td>POINT (-75.55376 6.30722)</td>\n",
              "      <td>d347bs</td>\n",
              "      <td>11</td>\n",
              "      <td>d347bs</td>\n",
              "      <td>d347bsp</td>\n",
              "    </tr>\n",
              "  </tbody>\n",
              "</table>\n",
              "</div>\n",
              "      <button class=\"colab-df-convert\" onclick=\"convertToInteractive('df-570ff216-9453-43a6-ae54-f2192041b577')\"\n",
              "              title=\"Convert this dataframe to an interactive table.\"\n",
              "              style=\"display:none;\">\n",
              "        \n",
              "  <svg xmlns=\"http://www.w3.org/2000/svg\" height=\"24px\"viewBox=\"0 0 24 24\"\n",
              "       width=\"24px\">\n",
              "    <path d=\"M0 0h24v24H0V0z\" fill=\"none\"/>\n",
              "    <path d=\"M18.56 5.44l.94 2.06.94-2.06 2.06-.94-2.06-.94-.94-2.06-.94 2.06-2.06.94zm-11 1L8.5 8.5l.94-2.06 2.06-.94-2.06-.94L8.5 2.5l-.94 2.06-2.06.94zm10 10l.94 2.06.94-2.06 2.06-.94-2.06-.94-.94-2.06-.94 2.06-2.06.94z\"/><path d=\"M17.41 7.96l-1.37-1.37c-.4-.4-.92-.59-1.43-.59-.52 0-1.04.2-1.43.59L10.3 9.45l-7.72 7.72c-.78.78-.78 2.05 0 2.83L4 21.41c.39.39.9.59 1.41.59.51 0 1.02-.2 1.41-.59l7.78-7.78 2.81-2.81c.8-.78.8-2.07 0-2.86zM5.41 20L4 18.59l7.72-7.72 1.47 1.35L5.41 20z\"/>\n",
              "  </svg>\n",
              "      </button>\n",
              "      \n",
              "  <style>\n",
              "    .colab-df-container {\n",
              "      display:flex;\n",
              "      flex-wrap:wrap;\n",
              "      gap: 12px;\n",
              "    }\n",
              "\n",
              "    .colab-df-convert {\n",
              "      background-color: #E8F0FE;\n",
              "      border: none;\n",
              "      border-radius: 50%;\n",
              "      cursor: pointer;\n",
              "      display: none;\n",
              "      fill: #1967D2;\n",
              "      height: 32px;\n",
              "      padding: 0 0 0 0;\n",
              "      width: 32px;\n",
              "    }\n",
              "\n",
              "    .colab-df-convert:hover {\n",
              "      background-color: #E2EBFA;\n",
              "      box-shadow: 0px 1px 2px rgba(60, 64, 67, 0.3), 0px 1px 3px 1px rgba(60, 64, 67, 0.15);\n",
              "      fill: #174EA6;\n",
              "    }\n",
              "\n",
              "    [theme=dark] .colab-df-convert {\n",
              "      background-color: #3B4455;\n",
              "      fill: #D2E3FC;\n",
              "    }\n",
              "\n",
              "    [theme=dark] .colab-df-convert:hover {\n",
              "      background-color: #434B5C;\n",
              "      box-shadow: 0px 1px 3px 1px rgba(0, 0, 0, 0.15);\n",
              "      filter: drop-shadow(0px 1px 2px rgba(0, 0, 0, 0.3));\n",
              "      fill: #FFFFFF;\n",
              "    }\n",
              "  </style>\n",
              "\n",
              "      <script>\n",
              "        const buttonEl =\n",
              "          document.querySelector('#df-570ff216-9453-43a6-ae54-f2192041b577 button.colab-df-convert');\n",
              "        buttonEl.style.display =\n",
              "          google.colab.kernel.accessAllowed ? 'block' : 'none';\n",
              "\n",
              "        async function convertToInteractive(key) {\n",
              "          const element = document.querySelector('#df-570ff216-9453-43a6-ae54-f2192041b577');\n",
              "          const dataTable =\n",
              "            await google.colab.kernel.invokeFunction('convertToInteractive',\n",
              "                                                     [key], {});\n",
              "          if (!dataTable) return;\n",
              "\n",
              "          const docLinkHtml = 'Like what you see? Visit the ' +\n",
              "            '<a target=\"_blank\" href=https://colab.research.google.com/notebooks/data_table.ipynb>data table notebook</a>'\n",
              "            + ' to learn more about interactive tables.';\n",
              "          element.innerHTML = '';\n",
              "          dataTable['output_type'] = 'display_data';\n",
              "          await google.colab.output.renderOutput(dataTable, element);\n",
              "          const docLink = document.createElement('div');\n",
              "          docLink.innerHTML = docLinkHtml;\n",
              "          element.appendChild(docLink);\n",
              "        }\n",
              "      </script>\n",
              "    </div>\n",
              "  </div>\n",
              "  "
            ]
          },
          "metadata": {},
          "execution_count": 172
        }
      ]
    },
    {
      "cell_type": "code",
      "source": [
        "# Se crea un Dataframe llamado Geo, para calcular por Geohash cuántas direcciones  hay en ella (La columna Densidad). Se ordena los geohash por mayor Densidad,\n",
        "# y se ordenan las columnas\n",
        "\n",
        "geo = dir_med_p[['Geohash_6','Guia']]\n",
        "geo = geo.groupby(['Geohash_6']).Guia.agg(['count']).rename(columns={'count':'Densidad_6'})\n",
        "geo['Geohash_6'] = geo.index\n",
        "geo = geo.sort_values('Densidad_6', ascending = False, ignore_index = False)\n",
        "geo = geo[['Geohash_6','Densidad_6']]\n",
        "geo.head(5)"
      ],
      "metadata": {
        "colab": {
          "base_uri": "https://localhost:8080/",
          "height": 238
        },
        "id": "w8yiQzTc3qaw",
        "outputId": "571aef26-c38b-4d40-ae30-dd35602981d6"
      },
      "id": "w8yiQzTc3qaw",
      "execution_count": 173,
      "outputs": [
        {
          "output_type": "execute_result",
          "data": {
            "text/plain": [
              "          Geohash_6  Densidad_6\n",
              "Geohash_6                      \n",
              "d345xb       d345xb          75\n",
              "d34723       d34723          56\n",
              "d347bf       d347bf          55\n",
              "d34729       d34729          54\n",
              "d347bg       d347bg          52"
            ],
            "text/html": [
              "\n",
              "  <div id=\"df-8f20b794-5ee2-422b-bc78-8eca45d76487\">\n",
              "    <div class=\"colab-df-container\">\n",
              "      <div>\n",
              "<style scoped>\n",
              "    .dataframe tbody tr th:only-of-type {\n",
              "        vertical-align: middle;\n",
              "    }\n",
              "\n",
              "    .dataframe tbody tr th {\n",
              "        vertical-align: top;\n",
              "    }\n",
              "\n",
              "    .dataframe thead th {\n",
              "        text-align: right;\n",
              "    }\n",
              "</style>\n",
              "<table border=\"1\" class=\"dataframe\">\n",
              "  <thead>\n",
              "    <tr style=\"text-align: right;\">\n",
              "      <th></th>\n",
              "      <th>Geohash_6</th>\n",
              "      <th>Densidad_6</th>\n",
              "    </tr>\n",
              "    <tr>\n",
              "      <th>Geohash_6</th>\n",
              "      <th></th>\n",
              "      <th></th>\n",
              "    </tr>\n",
              "  </thead>\n",
              "  <tbody>\n",
              "    <tr>\n",
              "      <th>d345xb</th>\n",
              "      <td>d345xb</td>\n",
              "      <td>75</td>\n",
              "    </tr>\n",
              "    <tr>\n",
              "      <th>d34723</th>\n",
              "      <td>d34723</td>\n",
              "      <td>56</td>\n",
              "    </tr>\n",
              "    <tr>\n",
              "      <th>d347bf</th>\n",
              "      <td>d347bf</td>\n",
              "      <td>55</td>\n",
              "    </tr>\n",
              "    <tr>\n",
              "      <th>d34729</th>\n",
              "      <td>d34729</td>\n",
              "      <td>54</td>\n",
              "    </tr>\n",
              "    <tr>\n",
              "      <th>d347bg</th>\n",
              "      <td>d347bg</td>\n",
              "      <td>52</td>\n",
              "    </tr>\n",
              "  </tbody>\n",
              "</table>\n",
              "</div>\n",
              "      <button class=\"colab-df-convert\" onclick=\"convertToInteractive('df-8f20b794-5ee2-422b-bc78-8eca45d76487')\"\n",
              "              title=\"Convert this dataframe to an interactive table.\"\n",
              "              style=\"display:none;\">\n",
              "        \n",
              "  <svg xmlns=\"http://www.w3.org/2000/svg\" height=\"24px\"viewBox=\"0 0 24 24\"\n",
              "       width=\"24px\">\n",
              "    <path d=\"M0 0h24v24H0V0z\" fill=\"none\"/>\n",
              "    <path d=\"M18.56 5.44l.94 2.06.94-2.06 2.06-.94-2.06-.94-.94-2.06-.94 2.06-2.06.94zm-11 1L8.5 8.5l.94-2.06 2.06-.94-2.06-.94L8.5 2.5l-.94 2.06-2.06.94zm10 10l.94 2.06.94-2.06 2.06-.94-2.06-.94-.94-2.06-.94 2.06-2.06.94z\"/><path d=\"M17.41 7.96l-1.37-1.37c-.4-.4-.92-.59-1.43-.59-.52 0-1.04.2-1.43.59L10.3 9.45l-7.72 7.72c-.78.78-.78 2.05 0 2.83L4 21.41c.39.39.9.59 1.41.59.51 0 1.02-.2 1.41-.59l7.78-7.78 2.81-2.81c.8-.78.8-2.07 0-2.86zM5.41 20L4 18.59l7.72-7.72 1.47 1.35L5.41 20z\"/>\n",
              "  </svg>\n",
              "      </button>\n",
              "      \n",
              "  <style>\n",
              "    .colab-df-container {\n",
              "      display:flex;\n",
              "      flex-wrap:wrap;\n",
              "      gap: 12px;\n",
              "    }\n",
              "\n",
              "    .colab-df-convert {\n",
              "      background-color: #E8F0FE;\n",
              "      border: none;\n",
              "      border-radius: 50%;\n",
              "      cursor: pointer;\n",
              "      display: none;\n",
              "      fill: #1967D2;\n",
              "      height: 32px;\n",
              "      padding: 0 0 0 0;\n",
              "      width: 32px;\n",
              "    }\n",
              "\n",
              "    .colab-df-convert:hover {\n",
              "      background-color: #E2EBFA;\n",
              "      box-shadow: 0px 1px 2px rgba(60, 64, 67, 0.3), 0px 1px 3px 1px rgba(60, 64, 67, 0.15);\n",
              "      fill: #174EA6;\n",
              "    }\n",
              "\n",
              "    [theme=dark] .colab-df-convert {\n",
              "      background-color: #3B4455;\n",
              "      fill: #D2E3FC;\n",
              "    }\n",
              "\n",
              "    [theme=dark] .colab-df-convert:hover {\n",
              "      background-color: #434B5C;\n",
              "      box-shadow: 0px 1px 3px 1px rgba(0, 0, 0, 0.15);\n",
              "      filter: drop-shadow(0px 1px 2px rgba(0, 0, 0, 0.3));\n",
              "      fill: #FFFFFF;\n",
              "    }\n",
              "  </style>\n",
              "\n",
              "      <script>\n",
              "        const buttonEl =\n",
              "          document.querySelector('#df-8f20b794-5ee2-422b-bc78-8eca45d76487 button.colab-df-convert');\n",
              "        buttonEl.style.display =\n",
              "          google.colab.kernel.accessAllowed ? 'block' : 'none';\n",
              "\n",
              "        async function convertToInteractive(key) {\n",
              "          const element = document.querySelector('#df-8f20b794-5ee2-422b-bc78-8eca45d76487');\n",
              "          const dataTable =\n",
              "            await google.colab.kernel.invokeFunction('convertToInteractive',\n",
              "                                                     [key], {});\n",
              "          if (!dataTable) return;\n",
              "\n",
              "          const docLinkHtml = 'Like what you see? Visit the ' +\n",
              "            '<a target=\"_blank\" href=https://colab.research.google.com/notebooks/data_table.ipynb>data table notebook</a>'\n",
              "            + ' to learn more about interactive tables.';\n",
              "          element.innerHTML = '';\n",
              "          dataTable['output_type'] = 'display_data';\n",
              "          await google.colab.output.renderOutput(dataTable, element);\n",
              "          const docLink = document.createElement('div');\n",
              "          docLink.innerHTML = docLinkHtml;\n",
              "          element.appendChild(docLink);\n",
              "        }\n",
              "      </script>\n",
              "    </div>\n",
              "  </div>\n",
              "  "
            ]
          },
          "metadata": {},
          "execution_count": 173
        }
      ]
    },
    {
      "cell_type": "code",
      "source": [
        "geo.shape"
      ],
      "metadata": {
        "colab": {
          "base_uri": "https://localhost:8080/"
        },
        "id": "VtOWdF4P9-yZ",
        "outputId": "3606efde-c01d-4fe9-b8fd-9ccc0a2a7e93"
      },
      "id": "VtOWdF4P9-yZ",
      "execution_count": 174,
      "outputs": [
        {
          "output_type": "execute_result",
          "data": {
            "text/plain": [
              "(47, 2)"
            ]
          },
          "metadata": {},
          "execution_count": 174
        }
      ]
    },
    {
      "cell_type": "code",
      "source": [
        "# Unir los Dataframe (Dir_med_p y Geo),  para que así al 1er Dataframe le quede la columna de densidad por Geohash\n",
        "\n",
        "#d = dir_med_p.copy()\n",
        "dir_med_p = dir_med_p.join(geo.set_index('Geohash_6'), on='Geohash')\n",
        "dir_med_p.head()"
      ],
      "metadata": {
        "colab": {
          "base_uri": "https://localhost:8080/",
          "height": 337
        },
        "id": "H0k48FU9HQJ8",
        "outputId": "a336fcf2-0879-41e8-a070-48b488964e03"
      },
      "id": "H0k48FU9HQJ8",
      "execution_count": 175,
      "outputs": [
        {
          "output_type": "execute_result",
          "data": {
            "text/plain": [
              "   index  Numero      Guia                Direccion Ciudad_Destino   Longitud  \\\n",
              "0    113     114  43655646      CL 107 B CR 42 B 36       MEDELLIN -75.548154   \n",
              "1    114     115  43660571           CL 107 A 45 33       MEDELLIN -75.550772   \n",
              "2    115     116  43654197            CL 120 49 C 8       MEDELLIN -75.551840   \n",
              "3    116     117  43658310  CR 49 A 107 160 IN 1881       MEDELLIN -75.553070   \n",
              "4    117     118  43660538           CL 125 50 E 23       MEDELLIN -75.553762   \n",
              "\n",
              "    Latitud                   geometry Geohash  Densidad Geohash_6 Geohash_7  \\\n",
              "0  6.295546  POINT (-75.54815 6.29555)  d347bf        55    d347bf   d347bf5   \n",
              "1  6.295817  POINT (-75.55077 6.29582)  d347bf        55    d347bf   d347bf1   \n",
              "2  6.304134  POINT (-75.55184 6.30413)  d347bg        52    d347bg   d347bg8   \n",
              "3  6.298838  POINT (-75.55307 6.29884)  d347bd        28    d347bd   d347bdx   \n",
              "4  6.307220  POINT (-75.55376 6.30722)  d347bs        11    d347bs   d347bsp   \n",
              "\n",
              "   Densidad_6  \n",
              "0          55  \n",
              "1          55  \n",
              "2          52  \n",
              "3          28  \n",
              "4          11  "
            ],
            "text/html": [
              "\n",
              "  <div id=\"df-d42a0e02-0b5b-47d2-a537-3220c16c1629\">\n",
              "    <div class=\"colab-df-container\">\n",
              "      <div>\n",
              "<style scoped>\n",
              "    .dataframe tbody tr th:only-of-type {\n",
              "        vertical-align: middle;\n",
              "    }\n",
              "\n",
              "    .dataframe tbody tr th {\n",
              "        vertical-align: top;\n",
              "    }\n",
              "\n",
              "    .dataframe thead th {\n",
              "        text-align: right;\n",
              "    }\n",
              "</style>\n",
              "<table border=\"1\" class=\"dataframe\">\n",
              "  <thead>\n",
              "    <tr style=\"text-align: right;\">\n",
              "      <th></th>\n",
              "      <th>index</th>\n",
              "      <th>Numero</th>\n",
              "      <th>Guia</th>\n",
              "      <th>Direccion</th>\n",
              "      <th>Ciudad_Destino</th>\n",
              "      <th>Longitud</th>\n",
              "      <th>Latitud</th>\n",
              "      <th>geometry</th>\n",
              "      <th>Geohash</th>\n",
              "      <th>Densidad</th>\n",
              "      <th>Geohash_6</th>\n",
              "      <th>Geohash_7</th>\n",
              "      <th>Densidad_6</th>\n",
              "    </tr>\n",
              "  </thead>\n",
              "  <tbody>\n",
              "    <tr>\n",
              "      <th>0</th>\n",
              "      <td>113</td>\n",
              "      <td>114</td>\n",
              "      <td>43655646</td>\n",
              "      <td>CL 107 B CR 42 B 36</td>\n",
              "      <td>MEDELLIN</td>\n",
              "      <td>-75.548154</td>\n",
              "      <td>6.295546</td>\n",
              "      <td>POINT (-75.54815 6.29555)</td>\n",
              "      <td>d347bf</td>\n",
              "      <td>55</td>\n",
              "      <td>d347bf</td>\n",
              "      <td>d347bf5</td>\n",
              "      <td>55</td>\n",
              "    </tr>\n",
              "    <tr>\n",
              "      <th>1</th>\n",
              "      <td>114</td>\n",
              "      <td>115</td>\n",
              "      <td>43660571</td>\n",
              "      <td>CL 107 A 45 33</td>\n",
              "      <td>MEDELLIN</td>\n",
              "      <td>-75.550772</td>\n",
              "      <td>6.295817</td>\n",
              "      <td>POINT (-75.55077 6.29582)</td>\n",
              "      <td>d347bf</td>\n",
              "      <td>55</td>\n",
              "      <td>d347bf</td>\n",
              "      <td>d347bf1</td>\n",
              "      <td>55</td>\n",
              "    </tr>\n",
              "    <tr>\n",
              "      <th>2</th>\n",
              "      <td>115</td>\n",
              "      <td>116</td>\n",
              "      <td>43654197</td>\n",
              "      <td>CL 120 49 C 8</td>\n",
              "      <td>MEDELLIN</td>\n",
              "      <td>-75.551840</td>\n",
              "      <td>6.304134</td>\n",
              "      <td>POINT (-75.55184 6.30413)</td>\n",
              "      <td>d347bg</td>\n",
              "      <td>52</td>\n",
              "      <td>d347bg</td>\n",
              "      <td>d347bg8</td>\n",
              "      <td>52</td>\n",
              "    </tr>\n",
              "    <tr>\n",
              "      <th>3</th>\n",
              "      <td>116</td>\n",
              "      <td>117</td>\n",
              "      <td>43658310</td>\n",
              "      <td>CR 49 A 107 160 IN 1881</td>\n",
              "      <td>MEDELLIN</td>\n",
              "      <td>-75.553070</td>\n",
              "      <td>6.298838</td>\n",
              "      <td>POINT (-75.55307 6.29884)</td>\n",
              "      <td>d347bd</td>\n",
              "      <td>28</td>\n",
              "      <td>d347bd</td>\n",
              "      <td>d347bdx</td>\n",
              "      <td>28</td>\n",
              "    </tr>\n",
              "    <tr>\n",
              "      <th>4</th>\n",
              "      <td>117</td>\n",
              "      <td>118</td>\n",
              "      <td>43660538</td>\n",
              "      <td>CL 125 50 E 23</td>\n",
              "      <td>MEDELLIN</td>\n",
              "      <td>-75.553762</td>\n",
              "      <td>6.307220</td>\n",
              "      <td>POINT (-75.55376 6.30722)</td>\n",
              "      <td>d347bs</td>\n",
              "      <td>11</td>\n",
              "      <td>d347bs</td>\n",
              "      <td>d347bsp</td>\n",
              "      <td>11</td>\n",
              "    </tr>\n",
              "  </tbody>\n",
              "</table>\n",
              "</div>\n",
              "      <button class=\"colab-df-convert\" onclick=\"convertToInteractive('df-d42a0e02-0b5b-47d2-a537-3220c16c1629')\"\n",
              "              title=\"Convert this dataframe to an interactive table.\"\n",
              "              style=\"display:none;\">\n",
              "        \n",
              "  <svg xmlns=\"http://www.w3.org/2000/svg\" height=\"24px\"viewBox=\"0 0 24 24\"\n",
              "       width=\"24px\">\n",
              "    <path d=\"M0 0h24v24H0V0z\" fill=\"none\"/>\n",
              "    <path d=\"M18.56 5.44l.94 2.06.94-2.06 2.06-.94-2.06-.94-.94-2.06-.94 2.06-2.06.94zm-11 1L8.5 8.5l.94-2.06 2.06-.94-2.06-.94L8.5 2.5l-.94 2.06-2.06.94zm10 10l.94 2.06.94-2.06 2.06-.94-2.06-.94-.94-2.06-.94 2.06-2.06.94z\"/><path d=\"M17.41 7.96l-1.37-1.37c-.4-.4-.92-.59-1.43-.59-.52 0-1.04.2-1.43.59L10.3 9.45l-7.72 7.72c-.78.78-.78 2.05 0 2.83L4 21.41c.39.39.9.59 1.41.59.51 0 1.02-.2 1.41-.59l7.78-7.78 2.81-2.81c.8-.78.8-2.07 0-2.86zM5.41 20L4 18.59l7.72-7.72 1.47 1.35L5.41 20z\"/>\n",
              "  </svg>\n",
              "      </button>\n",
              "      \n",
              "  <style>\n",
              "    .colab-df-container {\n",
              "      display:flex;\n",
              "      flex-wrap:wrap;\n",
              "      gap: 12px;\n",
              "    }\n",
              "\n",
              "    .colab-df-convert {\n",
              "      background-color: #E8F0FE;\n",
              "      border: none;\n",
              "      border-radius: 50%;\n",
              "      cursor: pointer;\n",
              "      display: none;\n",
              "      fill: #1967D2;\n",
              "      height: 32px;\n",
              "      padding: 0 0 0 0;\n",
              "      width: 32px;\n",
              "    }\n",
              "\n",
              "    .colab-df-convert:hover {\n",
              "      background-color: #E2EBFA;\n",
              "      box-shadow: 0px 1px 2px rgba(60, 64, 67, 0.3), 0px 1px 3px 1px rgba(60, 64, 67, 0.15);\n",
              "      fill: #174EA6;\n",
              "    }\n",
              "\n",
              "    [theme=dark] .colab-df-convert {\n",
              "      background-color: #3B4455;\n",
              "      fill: #D2E3FC;\n",
              "    }\n",
              "\n",
              "    [theme=dark] .colab-df-convert:hover {\n",
              "      background-color: #434B5C;\n",
              "      box-shadow: 0px 1px 3px 1px rgba(0, 0, 0, 0.15);\n",
              "      filter: drop-shadow(0px 1px 2px rgba(0, 0, 0, 0.3));\n",
              "      fill: #FFFFFF;\n",
              "    }\n",
              "  </style>\n",
              "\n",
              "      <script>\n",
              "        const buttonEl =\n",
              "          document.querySelector('#df-d42a0e02-0b5b-47d2-a537-3220c16c1629 button.colab-df-convert');\n",
              "        buttonEl.style.display =\n",
              "          google.colab.kernel.accessAllowed ? 'block' : 'none';\n",
              "\n",
              "        async function convertToInteractive(key) {\n",
              "          const element = document.querySelector('#df-d42a0e02-0b5b-47d2-a537-3220c16c1629');\n",
              "          const dataTable =\n",
              "            await google.colab.kernel.invokeFunction('convertToInteractive',\n",
              "                                                     [key], {});\n",
              "          if (!dataTable) return;\n",
              "\n",
              "          const docLinkHtml = 'Like what you see? Visit the ' +\n",
              "            '<a target=\"_blank\" href=https://colab.research.google.com/notebooks/data_table.ipynb>data table notebook</a>'\n",
              "            + ' to learn more about interactive tables.';\n",
              "          element.innerHTML = '';\n",
              "          dataTable['output_type'] = 'display_data';\n",
              "          await google.colab.output.renderOutput(dataTable, element);\n",
              "          const docLink = document.createElement('div');\n",
              "          docLink.innerHTML = docLinkHtml;\n",
              "          element.appendChild(docLink);\n",
              "        }\n",
              "      </script>\n",
              "    </div>\n",
              "  </div>\n",
              "  "
            ]
          },
          "metadata": {},
          "execution_count": 175
        }
      ]
    },
    {
      "cell_type": "code",
      "source": [
        "# Guardar el Dataframe en un archivo .csv\n",
        "dir_med_p.to_csv('direcciones_geohash.csv')"
      ],
      "metadata": {
        "id": "6ulHBjO3wvSs"
      },
      "id": "6ulHBjO3wvSs",
      "execution_count": 171,
      "outputs": []
    },
    {
      "cell_type": "code",
      "source": [
        "# Plot comunas en Medellín\n",
        "\n",
        "comunas.set_geometry('geometry').plot('CODIGO', markersize=50, figsize=(15,15), legend= True)\n",
        "#col_2.plot('geometry',ax = ax, facecolor='none', edgecolor='k', linewidth=2)\n",
        "plt.title('Comunas en Medellín')\n",
        "plt.ylabel('Latitud')\n",
        "plt.xlabel('Longitud');"
      ],
      "metadata": {
        "colab": {
          "base_uri": "https://localhost:8080/",
          "height": 799
        },
        "id": "TnVADTBGtGng",
        "outputId": "1d7c34fb-3361-4ff0-eeb8-f35db86b284b"
      },
      "id": "TnVADTBGtGng",
      "execution_count": 76,
      "outputs": [
        {
          "output_type": "display_data",
          "data": {
            "text/plain": [
              "<Figure size 1080x1080 with 1 Axes>"
            ],
            "image/png": "[encoded data removed]"
          },
          "metadata": {
            "needs_background": "light"
          }
        }
      ]
    },
    {
      "cell_type": "code",
      "source": [
        "# Plot comunas en mapa de Antioquia (teniendo en cuenta la densidad)\n",
        "\n",
        "ax = dir_med_p.set_geometry('geometry').plot('Densidad', markersize=50, figsize=(10,10), legend= True)\n",
        "comunas.plot('NOMBRE',ax = ax,facecolor='none', edgecolor='k', linewidth=2)\n",
        "plt.title('Comunas en Medellín')\n",
        "plt.ylabel('Latitud')\n",
        "plt.xlabel('Longitud');"
      ],
      "metadata": {
        "colab": {
          "base_uri": "https://localhost:8080/",
          "height": 574
        },
        "id": "gimoDJE0uhyq",
        "outputId": "37828fd1-0aca-4c6c-c88c-684978b8beaf"
      },
      "id": "gimoDJE0uhyq",
      "execution_count": 157,
      "outputs": [
        {
          "output_type": "display_data",
          "data": {
            "text/plain": [
              "<Figure size 720x720 with 2 Axes>"
            ],
            "image/png": "[encoded data removed]"
          },
          "metadata": {
            "needs_background": "light"
          }
        }
      ]
    },
    {
      "cell_type": "code",
      "source": [
        "import gmaps\n",
        "import gmaps.datasets\n",
        "\n",
        "# Use google maps api\n",
        "gmaps.configure(api_key=api_key) # Fill in with your API key\n",
        "\n",
        "# Get the dataset\n",
        "#dir_med_p = gmaps.datasets.load_dataset_as_df('earthquakes')\n",
        "\n",
        "#Get the locations from the data set\n",
        "locations = dir_med_p[['Latitud', 'Longitud']]\n",
        "#Get the magnitude from the data\n",
        "weights = earthquake_df['magnitude']\n",
        "#Set up your map\n",
        "fig = gmaps.figure()\n",
        "fig.add_layer(gmaps.heatmap_layer(locations, weights=weights))\n",
        "fig"
      ],
      "metadata": {
        "id": "bs8j7Uct0u9N"
      },
      "id": "bs8j7Uct0u9N",
      "execution_count": null,
      "outputs": []
    },
    {
      "cell_type": "markdown",
      "metadata": {
        "id": "ICNEgtC9EIQN"
      },
      "source": [
        "# Datos de las mediciones mensuales por estación"
      ],
      "id": "ICNEgtC9EIQN"
    },
    {
      "cell_type": "code",
      "execution_count": null,
      "metadata": {
        "id": "G-Xu0tqhEIQO"
      },
      "outputs": [],
      "source": [
        "#Nueva\n",
        "# Leer los dataframe de las mediciones mensuales de cada estación de medición y el de las ubicaciones de las estaciones\n",
        "\n",
        "\n",
        "c6_1 = pd.read_csv('/Volumes/GoogleDrive/Mi unidad/Analisis Geo/Nueva/estacion_data_calidadaire_6_20210401_20210430.csv')\n",
        "c6_2 = pd.read_csv('/Volumes/GoogleDrive/Mi unidad/Analisis Geo/Nueva/estacion_data_calidadaire_6_20210501_20210531.csv')\n",
        "c6_3 = pd.read_csv('/Volumes/GoogleDrive/Mi unidad/Analisis Geo/Nueva/estacion_data_calidadaire_6_20210601_20210630.csv')\n",
        "c6_4 = pd.read_csv('/Volumes/GoogleDrive/Mi unidad/Analisis Geo/Nueva/estacion_data_calidadaire_6_20210701_20210731.csv')\n",
        "c11_1 = pd.read_csv('/Volumes/GoogleDrive/Mi unidad/Analisis Geo/Nueva/estacion_data_calidadaire_11_20210401_20210430.csv')\n",
        "c11_2 = pd.read_csv('/Volumes/GoogleDrive/Mi unidad/Analisis Geo/Nueva/estacion_data_calidadaire_11_20210501_20210531.csv')\n",
        "c11_3 = pd.read_csv('/Volumes/GoogleDrive/Mi unidad/Analisis Geo/Nueva/estacion_data_calidadaire_11_20210601_20210630.csv')\n",
        "c11_4 = pd.read_csv('/Volumes/GoogleDrive/Mi unidad/Analisis Geo/Nueva/estacion_data_calidadaire_11_20210701_20210731.csv')\n",
        "c12_1 = pd.read_csv('/Volumes/GoogleDrive/Mi unidad/Analisis Geo/Nueva/estacion_data_calidadaire_12_20210401_20210430.csv')\n",
        "c12_2 = pd.read_csv('/Volumes/GoogleDrive/Mi unidad/Analisis Geo/Nueva/estacion_data_calidadaire_12_20210501_20210531.csv')\n",
        "c12_3 = pd.read_csv('/Volumes/GoogleDrive/Mi unidad/Analisis Geo/Nueva/estacion_data_calidadaire_12_20210601_20210630.csv')\n",
        "c12_4 = pd.read_csv('/Volumes/GoogleDrive/Mi unidad/Analisis Geo/Nueva/estacion_data_calidadaire_12_20210701_20210731.csv')\n",
        "c25_1 = pd.read_csv('/Volumes/GoogleDrive/Mi unidad/Analisis Geo/Nueva/estacion_data_calidadaire_25_20210401_20210430.csv')\n",
        "c25_2 = pd.read_csv('/Volumes/GoogleDrive/Mi unidad/Analisis Geo/Nueva/estacion_data_calidadaire_25_20210501_20210531.csv')\n",
        "c25_3 = pd.read_csv('/Volumes/GoogleDrive/Mi unidad/Analisis Geo/Nueva/estacion_data_calidadaire_25_20210601_20210630.csv')\n",
        "c25_4 = pd.read_csv('/Volumes/GoogleDrive/Mi unidad/Analisis Geo/Nueva/estacion_data_calidadaire_25_20210701_20210731.csv')\n",
        "c28_1 = pd.read_csv('/Volumes/GoogleDrive/Mi unidad/Analisis Geo/Nueva/estacion_data_calidadaire_28_20210401_20210430.csv')\n",
        "c28_2 = pd.read_csv('/Volumes/GoogleDrive/Mi unidad/Analisis Geo/Nueva/estacion_data_calidadaire_28_20210501_20210531.csv')\n",
        "c28_3 = pd.read_csv('/Volumes/GoogleDrive/Mi unidad/Analisis Geo/Nueva/estacion_data_calidadaire_28_20210601_20210630.csv')\n",
        "c28_4 = pd.read_csv('/Volumes/GoogleDrive/Mi unidad/Analisis Geo/Nueva/estacion_data_calidadaire_28_20210701_20210731.csv')\n",
        "c31_1 = pd.read_csv('/Volumes/GoogleDrive/Mi unidad/Analisis Geo/Nueva/estacion_data_calidadaire_31_20210401_20210430.csv')\n",
        "c31_2 = pd.read_csv('/Volumes/GoogleDrive/Mi unidad/Analisis Geo/Nueva/estacion_data_calidadaire_31_20210501_20210531.csv')\n",
        "c31_3 = pd.read_csv('/Volumes/GoogleDrive/Mi unidad/Analisis Geo/Nueva/estacion_data_calidadaire_31_20210601_20210630.csv')\n",
        "c31_4 = pd.read_csv('/Volumes/GoogleDrive/Mi unidad/Analisis Geo/Nueva/estacion_data_calidadaire_31_20210701_20210731.csv')\n",
        "c37_1 = pd.read_csv('/Volumes/GoogleDrive/Mi unidad/Analisis Geo/Nueva/estacion_data_calidadaire_37_20210401_20210430.csv')\n",
        "c37_2 = pd.read_csv('/Volumes/GoogleDrive/Mi unidad/Analisis Geo/Nueva/estacion_data_calidadaire_37_20210501_20210531.csv')\n",
        "c37_3 = pd.read_csv('/Volumes/GoogleDrive/Mi unidad/Analisis Geo/Nueva/estacion_data_calidadaire_37_20210601_20210630.csv')\n",
        "c37_4 = pd.read_csv('/Volumes/GoogleDrive/Mi unidad/Analisis Geo/Nueva/estacion_data_calidadaire_37_20210701_20210731.csv')\n",
        "c38_1 = pd.read_csv('/Volumes/GoogleDrive/Mi unidad/Analisis Geo/Nueva/estacion_data_calidadaire_38_20210401_20210430.csv')\n",
        "c38_2 = pd.read_csv('/Volumes/GoogleDrive/Mi unidad/Analisis Geo/Nueva/estacion_data_calidadaire_38_20210501_20210531.csv')\n",
        "c38_3 = pd.read_csv('/Volumes/GoogleDrive/Mi unidad/Analisis Geo/Nueva/estacion_data_calidadaire_38_20210601_20210630.csv')\n",
        "c38_4 = pd.read_csv('/Volumes/GoogleDrive/Mi unidad/Analisis Geo/Nueva/estacion_data_calidadaire_38_20210701_20210731.csv')\n",
        "c40_1 = pd.read_csv('/Volumes/GoogleDrive/Mi unidad/Analisis Geo/Nueva/estacion_data_calidadaire_40_20210401_20210430.csv')\n",
        "c40_2 = pd.read_csv('/Volumes/GoogleDrive/Mi unidad/Analisis Geo/Nueva/estacion_data_calidadaire_40_20210501_20210531.csv')\n",
        "c40_3 = pd.read_csv('/Volumes/GoogleDrive/Mi unidad/Analisis Geo/Nueva/estacion_data_calidadaire_40_20210601_20210630.csv')\n",
        "c40_4 = pd.read_csv('/Volumes/GoogleDrive/Mi unidad/Analisis Geo/Nueva/estacion_data_calidadaire_40_20210701_20210731.csv')\n",
        "c41_1 = pd.read_csv('/Volumes/GoogleDrive/Mi unidad/Analisis Geo/Nueva/estacion_data_calidadaire_41_20210401_20210430.csv')\n",
        "c41_2 = pd.read_csv('/Volumes/GoogleDrive/Mi unidad/Analisis Geo/Nueva/estacion_data_calidadaire_41_20210501_20210531.csv')\n",
        "c41_3 = pd.read_csv('/Volumes/GoogleDrive/Mi unidad/Analisis Geo/Nueva/estacion_data_calidadaire_41_20210601_20210630.csv')\n",
        "c41_4 = pd.read_csv('/Volumes/GoogleDrive/Mi unidad/Analisis Geo/Nueva/estacion_data_calidadaire_41_20210701_20210731.csv')\n",
        "c43_1 = pd.read_csv('/Volumes/GoogleDrive/Mi unidad/Analisis Geo/Nueva/estacion_data_calidadaire_43_20210401_20210430.csv')\n",
        "c43_2 = pd.read_csv('/Volumes/GoogleDrive/Mi unidad/Analisis Geo/Nueva/estacion_data_calidadaire_43_20210501_20210531.csv')\n",
        "c43_3 = pd.read_csv('/Volumes/GoogleDrive/Mi unidad/Analisis Geo/Nueva/estacion_data_calidadaire_43_20210601_20210630.csv')\n",
        "c43_4 = pd.read_csv('/Volumes/GoogleDrive/Mi unidad/Analisis Geo/Nueva/estacion_data_calidadaire_43_20210701_20210731.csv')\n",
        "c44_1 = pd.read_csv('/Volumes/GoogleDrive/Mi unidad/Analisis Geo/Nueva/estacion_data_calidadaire_44_20210401_20210430.csv')\n",
        "c44_2 = pd.read_csv('/Volumes/GoogleDrive/Mi unidad/Analisis Geo/Nueva/estacion_data_calidadaire_44_20210501_20210531.csv')\n",
        "c44_3 = pd.read_csv('/Volumes/GoogleDrive/Mi unidad/Analisis Geo/Nueva/estacion_data_calidadaire_44_20210601_20210630.csv')\n",
        "c44_4 = pd.read_csv('/Volumes/GoogleDrive/Mi unidad/Analisis Geo/Nueva/estacion_data_calidadaire_44_20210701_20210731.csv')\n",
        "c46_1 = pd.read_csv('/Volumes/GoogleDrive/Mi unidad/Analisis Geo/Nueva/estacion_data_calidadaire_46_20210401_20210430.csv')\n",
        "c46_2 = pd.read_csv('/Volumes/GoogleDrive/Mi unidad/Analisis Geo/Nueva/estacion_data_calidadaire_46_20210501_20210531.csv')\n",
        "c46_3 = pd.read_csv('/Volumes/GoogleDrive/Mi unidad/Analisis Geo/Nueva/estacion_data_calidadaire_46_20210601_20210630.csv')\n",
        "c46_4 = pd.read_csv('/Volumes/GoogleDrive/Mi unidad/Analisis Geo/Nueva/estacion_data_calidadaire_46_20210701_20210731.csv')\n",
        "c48_1 = pd.read_csv('/Volumes/GoogleDrive/Mi unidad/Analisis Geo/Nueva/estacion_data_calidadaire_48_20210401_20210430.csv')\n",
        "c48_2 = pd.read_csv('/Volumes/GoogleDrive/Mi unidad/Analisis Geo/Nueva/estacion_data_calidadaire_48_20210501_20210531.csv')\n",
        "c48_3 = pd.read_csv('/Volumes/GoogleDrive/Mi unidad/Analisis Geo/Nueva/estacion_data_calidadaire_48_20210601_20210630.csv')\n",
        "c48_4 = pd.read_csv('/Volumes/GoogleDrive/Mi unidad/Analisis Geo/Nueva/estacion_data_calidadaire_48_20210701_20210731.csv')\n",
        "c69_1 = pd.read_csv('/Volumes/GoogleDrive/Mi unidad/Analisis Geo/Nueva/estacion_data_calidadaire_69_20210401_20210430.csv')\n",
        "c69_2 = pd.read_csv('/Volumes/GoogleDrive/Mi unidad/Analisis Geo/Nueva/estacion_data_calidadaire_69_20210501_20210531.csv')\n",
        "c69_3 = pd.read_csv('/Volumes/GoogleDrive/Mi unidad/Analisis Geo/Nueva/estacion_data_calidadaire_69_20210601_20210630.csv')\n",
        "c69_4 = pd.read_csv('/Volumes/GoogleDrive/Mi unidad/Analisis Geo/Nueva/estacion_data_calidadaire_69_20210701_20210731.csv')\n",
        "c74_1 = pd.read_csv('/Volumes/GoogleDrive/Mi unidad/Analisis Geo/Nueva/estacion_data_calidadaire_74_20210401_20210430.csv')\n",
        "c74_2 = pd.read_csv('/Volumes/GoogleDrive/Mi unidad/Analisis Geo/Nueva/estacion_data_calidadaire_74_20210501_20210531.csv')\n",
        "c74_3 = pd.read_csv('/Volumes/GoogleDrive/Mi unidad/Analisis Geo/Nueva/estacion_data_calidadaire_74_20210601_20210630.csv')\n",
        "c74_4 = pd.read_csv('/Volumes/GoogleDrive/Mi unidad/Analisis Geo/Nueva/estacion_data_calidadaire_74_20210701_20210731.csv')\n",
        "c78_1 = pd.read_csv('/Volumes/GoogleDrive/Mi unidad/Analisis Geo/Nueva/estacion_data_calidadaire_78_20210401_20210430.csv')\n",
        "c78_2 = pd.read_csv('/Volumes/GoogleDrive/Mi unidad/Analisis Geo/Nueva/estacion_data_calidadaire_78_20210501_20210531.csv')\n",
        "c78_3 = pd.read_csv('/Volumes/GoogleDrive/Mi unidad/Analisis Geo/Nueva/estacion_data_calidadaire_78_20210601_20210630.csv')\n",
        "c78_4 = pd.read_csv('/Volumes/GoogleDrive/Mi unidad/Analisis Geo/Nueva/estacion_data_calidadaire_78_20210701_20210731.csv')\n",
        "c79_1 = pd.read_csv('/Volumes/GoogleDrive/Mi unidad/Analisis Geo/Nueva/estacion_data_calidadaire_79_20210401_20210430.csv')\n",
        "c79_2 = pd.read_csv('/Volumes/GoogleDrive/Mi unidad/Analisis Geo/Nueva/estacion_data_calidadaire_79_20210501_20210531.csv')\n",
        "c79_3 = pd.read_csv('/Volumes/GoogleDrive/Mi unidad/Analisis Geo/Nueva/estacion_data_calidadaire_79_20210601_20210630.csv')\n",
        "c79_4 = pd.read_csv('/Volumes/GoogleDrive/Mi unidad/Analisis Geo/Nueva/estacion_data_calidadaire_79_20210701_20210731.csv')\n",
        "c80_1 = pd.read_csv('/Volumes/GoogleDrive/Mi unidad/Analisis Geo/Nueva/estacion_data_calidadaire_80_20210401_20210430.csv')\n",
        "c80_2 = pd.read_csv('/Volumes/GoogleDrive/Mi unidad/Analisis Geo/Nueva/estacion_data_calidadaire_80_20210501_20210531.csv')\n",
        "c80_3 = pd.read_csv('/Volumes/GoogleDrive/Mi unidad/Analisis Geo/Nueva/estacion_data_calidadaire_80_20210601_20210630.csv')\n",
        "c80_4 = pd.read_csv('/Volumes/GoogleDrive/Mi unidad/Analisis Geo/Nueva/estacion_data_calidadaire_80_20210701_20210731.csv')\n",
        "c81_1 = pd.read_csv('/Volumes/GoogleDrive/Mi unidad/Analisis Geo/Nueva/estacion_data_calidadaire_81_20210401_20210430.csv')\n",
        "c81_2 = pd.read_csv('/Volumes/GoogleDrive/Mi unidad/Analisis Geo/Nueva/estacion_data_calidadaire_81_20210501_20210531.csv')\n",
        "c81_3 = pd.read_csv('/Volumes/GoogleDrive/Mi unidad/Analisis Geo/Nueva/estacion_data_calidadaire_81_20210601_20210630.csv')\n",
        "c81_4 = pd.read_csv('/Volumes/GoogleDrive/Mi unidad/Analisis Geo/Nueva/estacion_data_calidadaire_81_20210701_20210731.csv')\n",
        "c82_1 = pd.read_csv('/Volumes/GoogleDrive/Mi unidad/Analisis Geo/Nueva/estacion_data_calidadaire_82_20210401_20210430.csv')\n",
        "c82_2 = pd.read_csv('/Volumes/GoogleDrive/Mi unidad/Analisis Geo/Nueva/estacion_data_calidadaire_82_20210501_20210531.csv')\n",
        "c82_3 = pd.read_csv('/Volumes/GoogleDrive/Mi unidad/Analisis Geo/Nueva/estacion_data_calidadaire_82_20210601_20210630.csv')\n",
        "c82_4 = pd.read_csv('/Volumes/GoogleDrive/Mi unidad/Analisis Geo/Nueva/estacion_data_calidadaire_82_20210701_20210731.csv')\n",
        "c83_1 = pd.read_csv('/Volumes/GoogleDrive/Mi unidad/Analisis Geo/Nueva/estacion_data_calidadaire_83_20210401_20210430.csv')\n",
        "c83_2 = pd.read_csv('/Volumes/GoogleDrive/Mi unidad/Analisis Geo/Nueva/estacion_data_calidadaire_83_20210501_20210531.csv')\n",
        "c83_3 = pd.read_csv('/Volumes/GoogleDrive/Mi unidad/Analisis Geo/Nueva/estacion_data_calidadaire_83_20210601_20210630.csv')\n",
        "c83_4 = pd.read_csv('/Volumes/GoogleDrive/Mi unidad/Analisis Geo/Nueva/estacion_data_calidadaire_83_20210701_20210731.csv')\n",
        "c84_1 = pd.read_csv('/Volumes/GoogleDrive/Mi unidad/Analisis Geo/Nueva/estacion_data_calidadaire_84_20210401_20210430.csv')\n",
        "c84_2 = pd.read_csv('/Volumes/GoogleDrive/Mi unidad/Analisis Geo/Nueva/estacion_data_calidadaire_84_20210501_20210531.csv')\n",
        "c84_3 = pd.read_csv('/Volumes/GoogleDrive/Mi unidad/Analisis Geo/Nueva/estacion_data_calidadaire_84_20210601_20210630.csv')\n",
        "c84_4 = pd.read_csv('/Volumes/GoogleDrive/Mi unidad/Analisis Geo/Nueva/estacion_data_calidadaire_84_20210701_20210731.csv')\n",
        "c85_1 = pd.read_csv('/Volumes/GoogleDrive/Mi unidad/Analisis Geo/Nueva/estacion_data_calidadaire_85_20210401_20210430.csv')\n",
        "c85_2 = pd.read_csv('/Volumes/GoogleDrive/Mi unidad/Analisis Geo/Nueva/estacion_data_calidadaire_85_20210501_20210531.csv')\n",
        "c85_3 = pd.read_csv('/Volumes/GoogleDrive/Mi unidad/Analisis Geo/Nueva/estacion_data_calidadaire_85_20210601_20210630.csv')\n",
        "c85_4 = pd.read_csv('/Volumes/GoogleDrive/Mi unidad/Analisis Geo/Nueva/estacion_data_calidadaire_85_20210701_20210731.csv')\n",
        "c86_1 = pd.read_csv('/Volumes/GoogleDrive/Mi unidad/Analisis Geo/Nueva/estacion_data_calidadaire_86_20210401_20210430.csv')\n",
        "c86_2 = pd.read_csv('/Volumes/GoogleDrive/Mi unidad/Analisis Geo/Nueva/estacion_data_calidadaire_86_20210501_20210531.csv')\n",
        "c86_3 = pd.read_csv('/Volumes/GoogleDrive/Mi unidad/Analisis Geo/Nueva/estacion_data_calidadaire_86_20210601_20210630.csv')\n",
        "c86_4 = pd.read_csv('/Volumes/GoogleDrive/Mi unidad/Analisis Geo/Nueva/estacion_data_calidadaire_86_20210701_20210731.csv')\n",
        "c87_1 = pd.read_csv('/Volumes/GoogleDrive/Mi unidad/Analisis Geo/Nueva/estacion_data_calidadaire_87_20210401_20210430.csv')\n",
        "c87_2 = pd.read_csv('/Volumes/GoogleDrive/Mi unidad/Analisis Geo/Nueva/estacion_data_calidadaire_87_20210501_20210531.csv')\n",
        "c87_3 = pd.read_csv('/Volumes/GoogleDrive/Mi unidad/Analisis Geo/Nueva/estacion_data_calidadaire_87_20210601_20210630.csv')\n",
        "c87_4 = pd.read_csv('/Volumes/GoogleDrive/Mi unidad/Analisis Geo/Nueva/estacion_data_calidadaire_87_20210701_20210731.csv')\n",
        "c88_1 = pd.read_csv('/Volumes/GoogleDrive/Mi unidad/Analisis Geo/Nueva/estacion_data_calidadaire_88_20210401_20210430.csv')\n",
        "c88_2 = pd.read_csv('/Volumes/GoogleDrive/Mi unidad/Analisis Geo/Nueva/estacion_data_calidadaire_88_20210501_20210531.csv')\n",
        "c88_3 = pd.read_csv('/Volumes/GoogleDrive/Mi unidad/Analisis Geo/Nueva/estacion_data_calidadaire_88_20210601_20210630.csv')\n",
        "c88_4 = pd.read_csv('/Volumes/GoogleDrive/Mi unidad/Analisis Geo/Nueva/estacion_data_calidadaire_88_20210701_20210731.csv')\n",
        "c90_1 = pd.read_csv('/Volumes/GoogleDrive/Mi unidad/Analisis Geo/Nueva/estacion_data_calidadaire_90_20210401_20210430.csv')\n",
        "c90_2 = pd.read_csv('/Volumes/GoogleDrive/Mi unidad/Analisis Geo/Nueva/estacion_data_calidadaire_90_20210501_20210531.csv')\n",
        "c90_3 = pd.read_csv('/Volumes/GoogleDrive/Mi unidad/Analisis Geo/Nueva/estacion_data_calidadaire_90_20210601_20210630.csv')\n",
        "c90_4 = pd.read_csv('/Volumes/GoogleDrive/Mi unidad/Analisis Geo/Nueva/estacion_data_calidadaire_90_20210701_20210731.csv')\n",
        "c92_1 = pd.read_csv('/Volumes/GoogleDrive/Mi unidad/Analisis Geo/Nueva/estacion_data_calidadaire_92_20210401_20210430.csv')\n",
        "c92_2 = pd.read_csv('/Volumes/GoogleDrive/Mi unidad/Analisis Geo/Nueva/estacion_data_calidadaire_92_20210501_20210531.csv')\n",
        "c92_3 = pd.read_csv('/Volumes/GoogleDrive/Mi unidad/Analisis Geo/Nueva/estacion_data_calidadaire_92_20210601_20210630.csv')\n",
        "c92_4 = pd.read_csv('/Volumes/GoogleDrive/Mi unidad/Analisis Geo/Nueva/estacion_data_calidadaire_92_20210701_20210731.csv')\n",
        "c94_1 = pd.read_csv('/Volumes/GoogleDrive/Mi unidad/Analisis Geo/Nueva/estacion_data_calidadaire_94_20210401_20210430.csv')\n",
        "c94_2 = pd.read_csv('/Volumes/GoogleDrive/Mi unidad/Analisis Geo/Nueva/estacion_data_calidadaire_94_20210501_20210531.csv')\n",
        "c94_3 = pd.read_csv('/Volumes/GoogleDrive/Mi unidad/Analisis Geo/Nueva/estacion_data_calidadaire_94_20210601_20210630.csv')\n",
        "c94_4 = pd.read_csv('/Volumes/GoogleDrive/Mi unidad/Analisis Geo/Nueva/estacion_data_calidadaire_94_20210701_20210731.csv')\n",
        "c100_1 = pd.read_csv('/Volumes/GoogleDrive/Mi unidad/Analisis Geo/Nueva/estacion_data_calidadaire_100_20210401_20210430.csv')\n",
        "c100_2 = pd.read_csv('/Volumes/GoogleDrive/Mi unidad/Analisis Geo/Nueva/estacion_data_calidadaire_100_20210501_20210531.csv')\n",
        "c100_3 = pd.read_csv('/Volumes/GoogleDrive/Mi unidad/Analisis Geo/Nueva/estacion_data_calidadaire_100_20210601_20210630.csv')\n",
        "c100_4 = pd.read_csv('/Volumes/GoogleDrive/Mi unidad/Analisis Geo/Nueva/estacion_data_calidadaire_100_20210701_20210731.csv')\n",
        "c101_1 = pd.read_csv('/Volumes/GoogleDrive/Mi unidad/Analisis Geo/Nueva/estacion_data_calidadaire_101_20210401_20210430.csv')\n",
        "c101_2 = pd.read_csv('/Volumes/GoogleDrive/Mi unidad/Analisis Geo/Nueva/estacion_data_calidadaire_101_20210501_20210531.csv')\n",
        "c101_3 = pd.read_csv('/Volumes/GoogleDrive/Mi unidad/Analisis Geo/Nueva/estacion_data_calidadaire_101_20210601_20210630.csv')\n",
        "c101_4 = pd.read_csv('/Volumes/GoogleDrive/Mi unidad/Analisis Geo/Nueva/estacion_data_calidadaire_101_20210701_20210731.csv')\n"
      ],
      "id": "G-Xu0tqhEIQO"
    },
    {
      "cell_type": "code",
      "execution_count": null,
      "metadata": {
        "id": "1sbe7P9nEIQS"
      },
      "outputs": [],
      "source": [
        "# Antigua\n",
        "# Leer los dataframe de las mediciones mensuales de cada estación de medición y el de las ubicaciones de las estaciones\n",
        "c6_1 = pd.read_csv('/Volumes/GoogleDrive/Mi unidad/Analisis Geo/estacion_data_calidadaire_6_20210101_20210131.csv')\n",
        "c6_2 = pd.read_csv('/Volumes/GoogleDrive/Mi unidad/Analisis Geo/estacion_data_calidadaire_6_20210201_20210228.csv')\n",
        "c6_3 = pd.read_csv('/Volumes/GoogleDrive/Mi unidad/Analisis Geo/estacion_data_calidadaire_6_20210301_20210331.csv')\n",
        "c11_1 = pd.read_csv('/Volumes/GoogleDrive/Mi unidad/Analisis Geo/estacion_data_calidadaire_11_20210101_20210131.csv')\n",
        "c11_2 = pd.read_csv('/Volumes/GoogleDrive/Mi unidad/Analisis Geo/estacion_data_calidadaire_11_20210201_20210228.csv')\n",
        "c11_3 = pd.read_csv('/Volumes/GoogleDrive/Mi unidad/Analisis Geo/estacion_data_calidadaire_11_20210301_20210331.csv')\n",
        "c25_1 = pd.read_csv('/Volumes/GoogleDrive/Mi unidad/Analisis Geo/estacion_data_calidadaire_25_20210101_20210131.csv')\n",
        "c25_2 = pd.read_csv('/Volumes/GoogleDrive/Mi unidad/Analisis Geo/estacion_data_calidadaire_25_20210201_20210228.csv')\n",
        "c25_3 = pd.read_csv('/Volumes/GoogleDrive/Mi unidad/Analisis Geo/estacion_data_calidadaire_25_20210301_20210331.csv')\n",
        "c28_1 = pd.read_csv('/Volumes/GoogleDrive/Mi unidad/Analisis Geo/estacion_data_calidadaire_28_20210101_20210131.csv')\n",
        "c28_2 = pd.read_csv('/Volumes/GoogleDrive/Mi unidad/Analisis Geo/estacion_data_calidadaire_28_20210201_20210228.csv')\n",
        "c28_3 = pd.read_csv('/Volumes/GoogleDrive/Mi unidad/Analisis Geo/estacion_data_calidadaire_28_20210301_20210331.csv')\n",
        "c31_1 = pd.read_csv('/Volumes/GoogleDrive/Mi unidad/Analisis Geo/estacion_data_calidadaire_31_20210101_20210131.csv')\n",
        "c31_2 = pd.read_csv('/Volumes/GoogleDrive/Mi unidad/Analisis Geo/estacion_data_calidadaire_31_20210201_20210228.csv')\n",
        "c31_3 = pd.read_csv('/Volumes/GoogleDrive/Mi unidad/Analisis Geo/estacion_data_calidadaire_31_20210301_20210331.csv')\n",
        "c37_1 = pd.read_csv('/Volumes/GoogleDrive/Mi unidad/Analisis Geo/estacion_data_calidadaire_37_20210101_20210131.csv')\n",
        "c37_2 = pd.read_csv('/Volumes/GoogleDrive/Mi unidad/Analisis Geo/estacion_data_calidadaire_37_20210201_20210228.csv')\n",
        "c37_3 = pd.read_csv('/Volumes/GoogleDrive/Mi unidad/Analisis Geo/estacion_data_calidadaire_37_20210301_20210331.csv')\n",
        "c41_1 = pd.read_csv('/Volumes/GoogleDrive/Mi unidad/Analisis Geo/estacion_data_calidadaire_41_20210101_20210131.csv')\n",
        "c41_2 = pd.read_csv('/Volumes/GoogleDrive/Mi unidad/Analisis Geo/estacion_data_calidadaire_41_20210201_20210228.csv')\n",
        "c41_3 = pd.read_csv('/Volumes/GoogleDrive/Mi unidad/Analisis Geo/estacion_data_calidadaire_41_20210301_20210331.csv')\n",
        "c43_1 = pd.read_csv('/Volumes/GoogleDrive/Mi unidad/Analisis Geo/estacion_data_calidadaire_43_20210101_20210131.csv')\n",
        "c43_2 = pd.read_csv('/Volumes/GoogleDrive/Mi unidad/Analisis Geo/estacion_data_calidadaire_43_20210201_20210228.csv')\n",
        "c43_3 = pd.read_csv('/Volumes/GoogleDrive/Mi unidad/Analisis Geo/estacion_data_calidadaire_43_20210301_20210331.csv')\n",
        "c44_1 = pd.read_csv('/Volumes/GoogleDrive/Mi unidad/Analisis Geo/estacion_data_calidadaire_44_20210101_20210131.csv')\n",
        "c44_2 = pd.read_csv('/Volumes/GoogleDrive/Mi unidad/Analisis Geo/estacion_data_calidadaire_44_20210201_20210228.csv')\n",
        "c44_3 = pd.read_csv('/Volumes/GoogleDrive/Mi unidad/Analisis Geo/estacion_data_calidadaire_44_20210301_20210331.csv')\n",
        "c46_1 = pd.read_csv('/Volumes/GoogleDrive/Mi unidad/Analisis Geo/estacion_data_calidadaire_46_20210101_20210131.csv')\n",
        "c46_2 = pd.read_csv('/Volumes/GoogleDrive/Mi unidad/Analisis Geo/estacion_data_calidadaire_46_20210201_20210228.csv')\n",
        "c46_3 = pd.read_csv('/Volumes/GoogleDrive/Mi unidad/Analisis Geo/estacion_data_calidadaire_46_20210301_20210331.csv')"
      ],
      "id": "1sbe7P9nEIQS"
    },
    {
      "cell_type": "code",
      "execution_count": null,
      "metadata": {
        "id": "1C4MSWCOEIQU"
      },
      "outputs": [],
      "source": [
        "# Vieja\n",
        "# Unir para cada estación los dataframe de las mediciones mensuales\n",
        "c6 = c6_1.append(c6_2).append(c6_3)\n",
        "c11 = c11_1.append(c11_2).append(c11_3)\n",
        "c25 = c25_1.append(c25_2).append(c25_3)\n",
        "c28 = c28_1.append(c28_2).append(c28_3)\n",
        "c31 = c31_1.append(c31_2).append(c31_3)\n",
        "c37 = c37_1.append(c37_2).append(c37_3)\n",
        "c41 = c41_1.append(c41_2).append(c41_3)\n",
        "c43 = c43_1.append(c43_2).append(c43_3)\n",
        "c44 = c44_1.append(c44_2).append(c44_3)\n",
        "c46 = c46_1.append(c46_2).append(c46_3)"
      ],
      "id": "1C4MSWCOEIQU"
    },
    {
      "cell_type": "code",
      "execution_count": null,
      "metadata": {
        "id": "UQtQOXUEEIQV"
      },
      "outputs": [],
      "source": [
        "# Nueva\n",
        "# Unir para cada estación los dataframe de las mediciones mensuales\n",
        "c6 = c6_1.append(c6_2).append(c6_3).append(c6_4)\n",
        "c11 = c11_1.append(c11_2).append(c11_3).append(c11_4)\n",
        "c12 = c12_1.append(c12_2).append(c12_3).append(c12_4)\n",
        "c25 = c25_1.append(c25_2).append(c25_3).append(c25_4)\n",
        "c28 = c28_1.append(c28_2).append(c28_3).append(c28_4)\n",
        "c31 = c31_1.append(c31_2).append(c31_3).append(c31_4)\n",
        "c37 = c37_1.append(c37_2).append(c37_3).append(c37_4)\n",
        "c38 = c38_1.append(c38_2).append(c38_3).append(c38_4)\n",
        "c40 = c40_1.append(c40_2).append(c40_3).append(c40_4)\n",
        "c41 = c41_1.append(c41_2).append(c41_3).append(c41_4)\n",
        "c43 = c43_1.append(c43_2).append(c43_3).append(c43_4)\n",
        "c44 = c44_1.append(c44_2).append(c44_3).append(c44_4)\n",
        "c46 = c46_1.append(c46_2).append(c46_3).append(c46_4)\n",
        "c48 = c48_1.append(c48_2).append(c48_3).append(c48_4)\n",
        "c69 = c69_1.append(c69_2).append(c69_3).append(c69_4)\n",
        "c74 = c74_1.append(c74_2).append(c74_3).append(c74_4)\n",
        "c78 = c78_1.append(c78_2).append(c78_3).append(c78_4)\n",
        "c79 = c79_1.append(c79_2).append(c79_3).append(c79_4)\n",
        "c80 = c80_1.append(c80_2).append(c80_3).append(c80_4)\n",
        "c81 = c81_1.append(c81_2).append(c81_3).append(c81_4)\n",
        "c82 = c82_1.append(c82_2).append(c82_3).append(c82_4)\n",
        "c83 = c83_1.append(c83_2).append(c83_3).append(c83_4)\n",
        "c84 = c84_1.append(c84_2).append(c84_3).append(c84_4)\n",
        "c85 = c85_1.append(c85_2).append(c85_3).append(c85_4)\n",
        "c86 = c86_1.append(c86_2).append(c86_3).append(c86_4)\n",
        "c87 = c87_1.append(c87_2).append(c87_3).append(c87_4)\n",
        "c88 = c88_1.append(c88_2).append(c88_3).append(c88_4)\n",
        "c90 = c90_1.append(c90_2).append(c90_3).append(c90_4)\n",
        "c92 = c92_1.append(c92_2).append(c92_3).append(c92_4)\n",
        "c94 = c94_1.append(c94_2).append(c94_3).append(c94_4)\n",
        "c100 = c100_1.append(c100_2).append(c100_3).append(c100_4)\n",
        "c101 = c101_1.append(c101_2).append(c101_3).append(c101_4)"
      ],
      "id": "UQtQOXUEEIQV"
    },
    {
      "cell_type": "code",
      "execution_count": null,
      "metadata": {
        "tags": [],
        "id": "xNi9RBRwEIQW"
      },
      "outputs": [],
      "source": [
        "c6.head()"
      ],
      "id": "xNi9RBRwEIQW"
    },
    {
      "cell_type": "code",
      "execution_count": null,
      "metadata": {
        "id": "P8mJRAOdEIQW"
      },
      "outputs": [],
      "source": [
        "# Agregar una columna llamada \"Estación\", la cual tiene el valor de estación de  medicion\n",
        "c6['estacion'] = list(\"6\")*c6.shape[0]\n",
        "c11['estacion'] = list([\"11\"])*c11.shape[0]\n",
        "c25['estacion'] = list([\"25\"])*c25.shape[0]\n",
        "c28['estacion'] = list([\"28\"])*c28.shape[0]\n",
        "c31['estacion'] = list([\"31\"])*c31.shape[0]\n",
        "c37['estacion'] = list([\"37\"])*c37.shape[0]\n",
        "c41['estacion'] = list([\"41\"])*c41.shape[0]\n",
        "c43['estacion'] = list([\"43\"])*c43.shape[0]\n",
        "c44['estacion'] = list([\"44\"])*c44.shape[0]\n",
        "c46['estacion'] = list([\"46\"])*c46.shape[0]\n"
      ],
      "id": "P8mJRAOdEIQW"
    },
    {
      "cell_type": "code",
      "execution_count": null,
      "metadata": {
        "id": "iiXkmKKREIQX"
      },
      "outputs": [],
      "source": [
        "# Agregar una columna llamada \"Estación\", la cual tiene el valor de estación de  medicion\n",
        "c6['estacion'] = list(\"6\")*c6.shape[0]\n",
        "c11['estacion'] = list([\"11\"])*c11.shape[0]\n",
        "c12['estacion'] = list([\"12\"])*c12.shape[0]\n",
        "c25['estacion'] = list([\"25\"])*c25.shape[0]\n",
        "c28['estacion'] = list([\"28\"])*c28.shape[0]\n",
        "c31['estacion'] = list([\"31\"])*c31.shape[0]\n",
        "c37['estacion'] = list([\"37\"])*c37.shape[0]\n",
        "c38['estacion'] = list([\"38\"])*c38.shape[0]\n",
        "c40['estacion'] = list([\"40\"])*c40.shape[0]\n",
        "c41['estacion'] = list([\"41\"])*c41.shape[0]\n",
        "c43['estacion'] = list([\"43\"])*c43.shape[0]\n",
        "c44['estacion'] = list([\"44\"])*c44.shape[0]\n",
        "c46['estacion'] = list([\"46\"])*c46.shape[0]\n",
        "c48['estacion'] = list([\"48\"])*c48.shape[0]\n",
        "c69['estacion'] = list([\"69\"])*c69.shape[0]\n",
        "c74['estacion'] = list([\"74\"])*c74.shape[0]\n",
        "c78['estacion'] = list([\"78\"])*c78.shape[0]\n",
        "c79['estacion'] = list([\"79\"])*c79.shape[0]\n",
        "c80['estacion'] = list([\"80\"])*c80.shape[0]\n",
        "c81['estacion'] = list([\"81\"])*c81.shape[0]\n",
        "c82['estacion'] = list([\"82\"])*c82.shape[0]\n",
        "c83['estacion'] = list([\"83\"])*c83.shape[0]\n",
        "c84['estacion'] = list([\"84\"])*c84.shape[0]\n",
        "c85['estacion'] = list([\"85\"])*c85.shape[0]\n",
        "c86['estacion'] = list([\"86\"])*c86.shape[0]\n",
        "c87['estacion'] = list([\"87\"])*c87.shape[0]\n",
        "c88['estacion'] = list([\"88\"])*c88.shape[0]\n",
        "c90['estacion'] = list([\"90\"])*c90.shape[0]\n",
        "c92['estacion'] = list([\"92\"])*c92.shape[0]\n",
        "c94['estacion'] = list([\"94\"])*c94.shape[0]\n",
        "c100['estacion'] = list([\"100\"])*c100.shape[0]\n",
        "c101['estacion'] = list([\"101\"])*c101.shape[0]\n"
      ],
      "id": "iiXkmKKREIQX"
    },
    {
      "cell_type": "code",
      "execution_count": null,
      "metadata": {
        "id": "E-jUbY6DEIQY"
      },
      "outputs": [],
      "source": [
        "#Vieja\n",
        "# Unir en un solo dataframe todas las tablas de las mediciones de aire de las estaciones totales\n",
        "c = c6.append(c11).append(c25).append(c28).append(c31).append(c37).append(c41).append(c43).append(c44).append(c46)\n",
        "c.head()"
      ],
      "id": "E-jUbY6DEIQY"
    },
    {
      "cell_type": "code",
      "execution_count": null,
      "metadata": {
        "id": "jbnwn5FTEIQY"
      },
      "outputs": [],
      "source": [
        "#Nueva\n",
        "# Unir en un solo dataframe todas las tablas de las mediciones de aire de las estaciones totales\n",
        "c = c6.append(c11).append(c12).append(c25).append(c28).append(c31).append(c37).append(c38).append(c40).append(c41).append(c43).append(c44).append(c46).append(c48).append(c69).append(c74).append(c78).append(c79).append(c80).append(c81).append(c82).append(c83).append(c84).append(c85).append(c86).append(c87).append(c88).append(c90).append(c92).append(c94).append(c100).append(c101)\n",
        "c.head()"
      ],
      "id": "jbnwn5FTEIQY"
    },
    {
      "cell_type": "code",
      "execution_count": null,
      "metadata": {
        "id": "oue2IhnXEIQZ"
      },
      "outputs": [],
      "source": [
        "type(c)"
      ],
      "id": "oue2IhnXEIQZ"
    },
    {
      "cell_type": "code",
      "execution_count": null,
      "metadata": {
        "id": "prFagrDxEIQZ"
      },
      "outputs": [],
      "source": [
        "type(estaciones)"
      ],
      "id": "prFagrDxEIQZ"
    },
    {
      "cell_type": "code",
      "execution_count": null,
      "metadata": {
        "tags": [],
        "id": "yFZkZvQlEIQa"
      },
      "outputs": [],
      "source": [
        "# Unir las tablas que tienen las mediciones de las estaciones, con el que tiene las ubicaciones de las mismas. Key para ello es la vble \"código\"\n",
        "db = c.set_index('estacion').join(estaciones.set_index('Codigo'))\n",
        "db.head()"
      ],
      "id": "yFZkZvQlEIQa"
    },
    {
      "cell_type": "code",
      "execution_count": null,
      "metadata": {
        "id": "XtRAvzHgEIQb"
      },
      "outputs": [],
      "source": [
        "type(db)"
      ],
      "id": "XtRAvzHgEIQb"
    },
    {
      "cell_type": "code",
      "execution_count": null,
      "metadata": {
        "id": "IveVbAdFEIQb"
      },
      "outputs": [],
      "source": [
        "db.shape"
      ],
      "id": "IveVbAdFEIQb"
    },
    {
      "cell_type": "code",
      "execution_count": null,
      "metadata": {
        "tags": [],
        "id": "DmP7QQ_qEIQb"
      },
      "outputs": [],
      "source": [
        "#db.to_csv('prueba.csv', index = True, sep = \"\\t\")"
      ],
      "id": "DmP7QQ_qEIQb"
    },
    {
      "cell_type": "code",
      "execution_count": null,
      "metadata": {
        "id": "6xzlHrDzEIQc"
      },
      "outputs": [],
      "source": [
        "db.describe()"
      ],
      "id": "6xzlHrDzEIQc"
    },
    {
      "cell_type": "code",
      "execution_count": null,
      "metadata": {
        "id": "13rLwbPzEIQc"
      },
      "outputs": [],
      "source": [
        "db[db['calidad_pm25'] < 2.6 ]"
      ],
      "id": "13rLwbPzEIQc"
    },
    {
      "cell_type": "code",
      "execution_count": null,
      "metadata": {
        "id": "YggtwQtzEIQd"
      },
      "outputs": [],
      "source": [
        "#db_buenos = db[db['pm25'] > 4][['Fecha_Hora','codigoSerial','pm25', 'calidad_pm25','pm10', 'calidad_pm10', 'pm1', 'calidad_pm1','no','calidad_no','Longitud','Latitud']]"
      ],
      "id": "YggtwQtzEIQd"
    },
    {
      "cell_type": "code",
      "execution_count": null,
      "metadata": {
        "id": "UHF2j-PKEIQd"
      },
      "outputs": [],
      "source": [
        "#db = db[['Fecha_Hora','codigoSerial','pm25', 'calidad_pm25','Longitud','Latitud']]\n",
        "#db"
      ],
      "id": "UHF2j-PKEIQd"
    },
    {
      "cell_type": "code",
      "execution_count": null,
      "metadata": {
        "id": "4l2RuPAVEIQd"
      },
      "outputs": [],
      "source": [
        "db_buenos = db[db['calidad_pm25'] < 2.6][['Fecha_Hora','codigoSerial','pm25', 'calidad_pm25','pm10', 'calidad_pm10', 'pm1', 'calidad_pm1','taire10_ssr','calidad_taire10_ssr','Ciudad','Longitud','Latitud']]\n",
        "db_buenos = db_buenos[db_buenos['pm25'] != -9999.0][['Fecha_Hora','codigoSerial','pm25', 'calidad_pm25','pm10', 'calidad_pm10', 'pm1', 'calidad_pm1','taire10_ssr','calidad_taire10_ssr','Ciudad','Longitud','Latitud']]\n",
        "db_buenos"
      ],
      "id": "4l2RuPAVEIQd"
    },
    {
      "cell_type": "code",
      "execution_count": null,
      "metadata": {
        "id": "LYuzVN8nEIQe"
      },
      "outputs": [],
      "source": [
        "db_buenos.describe()"
      ],
      "id": "LYuzVN8nEIQe"
    },
    {
      "cell_type": "markdown",
      "metadata": {
        "jupyter": {
          "outputs_hidden": true
        },
        "id": "iBqWB74hEIQe"
      },
      "source": [
        "EMPIEZAN CORRECCIONES"
      ],
      "id": "iBqWB74hEIQe"
    },
    {
      "cell_type": "code",
      "execution_count": null,
      "metadata": {
        "id": "BJ8LcsLyEIQf"
      },
      "outputs": [],
      "source": [
        "db.head()"
      ],
      "id": "BJ8LcsLyEIQf"
    },
    {
      "cell_type": "code",
      "execution_count": null,
      "metadata": {
        "id": "7erBBxOQEIQf"
      },
      "outputs": [],
      "source": [
        "# Convertir la vble Codigo en una vble tipo string\n",
        "db_buenos['codigoSerial'] = db_buenos['codigoSerial'].apply(str)\n",
        "db_buenos"
      ],
      "id": "7erBBxOQEIQf"
    },
    {
      "cell_type": "code",
      "execution_count": null,
      "metadata": {
        "id": "8_MiLnJBEIQg"
      },
      "outputs": [],
      "source": [
        "#Escogemos la fecha únicamente\n",
        "db_buenos['Fecha_Hora'] = db_buenos['Fecha_Hora'].str[:10]\n",
        "db_buenos"
      ],
      "id": "8_MiLnJBEIQg"
    },
    {
      "cell_type": "code",
      "execution_count": null,
      "metadata": {
        "id": "7VnninjyEIQg"
      },
      "outputs": [],
      "source": [
        "db_buenos.shape"
      ],
      "id": "7VnninjyEIQg"
    },
    {
      "cell_type": "code",
      "execution_count": null,
      "metadata": {
        "id": "lIPCVupYEIQh"
      },
      "outputs": [],
      "source": [
        "tab = pd.crosstab(index=db_buenos[\"codigoSerial\"],columns=\"frecuencia\")\n",
        "print(tab)"
      ],
      "id": "lIPCVupYEIQh"
    },
    {
      "cell_type": "code",
      "execution_count": null,
      "metadata": {
        "id": "48l5zhD5EIQh"
      },
      "outputs": [],
      "source": [
        "tab_cp = pd.crosstab(index=db_buenos[\"calidad_pm25\"],columns=\"frecuencia\")\n",
        "print(tab_cp)"
      ],
      "id": "48l5zhD5EIQh"
    },
    {
      "cell_type": "code",
      "execution_count": null,
      "metadata": {
        "id": "pfEoJUtGEIQi"
      },
      "outputs": [],
      "source": [
        "db.shape"
      ],
      "id": "pfEoJUtGEIQi"
    },
    {
      "cell_type": "code",
      "execution_count": null,
      "metadata": {
        "id": "vaBIVSsrEIQi"
      },
      "outputs": [],
      "source": [
        "db_buenos.shape"
      ],
      "id": "vaBIVSsrEIQi"
    },
    {
      "cell_type": "code",
      "execution_count": null,
      "metadata": {
        "id": "ZTTggiGVEIQj"
      },
      "outputs": [],
      "source": [
        "#Ensayo\n",
        "#tab_buenos_f = db_buenos[db_buenos['codigoSerial']== 28]\n",
        "#tab_buenos_f"
      ],
      "id": "ZTTggiGVEIQj"
    },
    {
      "cell_type": "markdown",
      "metadata": {
        "id": "mWMky1JREIQj"
      },
      "source": [
        "Seleccionando el máximo valor de pm25 de cada dia y codigo"
      ],
      "id": "mWMky1JREIQj"
    },
    {
      "cell_type": "code",
      "execution_count": null,
      "metadata": {
        "id": "UFpOvodgEIQk"
      },
      "outputs": [],
      "source": [
        "#tab_buenos_f = db_buenos.groupby(['Fecha_Hora']).max('pm25')\n",
        "db_buenos_f = db_buenos.groupby(['codigoSerial','Fecha_Hora']).agg('max')\n",
        "db_buenos_f"
      ],
      "id": "UFpOvodgEIQk"
    },
    {
      "cell_type": "code",
      "execution_count": null,
      "metadata": {
        "id": "JlrVRhqYEIQk"
      },
      "outputs": [],
      "source": [
        "db_buenos_ff = db_buenos_f.reset_index()\n",
        "db_buenos_ff"
      ],
      "id": "JlrVRhqYEIQk"
    },
    {
      "cell_type": "code",
      "execution_count": null,
      "metadata": {
        "id": "SPP6g9EXEIQl"
      },
      "outputs": [],
      "source": [
        "db_buenos_ff.shape"
      ],
      "id": "SPP6g9EXEIQl"
    },
    {
      "cell_type": "code",
      "execution_count": null,
      "metadata": {
        "tags": [],
        "id": "Dn-4IB9NEIQl"
      },
      "outputs": [],
      "source": [
        "#Convertir el dataframe db en Geodataframe\n",
        "#Construir el parámetro geometry para la fnc GeoDataFrame de Geopandas\n",
        "pt_geoms = gpd.points_from_xy(x=db_buenos_ff[\"Longitud\"],\n",
        "                            y=db_buenos_ff[\"Latitud\"],\n",
        "                            crs=\"EPSG:4326\"\n",
        "                            )"
      ],
      "id": "Dn-4IB9NEIQl"
    },
    {
      "cell_type": "code",
      "execution_count": null,
      "metadata": {
        "id": "r0O5fBBCEIQl"
      },
      "outputs": [],
      "source": [
        "# Aplicar la fnc GeoDataFrame de Geopandas con el parámetro anteriormente construido\n",
        "db_points = gpd.GeoDataFrame(db_buenos_ff,geometry = pt_geoms)\n",
        "db_points.head()"
      ],
      "id": "r0O5fBBCEIQl"
    },
    {
      "cell_type": "code",
      "execution_count": null,
      "metadata": {
        "id": "MHu4jSiuEIQm"
      },
      "outputs": [],
      "source": [
        "tab_points = pd.crosstab(index=db_points[\"codigoSerial\"],columns=\"frecuencia\")\n",
        "print(tab_points)"
      ],
      "id": "MHu4jSiuEIQm"
    },
    {
      "cell_type": "code",
      "execution_count": null,
      "metadata": {
        "id": "fZWCkHD9EIQn"
      },
      "outputs": [],
      "source": [
        "type(db_points)"
      ],
      "id": "fZWCkHD9EIQn"
    },
    {
      "cell_type": "code",
      "execution_count": null,
      "metadata": {
        "id": "_-nHtbPXEIQn"
      },
      "outputs": [],
      "source": [
        "db_points.shape"
      ],
      "id": "_-nHtbPXEIQn"
    },
    {
      "cell_type": "code",
      "execution_count": null,
      "metadata": {
        "id": "rqAZqbNrEIQo"
      },
      "outputs": [],
      "source": [
        "# Me indica en qué sistema de coordenadas geográfica está el geodataframe\n",
        "db_points.crs"
      ],
      "id": "rqAZqbNrEIQo"
    },
    {
      "cell_type": "code",
      "execution_count": null,
      "metadata": {
        "id": "B4r63LU7EIQo"
      },
      "outputs": [],
      "source": [
        "# Gráfico de todas las estaciones\n",
        "cvs = datashader.Canvas(plot_width=60,plot_height=60)\n",
        "grid = cvs.points(estaciones_points, x=\"Longitud\", y=\"Latitud\")\n",
        "f, axs = plt.subplots(1, 2, figsize=(14, 6))\n",
        "estaciones_points.plot(ax=axs[0])\n",
        "grid.plot(ax=axs[1]);"
      ],
      "id": "B4r63LU7EIQo"
    },
    {
      "cell_type": "code",
      "execution_count": null,
      "metadata": {
        "id": "GdKbNGn6EIQp"
      },
      "outputs": [],
      "source": [
        "# Gráfico de las estaciones filtradas\n",
        "cvs = datashader.Canvas(plot_width=60,plot_height=60)\n",
        "grid = cvs.points(db_points, x=\"Longitud\", y=\"Latitud\")\n",
        "f, axs = plt.subplots(1, 2, figsize=(14, 6))\n",
        "db_points.plot(ax=axs[0])\n",
        "grid.plot(ax=axs[1]);"
      ],
      "id": "GdKbNGn6EIQp"
    },
    {
      "cell_type": "code",
      "execution_count": null,
      "metadata": {
        "id": "Olp47_sNEIQp"
      },
      "outputs": [],
      "source": [
        "# Plot todas las estaciones\n",
        "# Plot polygons without color filling\n",
        "ax = estaciones_points.set_geometry('geometry').plot('Codigo', markersize=50, figsize=(10,10), legend= True)\n",
        "datos_polygons_ant.plot('NOMBRE_DPT',ax= ax, facecolor='none', edgecolor='k', linewidth=2)\n",
        "plt.title('Estaciones metereológicas en el Valle de Aburrá')\n",
        "plt.ylabel('Latitud')\n",
        "plt.xlabel('Longitud');"
      ],
      "id": "Olp47_sNEIQp"
    },
    {
      "cell_type": "code",
      "execution_count": null,
      "metadata": {
        "id": "l10XdynJEIQq"
      },
      "outputs": [],
      "source": [
        "# Plot estaciones filtradas\n",
        "ax = db_points.set_geometry('geometry').plot('codigoSerial', markersize=50, figsize=(10,10), legend= True)\n",
        "datos_polygons_ant.plot('NOMBRE_DPT',ax= ax, facecolor='none', edgecolor='k', linewidth=2)\n",
        "plt.title('Estaciones metereológicas en el Valle de Aburrá')\n",
        "plt.ylabel('Latitud')\n",
        "plt.xlabel('Longitud');"
      ],
      "id": "l10XdynJEIQq"
    },
    {
      "cell_type": "code",
      "source": [
        "!pip uninstall matplotlib\n",
        "!pip install matplotlib==3.1.3"
      ],
      "metadata": {
        "id": "tMBJCkdQICUe"
      },
      "id": "tMBJCkdQICUe",
      "execution_count": null,
      "outputs": []
    },
    {
      "cell_type": "code",
      "source": [
        "# Plot estaciones filtradas\n",
        "#ax = db_points.set_geometry('geometry').plot('codigoSerial', markersize=50, figsize=(10,10), legend= True)\n",
        "datos_polygons_ant.plot('NOMBRE_DPT',facecolor='none', edgecolor='k', linewidth=2)\n",
        "plt.title('Estaciones metereológicas en el Valle de Aburrá')\n",
        "plt.ylabel('Latitud')\n",
        "plt.xlabel('Longitud');"
      ],
      "metadata": {
        "id": "6GT5BVhDGQu4"
      },
      "id": "6GT5BVhDGQu4",
      "execution_count": null,
      "outputs": []
    },
    {
      "cell_type": "code",
      "source": [],
      "metadata": {
        "id": "6Cl2lUVUIbv_"
      },
      "id": "6Cl2lUVUIbv_",
      "execution_count": null,
      "outputs": []
    },
    {
      "cell_type": "code",
      "execution_count": null,
      "metadata": {
        "id": "HbZ5F562EIQq"
      },
      "outputs": [],
      "source": [
        "#Crea un polígono\n",
        "db_points_ch = db_points.unary_union.convex_hull\n",
        "db_points_ch"
      ],
      "id": "HbZ5F562EIQq"
    },
    {
      "cell_type": "markdown",
      "metadata": {
        "id": "K-rC22ScEIQr"
      },
      "source": [
        "## Amenity"
      ],
      "id": "K-rC22ScEIQr"
    },
    {
      "cell_type": "code",
      "execution_count": null,
      "metadata": {
        "id": "aELUj1T1EIQr"
      },
      "outputs": [],
      "source": [
        "#pois = osmnx.geometries_from_polygon(db_points_ch, tags={\"amenity\": ['restaurant', 'bar', 'building']})\n",
        "pois = osmnx.geometries_from_polygon(db_points_ch, tags = {\"amenity\":['restaurant', 'bar'], \"landuse\":['retail','commercial'], \"highway\":'bus_stop'})"
      ],
      "id": "aELUj1T1EIQr"
    },
    {
      "cell_type": "code",
      "execution_count": null,
      "metadata": {
        "id": "BSNAX94rEIQr"
      },
      "outputs": [],
      "source": [
        "pois.groupby('amenity').amenity.count()"
      ],
      "id": "BSNAX94rEIQr"
    },
    {
      "cell_type": "code",
      "execution_count": null,
      "metadata": {
        "tags": [],
        "id": "U3w9Q1jBEIQs"
      },
      "outputs": [],
      "source": [
        "f,ax = plt.subplots(1,figsize=(12, 12))\n",
        "db_points.plot(ax=ax, marker='.')\n",
        "pois.plot(ax=ax, color='r')\n",
        "ctx.add_basemap(\n",
        "    ax, \n",
        "    crs='EPSG:4326', \n",
        "    source=ctx.providers.Stamen.TonerLite\n",
        ")\n",
        "\n",
        "#ctx.add_basemap(ax, crs='epsg:4326', source=ctx.providers.Stamen.TonerLite)"
      ],
      "id": "U3w9Q1jBEIQs"
    },
    {
      "cell_type": "code",
      "execution_count": null,
      "metadata": {
        "id": "pVGULWZmEIQs"
      },
      "outputs": [],
      "source": [
        "map = osmnx.graph.graph_from_point([6.37836,-75.44389], dist=1000, dist_type='bbox', network_type='all_private', simplify=True, retain_all=False, truncate_by_edge=False, clean_periphery=True, custom_filter=None)\n",
        "\n",
        "\n",
        "#G = osmnx.graph_from_point((6.37836,-75.44389), dist=750, network_type='all')\n",
        "osmnx.plot_graph(map)"
      ],
      "id": "pVGULWZmEIQs"
    },
    {
      "cell_type": "code",
      "execution_count": null,
      "metadata": {
        "id": "FCEevRgmEIQt"
      },
      "outputs": [],
      "source": [
        "#places = ['Medellin, Antioquia, COL',\n",
        "#          {'city':'Medellin', 'state':'Antioquia'},\n",
        "#          'Medellin, Antioquia']\n",
        "#G = osmnx.graph_from_place(places, network_type='drive')\n",
        "#osmnx.plot_graph(G)\n",
        "\n",
        "G = osmnx.graph_from_place('Medellin, Antioquia', network_type='drive')\n",
        "osmnx.plot_graph(G)"
      ],
      "id": "FCEevRgmEIQt"
    },
    {
      "cell_type": "code",
      "execution_count": null,
      "metadata": {
        "id": "NeP6IqQ2EIQt"
      },
      "outputs": [],
      "source": [
        "# Exportar el archivo\n",
        "db.to_csv('prueba.csv', index = True, sep = \"\\t\")"
      ],
      "id": "NeP6IqQ2EIQt"
    },
    {
      "cell_type": "code",
      "execution_count": null,
      "metadata": {
        "tags": [],
        "id": "7k7sjNFGEIQt"
      },
      "outputs": [],
      "source": [
        "#import mapclassify\n",
        "#from shapely.geometry import Point, LineString, Polygon\n",
        "#fig, ax = plt.subplots(figsize=(12,10))\n",
        "#db_points.plot(column='pm25', scheme='QUANTILES', k=5, colormap='OrRd',  ax=ax, legend=True);"
      ],
      "id": "7k7sjNFGEIQt"
    },
    {
      "cell_type": "markdown",
      "metadata": {
        "id": "OSWCHyPqEIQu"
      },
      "source": [
        "# Formato Tidy"
      ],
      "id": "OSWCHyPqEIQu"
    },
    {
      "cell_type": "code",
      "execution_count": null,
      "metadata": {
        "id": "CKl_Y8CAEIQu"
      },
      "outputs": [],
      "source": [
        "#c = c.index('Fecha_Hora')\n",
        "#c"
      ],
      "id": "CKl_Y8CAEIQu"
    },
    {
      "cell_type": "code",
      "execution_count": null,
      "metadata": {
        "id": "eFoPOtE0EIQv"
      },
      "outputs": [],
      "source": [
        "#tidy_subgroups = c.stack()\n",
        "#tidy_subgroups.head()"
      ],
      "id": "eFoPOtE0EIQv"
    },
    {
      "cell_type": "code",
      "execution_count": null,
      "metadata": {
        "id": "GWk2tBIdEIQv"
      },
      "outputs": [],
      "source": [
        "#type(tidy_subgroups)"
      ],
      "id": "GWk2tBIdEIQv"
    },
    {
      "cell_type": "code",
      "execution_count": null,
      "metadata": {
        "id": "FGnFvyFrEIQv"
      },
      "outputs": [],
      "source": [
        "# Unfold the multi-index into different, new columns\n",
        "#tidy_subgroupsDF = tidy_subgroups.reset_index()\n",
        "#tidy_subgroupsDF.head()"
      ],
      "id": "FGnFvyFrEIQv"
    },
    {
      "cell_type": "code",
      "execution_count": null,
      "metadata": {
        "id": "Zu8Y8TCZEIQw"
      },
      "outputs": [],
      "source": [
        "#tidy_subgroupsDF = tidy_subgroupsDF.rename(columns={'level_1': 'Contaminante', 0: 'Frec'})\n",
        "#tidy_subgroupsDF.head()"
      ],
      "id": "Zu8Y8TCZEIQw"
    },
    {
      "cell_type": "code",
      "execution_count": null,
      "metadata": {
        "id": "Qo_odJa_EIQw"
      },
      "outputs": [],
      "source": [
        "#tidy_subgroupsDF.info()"
      ],
      "id": "Qo_odJa_EIQw"
    },
    {
      "cell_type": "markdown",
      "metadata": {
        "id": "pQTBaIMWEIQw"
      },
      "source": [
        "## ESDA"
      ],
      "id": "pQTBaIMWEIQw"
    },
    {
      "cell_type": "code",
      "execution_count": null,
      "metadata": {
        "id": "xUZpbgMREIQw"
      },
      "outputs": [],
      "source": [
        "db_points = db_points.rename(columns = {\"codigoSerial\": \"Codigo\", \"Fecha_Hora\": \"Fecha\"})\n",
        "db_points.head(5)"
      ],
      "id": "xUZpbgMREIQw"
    },
    {
      "cell_type": "code",
      "execution_count": null,
      "metadata": {
        "id": "Ik6m1Az0EIQy"
      },
      "outputs": [],
      "source": [
        "!pip install pysal"
      ],
      "id": "Ik6m1Az0EIQy"
    },
    {
      "cell_type": "code",
      "execution_count": null,
      "metadata": {
        "id": "YJE5BGNlEIQy"
      },
      "outputs": [],
      "source": [
        "%matplotlib inline\n",
        "\n",
        "import seaborn as sns\n",
        "import pandas as pd\n",
        "from pysal.lib import weights\n",
        "from pysal.explore import esda\n",
        "from pysal.viz import splot\n",
        "from splot.esda import plot_moran\n",
        "#from pysal.viz.splot.esda import moran_scatterplot, lisa_cluster, plot_local_autocorrelation\n",
        "import geopandas as gpd\n",
        "import numpy as np\n",
        "import contextily as ctx\n",
        "import matplotlib.pyplot as plt\n",
        "\n",
        "import warnings\n",
        "warnings.simplefilter(\"ignore\")"
      ],
      "id": "YJE5BGNlEIQy"
    },
    {
      "cell_type": "code",
      "execution_count": null,
      "metadata": {
        "id": "hnJ8WnMkEIQz"
      },
      "outputs": [],
      "source": [
        "db_points_p = db_points[db_points['Fecha']=='2021-04-01']\n",
        "db_points_p['Codigos']=db_points_p['Codigo']\n",
        "db_points_p=db_points_p.set_index('Codigos')\n",
        "db_points_p = db_points_p.rename(columns = {\"Codigo\": \"Codigos\"})\n",
        "db_points_p"
      ],
      "id": "hnJ8WnMkEIQz"
    },
    {
      "cell_type": "code",
      "execution_count": null,
      "metadata": {
        "id": "pIeLbeBUEIQz"
      },
      "outputs": [],
      "source": [
        "estaciones_points.info()"
      ],
      "id": "pIeLbeBUEIQz"
    },
    {
      "cell_type": "code",
      "execution_count": null,
      "metadata": {
        "id": "lzCRet8YEIQ0"
      },
      "outputs": [],
      "source": [
        "estaciones_points.head(5)"
      ],
      "id": "lzCRet8YEIQ0"
    },
    {
      "cell_type": "code",
      "execution_count": null,
      "metadata": {
        "id": "bBJGKBaQEIQ0"
      },
      "outputs": [],
      "source": [
        "tab_est = pd.crosstab(index=estaciones_points[\"Ciudad\"],columns=\"frecuencia\")\n",
        "print(tab_est)"
      ],
      "id": "bBJGKBaQEIQ0"
    },
    {
      "cell_type": "code",
      "execution_count": null,
      "metadata": {
        "id": "EGYTTM8YEIQ1"
      },
      "outputs": [],
      "source": [
        "tab_est = pd.crosstab(index=db_points[\"Fecha\"],columns=\"frecuencia\")\n",
        "print(tab_est)"
      ],
      "id": "EGYTTM8YEIQ1"
    },
    {
      "cell_type": "code",
      "execution_count": null,
      "metadata": {
        "id": "f7kNYoSSEIQ1"
      },
      "outputs": [],
      "source": [
        "ax = db_points_p.plot(column=\"Ciudad\", figsize=(9, 9), alpha=0.5);\n",
        "ctx.add_basemap(ax, crs=db_points_p.crs)"
      ],
      "id": "f7kNYoSSEIQ1"
    },
    {
      "cell_type": "code",
      "execution_count": null,
      "metadata": {
        "id": "3FlRQLfYEIQ1"
      },
      "outputs": [],
      "source": [
        "fig, ax = plt.subplots(1, figsize=(9, 9))\n",
        "db_points.plot(column='pm25', scheme='Quantiles', legend=True, ax=ax)\n",
        "ax.set_axis_off()\n",
        "fig.set_facecolor('0.75')\n",
        "fig.suptitle('micras de pm2.5', size=15)\n",
        "plt.show()"
      ],
      "id": "3FlRQLfYEIQ1"
    },
    {
      "cell_type": "code",
      "execution_count": null,
      "metadata": {
        "id": "Lk5jjd6SEIQ2"
      },
      "outputs": [],
      "source": [
        "ax = db_points.plot(column=\"Codigo\", figsize=(9, 9), alpha=0.5);\n",
        "ctx.add_basemap(ax, crs=db_points.crs)"
      ],
      "id": "Lk5jjd6SEIQ2"
    },
    {
      "cell_type": "code",
      "execution_count": null,
      "metadata": {
        "id": "IhVQ7lByEIQ2"
      },
      "outputs": [],
      "source": [
        "ax = estaciones_points.plot(column=\"Ciudad\", figsize=(9, 9), alpha=1);\n",
        "ctx.add_basemap(ax, crs=estaciones_points.crs)"
      ],
      "id": "IhVQ7lByEIQ2"
    },
    {
      "cell_type": "markdown",
      "metadata": {
        "id": "ry0wixW3EIQ3"
      },
      "source": [
        "## 1.1. Contiguity"
      ],
      "id": "ry0wixW3EIQ3"
    },
    {
      "cell_type": "code",
      "execution_count": null,
      "metadata": {
        "id": "Fi1HOBqSEIQ3"
      },
      "outputs": [],
      "source": [
        "db_points_p.shape"
      ],
      "id": "Fi1HOBqSEIQ3"
    },
    {
      "cell_type": "code",
      "execution_count": null,
      "metadata": {
        "id": "dFf9__8vEIQ3"
      },
      "outputs": [],
      "source": [
        "#w_queen = weights.Queen.from_dataframe(estaciones_points, idVariable=\"Codigo\")\n",
        "w_queen = weights.Queen.from_dataframe(db_points_p, idVariable=\"Codigos\")\n",
        "w_queen"
      ],
      "id": "dFf9__8vEIQ3"
    },
    {
      "cell_type": "code",
      "execution_count": null,
      "metadata": {
        "id": "hthAhJi8EIQ4"
      },
      "outputs": [],
      "source": [
        "w_rook = weights.Rook.from_dataframe(db_points_p, idVariable=\"Codigos\")\n",
        "w_rook"
      ],
      "id": "hthAhJi8EIQ4"
    },
    {
      "cell_type": "code",
      "execution_count": null,
      "metadata": {
        "id": "gI21w6WwEIQ4"
      },
      "outputs": [],
      "source": [
        "fig, axs=plt.subplots(1,2, figsize=(12,12))\n",
        "ax1, ax2 = axs\n",
        "db_points_p.plot(edgecolor='grey', facecolor='w', ax=ax1)\n",
        "w_queen.plot(db_points_p, ax=ax1, edge_kws=dict(color='r', linestyle=':', linewidth=1),node_kws=dict(marker=''))\n",
        "ax1.set_axis_off()\n",
        "db_points_p.plot(edgecolor='grey', facecolor='w', ax=ax2)\n",
        "w_rook.plot(db_points_p, ax=ax2, edge_kws=dict(color='r', linestyle=':', linewidth=1),node_kws=dict(marker=''))\n",
        "ax2.set_axis_off()"
      ],
      "id": "gI21w6WwEIQ4"
    },
    {
      "cell_type": "code",
      "execution_count": null,
      "metadata": {
        "id": "0yT-1H9CEIQ5"
      },
      "outputs": [],
      "source": [
        "w_queen['12']"
      ],
      "id": "0yT-1H9CEIQ5"
    },
    {
      "cell_type": "code",
      "execution_count": null,
      "metadata": {
        "id": "5HaaVIjhEIQ5"
      },
      "outputs": [],
      "source": [
        "w_queen.neighbors['12']"
      ],
      "id": "5HaaVIjhEIQ5"
    },
    {
      "cell_type": "code",
      "execution_count": null,
      "metadata": {
        "id": "_Xopph4REIQ5"
      },
      "outputs": [],
      "source": [
        "w_queen.weights['12']"
      ],
      "id": "_Xopph4REIQ5"
    },
    {
      "cell_type": "code",
      "execution_count": null,
      "metadata": {
        "id": "lzEWxKt1EIQ6"
      },
      "outputs": [],
      "source": [
        "w_queen.cardinalities['12']"
      ],
      "id": "lzEWxKt1EIQ6"
    },
    {
      "cell_type": "code",
      "execution_count": null,
      "metadata": {
        "id": "hnc8IsPxEIQ6"
      },
      "outputs": [],
      "source": [
        "# se ve para cada Código el valor de los vecinos que tiene según Queen\n",
        "queen_card = pd.Series(w_queen.cardinalities)\n",
        "queen_card.head(10)"
      ],
      "id": "hnc8IsPxEIQ6"
    },
    {
      "cell_type": "code",
      "execution_count": null,
      "metadata": {
        "id": "9WczrtXNEIQ7"
      },
      "outputs": [],
      "source": [
        "sns.distplot(queen_card, bins=10)\n",
        "\n",
        "# En promedio los vecinos para los códigos de estaciones de aire esta entre 4 a 5.\n",
        "# No hay códigos con vecinos igual a 0, es decir, no hay islas."
      ],
      "id": "9WczrtXNEIQ7"
    },
    {
      "cell_type": "code",
      "execution_count": null,
      "metadata": {
        "id": "oBAZ003vEIQ7"
      },
      "outputs": [],
      "source": [
        "# Number of observations\n",
        "w_queen.n"
      ],
      "id": "oBAZ003vEIQ7"
    },
    {
      "cell_type": "code",
      "execution_count": null,
      "metadata": {
        "id": "hbj85Z8DEIQ9"
      },
      "outputs": [],
      "source": [
        "# Average number of neighbors\n",
        "# Tal y como se mencionó arriba, el promedio de vecinos de los códigos de estaciones de aire es 4.32\n",
        "w_queen.mean_neighbors"
      ],
      "id": "hbj85Z8DEIQ9"
    },
    {
      "cell_type": "code",
      "execution_count": null,
      "metadata": {
        "id": "Q3Y5v1_nEIQ9"
      },
      "outputs": [],
      "source": [
        "# Min number of neighbors\n",
        "# El mínimo de vecinos de los códigos de estaciones de aire es 1\n",
        "w_queen.min_neighbors"
      ],
      "id": "Q3Y5v1_nEIQ9"
    },
    {
      "cell_type": "code",
      "execution_count": null,
      "metadata": {
        "id": "pkcyE3OkEIQ-"
      },
      "outputs": [],
      "source": [
        "# El máximo de vecinos de los códigos de estaciones de aire es 7\n",
        "w_queen.max_neighbors"
      ],
      "id": "pkcyE3OkEIQ-"
    },
    {
      "cell_type": "code",
      "execution_count": null,
      "metadata": {
        "id": "QJ3EIG_KEIQ_"
      },
      "outputs": [],
      "source": [
        "f, ax = plt.subplots(1, figsize=(6, 6))\n",
        "db_points_p.plot(ax=ax, facecolor='k', linewidth=0.1)\n",
        "focus = db_points_p.loc[['12'], ['geometry']]\n",
        "focus.plot(facecolor='red', alpha=1, linewidth=0, ax=ax)\n",
        "neis = db_points_p.loc[w_queen['12'], :]\n",
        "neis.plot(ax=ax, facecolor='lime', linewidth=0)\n",
        "f.suptitle(\"Queen neighbors of `12`\")\n",
        "plt.show()\n",
        "\n",
        "# En el gráfico se puede observar los vecinos más cercanos (contiguidad Queen) con el código 12"
      ],
      "id": "QJ3EIG_KEIQ_"
    },
    {
      "cell_type": "code",
      "execution_count": null,
      "metadata": {
        "id": "he81AeyrEIQ_"
      },
      "outputs": [],
      "source": [
        "w_queen.islands"
      ],
      "id": "he81AeyrEIQ_"
    },
    {
      "cell_type": "code",
      "execution_count": null,
      "metadata": {
        "id": "62N8fezvEIRA"
      },
      "outputs": [],
      "source": [
        "# Create the spatial weights matrix\n",
        "w = weights.Queen.from_dataframe(db_points_p, idVariable='Codigos')"
      ],
      "id": "62N8fezvEIRA"
    },
    {
      "cell_type": "code",
      "execution_count": null,
      "metadata": {
        "id": "1M9s7z-MEIRA"
      },
      "outputs": [],
      "source": [
        "# Row standardize the matrix\n",
        "w.transform = 'R'"
      ],
      "id": "1M9s7z-MEIRA"
    },
    {
      "cell_type": "code",
      "execution_count": null,
      "metadata": {
        "id": "vqkT7eJ4EIRB"
      },
      "outputs": [],
      "source": [
        "w['12']"
      ],
      "id": "vqkT7eJ4EIRB"
    },
    {
      "cell_type": "markdown",
      "metadata": {
        "id": "mLGihmBvEIRB"
      },
      "source": [
        "# 1.2 Distancia"
      ],
      "id": "mLGihmBvEIRB"
    },
    {
      "cell_type": "markdown",
      "metadata": {
        "id": "ZJipUvreEIRC"
      },
      "source": [
        "## 1.2.1 K-Nearest Neighbors"
      ],
      "id": "ZJipUvreEIRC"
    },
    {
      "cell_type": "code",
      "execution_count": null,
      "metadata": {
        "id": "sZXoqeT2EIRC"
      },
      "outputs": [],
      "source": [
        "#EPSG:3114: MAGNA-SIRGAS / Colombia Far West zone\n",
        "#EPSG:3115: MAGNA-SIRGAS / Colombia West zone\n",
        "#EPSG:3116: MAGNA-SIRGAS / Colombia Bogota zone\n",
        "#EPSG:3117: MAGNA-SIRGAS / Colombia East Central zone\n",
        "#EPSG:3118: MAGNA-SIRGAS / Colombia East zone\n",
        "#EPSG:21891: Bogota 1975 / Colombia West zone\n",
        "#EPSG:21892: Bogota 1975 / Colombia Bogota zone\n",
        "#EPSG:21893: Bogota 1975 / Colombia East Central zone\n",
        "db_points_p.crs"
      ],
      "id": "sZXoqeT2EIRC"
    },
    {
      "cell_type": "code",
      "execution_count": null,
      "metadata": {
        "id": "OCElMCE-EIRC"
      },
      "outputs": [],
      "source": [
        "imd=db_points_p.to_crs(epsg=3115)"
      ],
      "id": "OCElMCE-EIRC"
    },
    {
      "cell_type": "code",
      "execution_count": null,
      "metadata": {
        "id": "usXdpNcbEIRD"
      },
      "outputs": [],
      "source": [
        "imd.crs"
      ],
      "id": "usXdpNcbEIRD"
    },
    {
      "cell_type": "code",
      "execution_count": null,
      "metadata": {
        "id": "tmtROXlPEIRD"
      },
      "outputs": [],
      "source": [
        "# Se definió como vecinos más cercanos los 4 más cercanos\n",
        "knn4 = weights.KNN.from_dataframe(imd, k=4)"
      ],
      "id": "tmtROXlPEIRD"
    },
    {
      "cell_type": "code",
      "execution_count": null,
      "metadata": {
        "id": "QHn-ch3IEIRD"
      },
      "outputs": [],
      "source": [
        "cents = imd.centroid\n",
        "\n",
        "# Extract coordinates into an array\n",
        "pts = pd.DataFrame({\"X\": cents.x,\"Y\": cents.y}).values\n",
        "knn4_from_pts = weights.KNN.from_array(pts, k=4)\n",
        "knn4_from_pts"
      ],
      "id": "QHn-ch3IEIRD"
    },
    {
      "cell_type": "code",
      "execution_count": null,
      "metadata": {
        "id": "qgwu6H3zEIRE"
      },
      "outputs": [],
      "source": [
        "fig, axs=plt.subplots(1,2, figsize=(12,12))\n",
        "ax1, ax2 = axs\n",
        "db_points_p.plot(edgecolor='grey', facecolor='w', ax=ax1)\n",
        "w_queen.plot(db_points_p, ax=ax1, edge_kws=dict(color='r', linestyle=':', linewidth=1),node_kws=dict(marker=''))\n",
        "ax1.set_axis_off()\n",
        "imd.plot(edgecolor='grey', facecolor='w', ax=ax2)\n",
        "knn4.plot(imd, ax=ax2, edge_kws=dict(color='r', linestyle=':', linewidth=1),node_kws=dict(marker=''))\n",
        "ax2.set_axis_off()\n",
        "\n",
        "#Al lado izquierdo los vecinos según Queen "
      ],
      "id": "qgwu6H3zEIRE"
    },
    {
      "cell_type": "code",
      "execution_count": null,
      "metadata": {
        "id": "L7AUxtXQEIRE"
      },
      "outputs": [],
      "source": [
        "knn4['12']"
      ],
      "id": "L7AUxtXQEIRE"
    },
    {
      "cell_type": "code",
      "execution_count": null,
      "metadata": {
        "id": "Ah8lsjOvEIRF"
      },
      "outputs": [],
      "source": [
        "knn4.weights['12']"
      ],
      "id": "Ah8lsjOvEIRF"
    },
    {
      "cell_type": "code",
      "execution_count": null,
      "metadata": {
        "id": "8Ntj8RSlEIRF"
      },
      "outputs": [],
      "source": [
        "knn4.neighbors['12']"
      ],
      "id": "8Ntj8RSlEIRF"
    },
    {
      "cell_type": "code",
      "execution_count": null,
      "metadata": {
        "id": "bTCxZz_fEIRF"
      },
      "outputs": [],
      "source": [
        "# Cada código de estacion de aire tiene 4 vecinos, tal y coóm o se le indicen el k=4\n",
        "\n",
        "knn4_card = pd.Series(knn4.cardinalities)\n",
        "knn4_card"
      ],
      "id": "bTCxZz_fEIRF"
    },
    {
      "cell_type": "code",
      "execution_count": null,
      "metadata": {
        "id": "yOdRRuiCEIRG"
      },
      "outputs": [],
      "source": [
        "# En el método de Queen no hay restricción del número de vecinos, desde que cumplan con la contiguidad planteada\n",
        "queen_card"
      ],
      "id": "yOdRRuiCEIRG"
    },
    {
      "cell_type": "markdown",
      "metadata": {
        "id": "XHs9_bRBEIRG"
      },
      "source": [
        "# 1.3 Band distance"
      ],
      "id": "XHs9_bRBEIRG"
    },
    {
      "cell_type": "code",
      "execution_count": null,
      "metadata": {
        "id": "lWdl6vJVEIRH"
      },
      "outputs": [],
      "source": [
        "w_dist5kmB = weights.DistanceBand.from_dataframe(imd, 5000)\n",
        "w_dist5kmB"
      ],
      "id": "lWdl6vJVEIRH"
    },
    {
      "cell_type": "code",
      "execution_count": null,
      "metadata": {
        "id": "rymE9KAqEIRH"
      },
      "outputs": [],
      "source": [
        "w_dist5kmB['12']"
      ],
      "id": "rymE9KAqEIRH"
    },
    {
      "cell_type": "code",
      "execution_count": null,
      "metadata": {
        "id": "NDLwTdjBEIRH"
      },
      "outputs": [],
      "source": [
        "w_dist5kmC = weights.DistanceBand.from_dataframe(imd, 5000, binary=False)"
      ],
      "id": "NDLwTdjBEIRH"
    },
    {
      "cell_type": "code",
      "execution_count": null,
      "metadata": {
        "id": "3Rw-haWnEIRI"
      },
      "outputs": [],
      "source": [
        "w_dist5kmC['12']"
      ],
      "id": "3Rw-haWnEIRI"
    },
    {
      "cell_type": "code",
      "execution_count": null,
      "metadata": {
        "id": "39W_UxGIEIRI"
      },
      "outputs": [],
      "source": [
        "# Setup figure\n",
        "f, ax = plt.subplots(1, figsize=(10, 10))\n",
        "# Plot base layer of polygons\n",
        "imd.plot(ax=ax, facecolor='k', linewidth=0.1)\n",
        "# Select focal polygon\n",
        "# NOTE we pass both the area code and the column name\n",
        "#      (`geometry`) within brackets!!!\n",
        "focus = imd.loc[['12'], ['geometry']]\n",
        "# Plot focal polygon\n",
        "focus.plot(facecolor='yellow', alpha=1, linewidth=1, ax=ax)\n",
        "# Plot neighbors\n",
        "neis = imd.loc[w_dist50kmC['12'], :]\n",
        "neis.plot(ax=ax, facecolor='lime', linewidth=0)\n",
        "# Plot 1km buffer\n",
        "buf = focus.centroid.buffer(5000)\n",
        "buf.plot(edgecolor='red', facecolor='none', ax=ax, linewidth=4)\n",
        "# Plot centroids of neighbor\n",
        "pts = np.array([(pt.x, pt.y) for pt in imd.centroid])\n",
        "ax.plot(pts[:, 0], pts[:, 1], color='#00d8ea', \n",
        "        linewidth=0, alpha=0.75, marker='o', markersize=4)\n",
        "# Title\n",
        "f.suptitle(\"Neighbors within 5km of `12`\")\n",
        "# Style, zoom and display on screen\n",
        "#ax.set_ylim(388000, 393500)\n",
        "#ax.set_xlim(336000, 339500)\n",
        "plt.show()"
      ],
      "id": "39W_UxGIEIRI"
    },
    {
      "cell_type": "code",
      "execution_count": null,
      "metadata": {
        "id": "jXsstym5EIRI"
      },
      "outputs": [],
      "source": [
        "min_thr = weights.min_threshold_distance(pts)\n",
        "min_thr"
      ],
      "id": "jXsstym5EIRI"
    },
    {
      "cell_type": "code",
      "execution_count": null,
      "metadata": {
        "id": "zUeVvR-VEIRJ"
      },
      "outputs": [],
      "source": [
        "w_min_dist = weights.DistanceBand.from_dataframe(imd, min_thr, binary=False)"
      ],
      "id": "zUeVvR-VEIRJ"
    },
    {
      "cell_type": "code",
      "execution_count": null,
      "metadata": {
        "id": "9Gje8XRuEIRJ"
      },
      "outputs": [],
      "source": [
        "fig, axs=plt.subplots(1,2, figsize=(12,12))\n",
        "ax1, ax2 = axs\n",
        "db_points_p.plot(edgecolor='grey', facecolor='w', ax=ax1)\n",
        "w_dist5kmB.plot(db_points_p, ax=ax1, edge_kws=dict(color='r', linestyle=':', linewidth=1),node_kws=dict(marker=''))\n",
        "ax1.set_axis_off()\n",
        "imd.plot(edgecolor='grey', facecolor='w', ax=ax2)\n",
        "w_min_dist.plot(imd, ax=ax2, edge_kws=dict(color='r', linestyle=':', linewidth=1),node_kws=dict(marker=''))\n",
        "ax2.set_axis_off()"
      ],
      "id": "9Gje8XRuEIRJ"
    },
    {
      "cell_type": "markdown",
      "metadata": {
        "id": "p1JultP3EIRK"
      },
      "source": [
        "# 2. Spatial lag"
      ],
      "id": "p1JultP3EIRK"
    },
    {
      "cell_type": "code",
      "execution_count": null,
      "metadata": {
        "id": "yPW-ogQXEIRK"
      },
      "outputs": [],
      "source": [
        "# Generate W from the GeoDataFrame\n",
        "w = weights.KNN.from_dataframe(imd, k=5)\n",
        "# Row-standardization\n",
        "w.transform = 'R'"
      ],
      "id": "yPW-ogQXEIRK"
    },
    {
      "cell_type": "code",
      "execution_count": null,
      "metadata": {
        "id": "Si5CHgpUEIRK"
      },
      "outputs": [],
      "source": [
        "db_points_p['w_pm25'] = weights.lag_spatial(w, db_points_p['pm25'])"
      ],
      "id": "Si5CHgpUEIRK"
    },
    {
      "cell_type": "code",
      "execution_count": null,
      "metadata": {
        "id": "vKc8tPtVEIRL"
      },
      "outputs": [],
      "source": [
        "db_points_p[['Codigos', 'pm25', 'w_pm25']].head()\n",
        "\n",
        "# En la tabla podemos observar el valor PM2.5 de cada código de estación de aire, y la del promedio de sus vecinos\n",
        "# Los codigos 100,12 y 48 son muy diferentes con sus vecinos"
      ],
      "id": "vKc8tPtVEIRL"
    },
    {
      "cell_type": "code",
      "execution_count": null,
      "metadata": {
        "id": "0qUcX0GOEIRL"
      },
      "outputs": [],
      "source": [
        "# Si deseamos comprobar los resultados, se consulta el código 12\n",
        "w.neighbors['12']"
      ],
      "id": "0qUcX0GOEIRL"
    },
    {
      "cell_type": "code",
      "execution_count": null,
      "metadata": {
        "id": "rnqEfXLLEIRL"
      },
      "outputs": [],
      "source": [
        "neis = db_points_p.loc[w.neighbors['12'], 'pm25']\n",
        "neis"
      ],
      "id": "rnqEfXLLEIRL"
    },
    {
      "cell_type": "code",
      "execution_count": null,
      "metadata": {
        "id": "_wR7y6uSEIRM"
      },
      "outputs": [],
      "source": [
        "neis.mean()"
      ],
      "id": "_wR7y6uSEIRM"
    },
    {
      "cell_type": "code",
      "execution_count": null,
      "metadata": {
        "id": "n8rmFJbEEIRM"
      },
      "outputs": [],
      "source": [
        "# Para comparar los gráficos de dispersión, vamos a estandarizar los valores de la variable antes de calcular su retraso espacial y graficarlo\n",
        "db_points_p['pm25_std'] = (db_points_p['pm25'] - db_points_p['pm25'].mean()) / db_points_p['pm25'].std()"
      ],
      "id": "n8rmFJbEEIRM"
    },
    {
      "cell_type": "code",
      "execution_count": null,
      "metadata": {
        "id": "ZTg_Kl46EIRN"
      },
      "outputs": [],
      "source": [
        "db_points_p['w_pm25_std'] = weights.lag_spatial(w, db_points_p['pm25_std'])"
      ],
      "id": "ZTg_Kl46EIRN"
    },
    {
      "cell_type": "code",
      "execution_count": null,
      "metadata": {
        "id": "vIPRejGTEIRN"
      },
      "outputs": [],
      "source": [
        "f, axs = plt.subplots(1, 3, figsize=(12, 6))\n",
        "ax1, ax2, ax3 = axs\n",
        "db_points_p.plot(column='pm25', cmap='viridis', scheme='quantiles', k=5, edgecolor='white', linewidth=0., alpha=0.75, legend=True, ax=ax1)\n",
        "ax1.set_axis_off()\n",
        "ax1.set_title(\"Pm2.5\")\n",
        "ctx.add_basemap(ax1,crs=db_points_p.crs,source=ctx.providers.Stamen.TerrainBackground,)\n",
        "db_points_p.plot(column='w_pm25', cmap='viridis', scheme='quantiles',k=5, edgecolor='white', linewidth=0., alpha=0.75, legend=True, ax=ax2)\n",
        "ax2.set_axis_off()\n",
        "ax2.set_title(\"Pm2.5 - Spatial Lag\")\n",
        "ctx.add_basemap(ax2, source=ctx.providers.Stamen.TerrainBackground,)\n",
        "db_points_p.plot(column='w_pm25_std', cmap='viridis', scheme='quantiles',k=5, edgecolor='white', linewidth=0., alpha=0.75, legend=True, ax=ax3)\n",
        "ax3.set_axis_off()\n",
        "ax3.set_title(\"Pm2.5 - Spatial Lag Std\")\n",
        "ctx.add_basemap(ax3, crs=db_points_p.crs, source=ctx.providers.Stamen.TerrainBackground,)\n",
        "plt.show()\n",
        "\n",
        "#Las marcadas diferencias a la izquierda entre vecinos inmediatos se reducen en el mapa de la derecha. \n",
        "#El retraso espacial también puede suavizar las diferencias entre las observaciones cercanas."
      ],
      "id": "vIPRejGTEIRN"
    },
    {
      "cell_type": "markdown",
      "metadata": {
        "id": "kYjOfbP_EIRO"
      },
      "source": [
        "# Binary case: join counts"
      ],
      "id": "kYjOfbP_EIRO"
    },
    {
      "cell_type": "code",
      "execution_count": null,
      "metadata": {
        "id": "Of3RGet3EIRO"
      },
      "outputs": [],
      "source": [
        "db_points_p['Leave'] = (db_points_p['pm25'] > 25).astype(int)\n",
        "db_points_p[['pm25', 'Leave']].tail()"
      ],
      "id": "Of3RGet3EIRO"
    },
    {
      "cell_type": "code",
      "execution_count": null,
      "metadata": {
        "id": "8kzdsrc7EIRO"
      },
      "outputs": [],
      "source": [
        "f, ax = plt.subplots(1, figsize=(9, 9))\n",
        "db_points_p.plot(ax=ax, column='Leave', categorical=True, legend=True, edgecolor='0.5', linewidth=0.25, cmap='Set3', figsize=(9, 9));\n",
        "ax.set_axis_off()\n",
        "ax.set_title('Calidad de aire no perjudicial')\n",
        "plt.axis('equal')\n",
        "plt.show()\n",
        "\n",
        "# Segun la OMS si la concrentración diaria de PM2.5 supera los 25 microgramos se considera perjudicial para la salud"
      ],
      "id": "8kzdsrc7EIRO"
    },
    {
      "cell_type": "code",
      "execution_count": null,
      "metadata": {
        "id": "SdyS4wztEIRP"
      },
      "outputs": [],
      "source": [
        "w.transform"
      ],
      "id": "SdyS4wztEIRP"
    },
    {
      "cell_type": "code",
      "execution_count": null,
      "metadata": {
        "id": "-cIAdgT_EIRP"
      },
      "outputs": [],
      "source": [
        "w.transform = 'O'"
      ],
      "id": "-cIAdgT_EIRP"
    },
    {
      "cell_type": "code",
      "execution_count": null,
      "metadata": {
        "id": "Yfojcbf0EIRQ"
      },
      "outputs": [],
      "source": [
        "w.transform"
      ],
      "id": "Yfojcbf0EIRQ"
    },
    {
      "cell_type": "code",
      "execution_count": null,
      "metadata": {
        "id": "V-cVDx3EEIRQ"
      },
      "outputs": [],
      "source": [
        "db_points_p['pm25']"
      ],
      "id": "V-cVDx3EEIRQ"
    },
    {
      "cell_type": "code",
      "execution_count": null,
      "metadata": {
        "id": "mRwgFYbLEIRQ"
      },
      "outputs": [],
      "source": [],
      "id": "mRwgFYbLEIRQ"
    },
    {
      "cell_type": "code",
      "execution_count": null,
      "metadata": {
        "id": "dhao3b1ZEIRR"
      },
      "outputs": [],
      "source": [
        "jc = esda.join_counts.Join_Counts(db_points_p['pm25'], w)"
      ],
      "id": "dhao3b1ZEIRR"
    },
    {
      "cell_type": "code",
      "execution_count": null,
      "metadata": {
        "id": "2XK7LxSnEIRR"
      },
      "outputs": [],
      "source": [
        "jc.bb"
      ],
      "id": "2XK7LxSnEIRR"
    },
    {
      "cell_type": "code",
      "execution_count": null,
      "metadata": {
        "id": "wbQvgng5EIRR"
      },
      "outputs": [],
      "source": [
        "jc.ww"
      ],
      "id": "wbQvgng5EIRR"
    },
    {
      "cell_type": "code",
      "execution_count": null,
      "metadata": {
        "id": "IffbDtKWEIRS"
      },
      "outputs": [],
      "source": [
        "jc.bw"
      ],
      "id": "IffbDtKWEIRS"
    },
    {
      "cell_type": "code",
      "execution_count": null,
      "metadata": {
        "id": "491XwHAKEIRS"
      },
      "outputs": [],
      "source": [
        "jc.bb + jc.ww + jc.bw"
      ],
      "id": "491XwHAKEIRS"
    },
    {
      "cell_type": "code",
      "execution_count": null,
      "metadata": {
        "id": "kZhXIyqnEIRS"
      },
      "outputs": [],
      "source": [
        "jc.J"
      ],
      "id": "kZhXIyqnEIRS"
    },
    {
      "cell_type": "code",
      "execution_count": null,
      "metadata": {
        "id": "HhtCI66cEIRS"
      },
      "outputs": [],
      "source": [
        "jc.mean_bb"
      ],
      "id": "HhtCI66cEIRS"
    },
    {
      "cell_type": "code",
      "execution_count": null,
      "metadata": {
        "id": "oUPZstuBEIRT"
      },
      "outputs": [],
      "source": [
        "jc.p_sim_bb"
      ],
      "id": "oUPZstuBEIRT"
    },
    {
      "cell_type": "code",
      "execution_count": null,
      "metadata": {
        "id": "IfVomXs5EIRT"
      },
      "outputs": [],
      "source": [
        "jc.p_sim_bb"
      ],
      "id": "IfVomXs5EIRT"
    },
    {
      "cell_type": "markdown",
      "metadata": {
        "id": "obIGu0srEIRT"
      },
      "source": [
        "## Gráfico de Indice de moran"
      ],
      "id": "obIGu0srEIRT"
    },
    {
      "cell_type": "code",
      "execution_count": null,
      "metadata": {
        "id": "vaw7-awTEIRU"
      },
      "outputs": [],
      "source": [
        "f, ax = plt.subplots(1, figsize=(5, 5))\n",
        "sns.regplot(x='pm25_std', y='w_pm25_std', data=db_points_p, ci=None)\n",
        "plt.axvline(0, c='k', alpha=0.5)\n",
        "plt.axhline(0, c='k', alpha=0.5)\n",
        "plt.show()\n",
        "\n",
        "\n",
        "# Se mueestra una rln negativa entre las vbles\n",
        "#la tendencia general es que los valores altos estén cerca de valores bajos y que los valores bajos estén rodeados por  valores alto. \n",
        "#Sin embargo, esto no significa que esta sea la única situación en el conjunto de datos: \n",
        "#por supuesto, puede haber casos particulares en los que los valores altos estén rodeados por valores altos, y viceversa.\n",
        "\n",
        "#El patrón principal de los datos en términos de cuán agrupados están los valores similares, la mejor manera sería decir que están correlacionados negativamente \n",
        "#Por lo tanto, dispersos en el espacio."
      ],
      "id": "vaw7-awTEIRU"
    },
    {
      "cell_type": "code",
      "execution_count": null,
      "metadata": {
        "id": "Ow7LmGcKEIRU"
      },
      "outputs": [],
      "source": [
        "m, b = np.polyfit(db_points_p['pm25'], db_points_p['w_pm25_std'], 1) \n",
        "print(m,b)"
      ],
      "id": "Ow7LmGcKEIRU"
    },
    {
      "cell_type": "markdown",
      "metadata": {
        "id": "DutF6SnwEIRV"
      },
      "source": [
        "## Indice de moran"
      ],
      "id": "DutF6SnwEIRV"
    },
    {
      "cell_type": "code",
      "execution_count": null,
      "metadata": {
        "id": "yHTx8thkEIRV"
      },
      "outputs": [],
      "source": [
        "# El valor de la I de Moran se corresponde con la pendiente del ajuste lineal superpuesto en la parte superior de la gráfica de Moran.\n",
        "\n",
        "mi = esda.Moran(db_points_p['pm25'], w)"
      ],
      "id": "yHTx8thkEIRV"
    },
    {
      "cell_type": "code",
      "execution_count": null,
      "metadata": {
        "id": "gc5X0hhOEIRV"
      },
      "outputs": [],
      "source": [
        "mi.I"
      ],
      "id": "gc5X0hhOEIRV"
    },
    {
      "cell_type": "code",
      "execution_count": null,
      "metadata": {
        "id": "SxQk7_M0EIRW"
      },
      "outputs": [],
      "source": [
        "# El valor p lo suficientemente pequeño asociado con el I de Moran de un mapa permite rechazar la hipótesis de que el mapa es aleatorio\n",
        "\n",
        "mi.p_sim\n",
        "\n",
        "# el mapa muestra un patrón espacial menos de lo que esperaríamos si los valores se hubieran asignado aleatoriamente a una ubicación. E.d, el mapa es aleatorio"
      ],
      "id": "SxQk7_M0EIRW"
    },
    {
      "cell_type": "code",
      "execution_count": null,
      "metadata": {
        "id": "tQnPCXqyEIRW"
      },
      "outputs": [],
      "source": [
        "from pysal.viz import splot\n",
        "from splot.esda import plot_moran\n",
        "plot_moran(mi);\n",
        "\n",
        "# Línea roja: Real, Línea azul: Simulada\n",
        "# El valor bajo el patrón observado es similar al obtenido bajo la aleatoriedad."
      ],
      "id": "tQnPCXqyEIRW"
    },
    {
      "cell_type": "markdown",
      "metadata": {
        "id": "2clQI4G3EIRa"
      },
      "source": [
        "## Local Spatial autocorrelation"
      ],
      "id": "2clQI4G3EIRa"
    },
    {
      "cell_type": "code",
      "execution_count": null,
      "metadata": {
        "id": "IRnVjWzGEIRa"
      },
      "outputs": [],
      "source": [
        "#permiten obtener más información sobre subconjuntos geográficos interesantes de los datos.\n",
        "\n",
        "f, ax = plt.subplots(1, figsize=(9, 9))\n",
        "sns.regplot(x='pm25_std', y='w_pm25_std', data=db_points_p, ci=None)\n",
        "plt.axvline(0, c='k', alpha=0.5)\n",
        "plt.axhline(0, c='k', alpha=0.5)\n",
        "plt.text(1.75, 0.5, \"HH\", fontsize=25)\n",
        "plt.text(1.5, -1.5, \"HL\", fontsize=25)\n",
        "plt.text(-2, 1, \"LH\", fontsize=25)\n",
        "plt.text(-1.5, -2.5, \"LL\", fontsize=25)\n",
        "plt.show()"
      ],
      "id": "IRnVjWzGEIRa"
    },
    {
      "cell_type": "code",
      "execution_count": null,
      "metadata": {
        "id": "0-QFz_vyEIRb"
      },
      "outputs": [],
      "source": [
        "lisa = esda.Moran_Local(db_points_p['pm25'], w)"
      ],
      "id": "0-QFz_vyEIRb"
    },
    {
      "cell_type": "code",
      "execution_count": null,
      "metadata": {
        "id": "Tw4dWBBgEIRc"
      },
      "outputs": [],
      "source": [
        "sns.distplot(lisa.Is)"
      ],
      "id": "Tw4dWBBgEIRc"
    },
    {
      "cell_type": "code",
      "execution_count": null,
      "metadata": {
        "id": "jJjeb9YsEIRc"
      },
      "outputs": [],
      "source": [
        "f, ax = plt.subplots(1, figsize=(9,9))\n",
        "db_points_p['Is'] = lisa.Is\n",
        "db_points_p.plot(column='Is', cmap='viridis', scheme='quantiles', k=5, edgecolor='white', linewidth=0.1, alpha=0.75, legend=True,ax=ax);\n",
        "ctx.add_basemap(ax, crs=db_points_p.crs, source=ctx.providers.Stamen.TerrainBackground)\n",
        "ax.set_axis_off()"
      ],
      "id": "jJjeb9YsEIRc"
    },
    {
      "cell_type": "code",
      "execution_count": null,
      "metadata": {
        "id": "WjZJCwQvEIRd"
      },
      "outputs": [],
      "source": [
        "from matplotlib.colors import ListedColormap\n",
        "# Set up figure and axes\n",
        "f, axs = plt.subplots(nrows=2, ncols=2, figsize=(12, 12))\n",
        "# Make the axes accessible with single indexing\n",
        "axs = axs.flatten()\n",
        "\n",
        "# Subplot 1 #\n",
        "ax = axs[0]\n",
        "db_points_p.plot(column='Is', cmap='viridis', scheme='quantiles', k=5, edgecolor='white', linewidth=0.1, alpha=0.75, legend=True, ax=ax)\n",
        "ax.set_aspect('equal')\n",
        "ax.set_axis_off()\n",
        "\n",
        "# Subplot 2 #\n",
        "ax = axs[1]\n",
        "q_labels = ['Q1', 'Q2', 'Q3', 'Q4']\n",
        "labels = [q_labels[i-1] for i in lisa.q]\n",
        "hmap = ListedColormap([ 'red', 'lightblue', 'blue', 'pink'])\n",
        "db_points_p.assign(cl=labels).plot(column='cl', categorical=True, k=2, cmap=hmap, linewidth=0.1, ax=ax, edgecolor='white', legend=True)\n",
        "ax.set_aspect('equal')\n",
        "ax.set_axis_off()\n",
        "\n",
        "# Subplot 3 #\n",
        "ax = axs[2]\n",
        "sig = 1 * (lisa.p_sim < 0.05)\n",
        "hmap = ListedColormap(['grey','black'])\n",
        "labels = ['non-sig.', 'significant'] \n",
        "labels = [labels[i] for i in sig]\n",
        "db_points_p.assign(cl=labels).plot(column='cl', categorical=True, k=2, cmap=hmap, linewidth=0.1, ax=ax, edgecolor='white', legend=True)\n",
        "ax.set_aspect('equal')\n",
        "ax.set_axis_off()\n",
        "                            \n",
        "# Subplot 4 #\n",
        "ax = axs[3]\n",
        "hotspot = 1 * (sig * lisa.q==1)\n",
        "coldspot = 3 * (sig * lisa.q==3)\n",
        "doughnut = 2 * (sig * lisa.q==2)\n",
        "diamond = 4 * (sig * lisa.q==4)\n",
        "spots = hotspot + coldspot + doughnut + diamond\n",
        "spot_labels = [ '0 ns', '1 hot spot', '2 doughnut', '3 cold spot', '4 diamond']\n",
        "labels = [spot_labels[i] for i in spots]\n",
        "hmap = ListedColormap([ 'grey', 'red', 'lightblue', 'blue', 'pink'])\n",
        "\n",
        "db_points_p.assign(cl=labels).plot(column='cl', categorical=True, k=2, cmap=hmap, linewidth=0.1, ax=ax, edgecolor='white', legend=True)\n",
        "ax.set_aspect('equal')\n",
        "ax.set_axis_off()\n",
        "\n",
        "# Display the figure\n",
        "plt.show()"
      ],
      "id": "WjZJCwQvEIRd"
    },
    {
      "cell_type": "code",
      "execution_count": null,
      "metadata": {
        "id": "1wOjH-PgEIRd"
      },
      "outputs": [],
      "source": [
        "# Break observations into significant or not\n",
        "db_points_p['significant'] = lisa.p_sim < 0.05\n",
        "# Store the quadrant they belong to\n",
        "db_points_p['quadrant'] = lisa.q"
      ],
      "id": "1wOjH-PgEIRd"
    },
    {
      "cell_type": "code",
      "execution_count": null,
      "metadata": {
        "id": "V8F5dhDJEIRe"
      },
      "outputs": [],
      "source": [
        "#creamos una variable, significativa, que contiene Verdadero si el valor p de la observación satisface la condición (descartar la posibilidad \n",
        "# de obtener una situación similar por pura casualidad) y Falso en caso contrario.\n",
        "\n",
        "db_points_p['significant'].head()"
      ],
      "id": "V8F5dhDJEIRe"
    },
    {
      "cell_type": "code",
      "execution_count": null,
      "metadata": {
        "id": "MKfzJpPiEIRf"
      },
      "outputs": [],
      "source": [
        "lisa.p_sim[:5]"
      ],
      "id": "MKfzJpPiEIRf"
    },
    {
      "cell_type": "code",
      "execution_count": null,
      "metadata": {
        "id": "kQXNALxlEIRf"
      },
      "outputs": [],
      "source": [
        "db_points_p['quadrant'].head()"
      ],
      "id": "kQXNALxlEIRf"
    },
    {
      "cell_type": "code",
      "execution_count": null,
      "metadata": {
        "id": "nkwoIIpaEIRg"
      },
      "outputs": [],
      "source": [
        "from splot.esda import lisa_cluster\n",
        "lisa_cluster(lisa, db_points_p);"
      ],
      "id": "nkwoIIpaEIRg"
    },
    {
      "cell_type": "code",
      "execution_count": null,
      "metadata": {
        "id": "BnhzDQU1EIRg"
      },
      "outputs": [],
      "source": [
        "# Setup the figure and axis\n",
        "f, ax = plt.subplots(1, figsize=(9, 9))\n",
        "# Plot insignificant clusters\n",
        "ns = db_points_p.loc[db_points_p['significant']==False, 'geometry']\n",
        "ns.plot(ax=ax, color='k')\n",
        "# Plot HH clusters\n",
        "hh = db_points_p.loc[(db_points_p['quadrant']==1) & (db_points_p['significant']==True), 'geometry']\n",
        "hh.plot(ax=ax, color='red')\n",
        "# Plot LL clusters\n",
        "ll = db_points_p.loc[(db_points_p['quadrant']==3) & (db_points_p['significant']==True), 'geometry']\n",
        "ll.plot(ax=ax, color='blue')\n",
        "# Plot LH clusters\n",
        "lh = db_points_p.loc[(db_points_p['quadrant']==2) & (db_points_p['significant']==True), 'geometry']\n",
        "lh.plot(ax=ax, color='#83cef4')\n",
        "# Plot HL clusters\n",
        "hl = db_points_p.loc[(db_points_p['quadrant']==4) & (db_points_p['significant']==True), 'geometry']\n",
        "hl.plot(ax=ax, color='#e59696')\n",
        "# Style and draw\n",
        "f.suptitle('LISA for Brexit vote', size=30)\n",
        "f.set_facecolor('0.75')\n",
        "ax.set_axis_off()\n",
        "plt.show()"
      ],
      "id": "BnhzDQU1EIRg"
    },
    {
      "cell_type": "code",
      "execution_count": null,
      "metadata": {
        "id": "qZXjFDNEEIRh"
      },
      "outputs": [],
      "source": [
        "plot_local_autocorrelation(lisa, db_points_p, 'pm_25');"
      ],
      "id": "qZXjFDNEEIRh"
    },
    {
      "cell_type": "markdown",
      "metadata": {
        "id": "ksr6A66WEIRh"
      },
      "source": [
        "## CLUSTER"
      ],
      "id": "ksr6A66WEIRh"
    },
    {
      "cell_type": "code",
      "execution_count": null,
      "metadata": {
        "id": "EnoKZZZ4EIRi"
      },
      "outputs": [],
      "source": [
        "!pip install geopandas\n",
        "!pip install contextily\n",
        "!pip install esda\n",
        "!pip install pysal"
      ],
      "id": "EnoKZZZ4EIRi"
    },
    {
      "cell_type": "code",
      "execution_count": null,
      "metadata": {
        "id": "pKG0TyM4EIRi"
      },
      "outputs": [],
      "source": [
        "import warnings\n",
        "warnings.filterwarnings(\"ignore\")\n",
        "\n",
        "import numpy as np\n",
        "import pandas as pd\n",
        "import matplotlib.pyplot as plt\n",
        "import seaborn as sns\n",
        "import geopandas as gpd\n",
        "import contextily as cx\n",
        "from esda.moran import Moran\n",
        "import libpysal.weights.set_operations as Wsets\n",
        "from libpysal.weights import Queen, KNN\n",
        "from pysal.lib import weights\n",
        "from sklearn import cluster\n",
        "from sklearn.cluster import KMeans, AgglomerativeClustering"
      ],
      "id": "pKG0TyM4EIRi"
    },
    {
      "cell_type": "code",
      "execution_count": null,
      "metadata": {
        "id": "A5o16uaFEIRi"
      },
      "outputs": [],
      "source": [
        "db_points_p.plot()"
      ],
      "id": "A5o16uaFEIRi"
    },
    {
      "cell_type": "code",
      "execution_count": null,
      "metadata": {
        "id": "wByzpHm5EIRj"
      },
      "outputs": [],
      "source": [
        "db_points_p.head()"
      ],
      "id": "wByzpHm5EIRj"
    },
    {
      "cell_type": "code",
      "execution_count": null,
      "metadata": {
        "id": "LXGky496EIRj"
      },
      "outputs": [],
      "source": [
        "#db.head()"
      ],
      "id": "LXGky496EIRj"
    },
    {
      "cell_type": "code",
      "execution_count": null,
      "metadata": {
        "id": "_d_sIYa5EIRj"
      },
      "outputs": [],
      "source": [
        "ratings = ['pm25', 'pm10', 'pm1']"
      ],
      "id": "_d_sIYa5EIRj"
    },
    {
      "cell_type": "code",
      "execution_count": null,
      "metadata": {
        "id": "8Inrb6RqEIRk"
      },
      "outputs": [],
      "source": [
        "f, axs = plt.subplots(nrows=1, ncols=3, figsize=(12, 6))\n",
        "axs = axs.flatten()\n",
        "for i, col in enumerate(ratings):\n",
        "    ax = axs[i]\n",
        "    db_points_p.plot(column=col, ax=ax, scheme='Quantiles', linewidth=0, cmap='Blues', alpha=0.75)\n",
        "    #ax.set_axis_off()\n",
        "    ax.set_title(col)\n",
        "plt.show()"
      ],
      "id": "8Inrb6RqEIRk"
    },
    {
      "cell_type": "code",
      "execution_count": null,
      "metadata": {
        "id": "Oi74m4GREIRk"
      },
      "outputs": [],
      "source": [
        "_ = sns.pairplot(db_points_p[ratings], kind='reg', diag_kind='hist')"
      ],
      "id": "Oi74m4GREIRk"
    },
    {
      "cell_type": "code",
      "execution_count": null,
      "metadata": {
        "id": "umEp0tNzEIRl"
      },
      "outputs": [],
      "source": [
        "w = Queen.from_dataframe(db_points_p)"
      ],
      "id": "umEp0tNzEIRl"
    },
    {
      "cell_type": "code",
      "execution_count": null,
      "metadata": {
        "id": "6_Nt4g_nEIRl"
      },
      "outputs": [],
      "source": [
        "w.islands"
      ],
      "id": "6_Nt4g_nEIRl"
    },
    {
      "cell_type": "code",
      "execution_count": null,
      "metadata": {
        "id": "ABa0pyWLEIRl"
      },
      "outputs": [],
      "source": [
        "# Calculate Moran's I for each variable\n",
        "mi_results = [Moran(db_points_p[variable], w) for variable in ratings]\n",
        "# Display on table\n",
        "table = pd.DataFrame([(variable, res.I, res.p_sim)for variable,res in zip(ratings, mi_results)], columns=['Variable', \"Moran's I\", 'P-value'])\n",
        "table.set_index('Variable')\n",
        "table"
      ],
      "id": "ABa0pyWLEIRl"
    },
    {
      "cell_type": "markdown",
      "metadata": {
        "id": "BS0Dd3fWEIRm"
      },
      "source": [
        "## Regionalization (Spatially Constrained Hierarchical Clustering)"
      ],
      "id": "BS0Dd3fWEIRm"
    },
    {
      "cell_type": "code",
      "execution_count": null,
      "metadata": {
        "id": "23ekaicHEIRm"
      },
      "outputs": [],
      "source": [
        "w = weights.Queen.from_dataframe(db_points_p)"
      ],
      "id": "23ekaicHEIRm"
    },
    {
      "cell_type": "code",
      "execution_count": null,
      "metadata": {
        "id": "I4ESr76nEIRm"
      },
      "outputs": [],
      "source": [
        "sagg1 = cluster.AgglomerativeClustering(n_clusters=5, connectivity=w.sparse)\n",
        "sagg1"
      ],
      "id": "I4ESr76nEIRm"
    },
    {
      "cell_type": "code",
      "execution_count": null,
      "metadata": {
        "id": "2ZoNGX2NEIRn"
      },
      "outputs": [],
      "source": [
        "sagg1cls = sagg1.fit(db_points_p[ratings])"
      ],
      "id": "2ZoNGX2NEIRn"
    },
    {
      "cell_type": "code",
      "execution_count": null,
      "metadata": {
        "id": "8p-8-K1LEIRn"
      },
      "outputs": [],
      "source": [
        "db_points_p['sagg1cls'] = sagg1cls.labels_"
      ],
      "id": "8p-8-K1LEIRn"
    },
    {
      "cell_type": "code",
      "execution_count": null,
      "metadata": {
        "id": "nbHRPhEZEIRn"
      },
      "outputs": [],
      "source": [
        "f, ax = plt.subplots(1, figsize=(9, 9))\n",
        "db_points_p.plot(column='sagg1cls', categorical=True, legend=True, linewidth=0, ax=ax)\n",
        "ax.set_axis_off()\n",
        "plt.title('Calidad de aire valle de aburrá K=5')\n",
        "plt.show()"
      ],
      "id": "nbHRPhEZEIRn"
    },
    {
      "cell_type": "code",
      "execution_count": null,
      "metadata": {
        "id": "-SkOw19kEIRo"
      },
      "outputs": [],
      "source": [
        "w = KNN.from_dataframe(db_points_p, k=8)"
      ],
      "id": "-SkOw19kEIRo"
    },
    {
      "cell_type": "code",
      "execution_count": null,
      "metadata": {
        "id": "ofaOWJpSEIRo"
      },
      "outputs": [],
      "source": [
        "model = AgglomerativeClustering(linkage='ward', connectivity=w.sparse, n_clusters=5)\n",
        "model.fit(db_points_p[ratings])"
      ],
      "id": "ofaOWJpSEIRo"
    },
    {
      "cell_type": "code",
      "execution_count": null,
      "metadata": {
        "id": "qKguJrJ7EIRo"
      },
      "outputs": [],
      "source": [
        "db_points_p['ward5wknn'] = model.labels_\n",
        "f, ax = plt.subplots(1, figsize=(9, 9))\n",
        "db_points_p.plot(column='ward5wknn', categorical=True, legend=True, linewidth=0, ax=ax)\n",
        "ax.set_axis_off()\n",
        "plt.title('Calidad de aire del valle del aburrá (Ward, $k=5$, four nearest neighbors)')\n",
        "plt.show()"
      ],
      "id": "qKguJrJ7EIRo"
    },
    {
      "cell_type": "markdown",
      "metadata": {
        "id": "4MFNPxMlEIRp"
      },
      "source": [
        "## K-medias"
      ],
      "id": "4MFNPxMlEIRp"
    },
    {
      "cell_type": "code",
      "execution_count": null,
      "metadata": {
        "id": "XUqfwwtuEIRp"
      },
      "outputs": [],
      "source": [
        "kmeans5 = cluster.KMeans(n_clusters=5)"
      ],
      "id": "XUqfwwtuEIRp"
    },
    {
      "cell_type": "code",
      "execution_count": null,
      "metadata": {
        "id": "QZuSIj-sEIRp"
      },
      "outputs": [],
      "source": [
        "k5 = kmeans5.fit(db_points_p[ratings])"
      ],
      "id": "QZuSIj-sEIRp"
    },
    {
      "cell_type": "code",
      "execution_count": null,
      "metadata": {
        "id": "teYyv4PWEIRq"
      },
      "outputs": [],
      "source": [
        "k5.labels_"
      ],
      "id": "teYyv4PWEIRq"
    },
    {
      "cell_type": "code",
      "execution_count": null,
      "metadata": {
        "id": "sBmKdxT6EIRq"
      },
      "outputs": [],
      "source": [
        "db_points_p['k5'] = k5.labels_"
      ],
      "id": "sBmKdxT6EIRq"
    },
    {
      "cell_type": "code",
      "execution_count": null,
      "metadata": {
        "id": "UnYsDolTEIRq"
      },
      "outputs": [],
      "source": [
        "f, ax = plt.subplots(1, figsize=(9, 9))\n",
        "db_points_p.plot(column='k5', categorical=True, legend=True, linewidth=0, ax=ax)\n",
        "ax.set_axis_off()\n",
        "plt.title('AirBnb Geodemographic classification for Inner London KMeans, K=5')\n",
        "plt.show()"
      ],
      "id": "UnYsDolTEIRq"
    },
    {
      "cell_type": "code",
      "execution_count": null,
      "metadata": {
        "id": "Etf96P4KEIRr"
      },
      "outputs": [],
      "source": [
        "k5sizes = db_points_p.groupby('k5').size()\n",
        "k5sizes"
      ],
      "id": "Etf96P4KEIRr"
    },
    {
      "cell_type": "code",
      "execution_count": null,
      "metadata": {
        "id": "sM_mdF_kEIRr"
      },
      "outputs": [],
      "source": [
        "_ = k5sizes.plot.bar()db_points_p"
      ],
      "id": "sM_mdF_kEIRr"
    },
    {
      "cell_type": "code",
      "execution_count": null,
      "metadata": {
        "id": "7BzKG6eBEIRs"
      },
      "outputs": [],
      "source": [
        "Nc = range(1, 10)\n",
        "kmeans = [KMeans(n_clusters=i) for i in Nc]\n",
        "score = [kmeans[i].fit(db_points_p[ratings]).score(db_points_p[ratings]) for i in range(len(kmeans))]\n",
        "plt.plot(Nc,score)\n",
        "plt.xlabel('Number of Clusters')\n",
        "plt.ylabel('Score')\n",
        "plt.title('Elbow Curve');"
      ],
      "id": "7BzKG6eBEIRs"
    },
    {
      "cell_type": "code",
      "execution_count": null,
      "metadata": {
        "id": "9barSKUtEIRs"
      },
      "outputs": [],
      "source": [
        "k5means = db_points_p.groupby('k5')[ratings].mean()\n",
        "k5means.T"
      ],
      "id": "9barSKUtEIRs"
    },
    {
      "cell_type": "code",
      "execution_count": null,
      "metadata": {
        "id": "YrH2t0B3EIRs"
      },
      "outputs": [],
      "source": [
        "tidy_db = db_points_p.set_index('k5')\n",
        "tidy_db = tidy_db[ratings]\n",
        "tidy_db.head()"
      ],
      "id": "YrH2t0B3EIRs"
    },
    {
      "cell_type": "code",
      "execution_count": null,
      "metadata": {
        "id": "io74-3JWEIRt"
      },
      "outputs": [],
      "source": [
        "tidy_db = tidy_db.stack()\n",
        "tidy_db.head(20)"
      ],
      "id": "io74-3JWEIRt"
    },
    {
      "cell_type": "code",
      "execution_count": null,
      "metadata": {
        "id": "JuZxaUA3EIRt"
      },
      "outputs": [],
      "source": [
        "# Take indices into proper columns\n",
        "tidy_db = tidy_db.reset_index()\n",
        "tidy_db.head(20)"
      ],
      "id": "JuZxaUA3EIRt"
    },
    {
      "cell_type": "code",
      "execution_count": null,
      "metadata": {
        "id": "bHWT0w6lEIRu"
      },
      "outputs": [],
      "source": [
        "tidy_db = tidy_db.rename(columns={'level_1': 'Attribute', 0: 'Values'})\n",
        "tidy_db.head()"
      ],
      "id": "bHWT0w6lEIRu"
    },
    {
      "cell_type": "code",
      "execution_count": null,
      "metadata": {
        "id": "gQivEBp2EIRu"
      },
      "outputs": [],
      "source": [
        "facets = sns.FacetGrid(data=tidy_db, col='Attribute', hue='k5', sharey=False, sharex=False, aspect=2, col_wrap=3)\n",
        "_ = facets.map(sns.kdeplot, 'Values', shade=True)\n",
        "plt.legend();"
      ],
      "id": "gQivEBp2EIRu"
    },
    {
      "cell_type": "code",
      "execution_count": null,
      "metadata": {
        "id": "-LiGadPbEIRu"
      },
      "outputs": [],
      "source": [
        "f, ax = plt.subplots(figsize=(8,3))\n",
        "db_points_p.boxplot(\"pm25\", by=db_points_p['k5'], ax=ax)\n",
        "ax.set_xlabel(\"Cluster\")\n",
        "ax.set_ylabel(\"pm25\")\n",
        "plt.gcf().suptitle(None)\n",
        "plt.show()"
      ],
      "id": "-LiGadPbEIRu"
    },
    {
      "cell_type": "markdown",
      "metadata": {
        "id": "vQQLFJH0EIRv"
      },
      "source": [
        "### Regionalization (Spatially Constrained Hierarchical Clustering)"
      ],
      "id": "vQQLFJH0EIRv"
    },
    {
      "cell_type": "code",
      "execution_count": null,
      "metadata": {
        "id": "xJLmI9FOEIRv"
      },
      "outputs": [],
      "source": [
        "w = weights.Queen.from_dataframe(db_points_p)"
      ],
      "id": "xJLmI9FOEIRv"
    },
    {
      "cell_type": "code",
      "execution_count": null,
      "metadata": {
        "id": "2ljL8WDLEIRv"
      },
      "outputs": [],
      "source": [
        "sagg13 = cluster.AgglomerativeClustering(n_clusters=5, connectivity=w.sparse)\n",
        "sagg13"
      ],
      "id": "2ljL8WDLEIRv"
    },
    {
      "cell_type": "code",
      "execution_count": null,
      "metadata": {
        "id": "LAXQ7EqKEIRw"
      },
      "outputs": [],
      "source": [
        "sagg13cls = sagg13.fit(db_points_p[ratings])"
      ],
      "id": "LAXQ7EqKEIRw"
    },
    {
      "cell_type": "code",
      "execution_count": null,
      "metadata": {
        "id": "E49t40GGEIRw"
      },
      "outputs": [],
      "source": [
        "db_points_p['sagg13cls'] = sagg13cls.labels_"
      ],
      "id": "E49t40GGEIRw"
    },
    {
      "cell_type": "code",
      "execution_count": null,
      "metadata": {
        "id": "4n9jAMzWEIRw"
      },
      "outputs": [],
      "source": [
        "f, ax = plt.subplots(1, figsize=(9, 9))\n",
        "db_points_p.plot(column='sagg13cls', categorical=True, legend=True, linewidth=0, ax=ax)\n",
        "ax.set_axis_off()\n",
        "plt.title('AirBnb-based boroughs for Inner London K=5')\n",
        "plt.show()"
      ],
      "id": "4n9jAMzWEIRw"
    },
    {
      "cell_type": "code",
      "execution_count": null,
      "metadata": {
        "id": "OoWkq_pmEIRx"
      },
      "outputs": [],
      "source": [
        "w = KNN.from_dataframe(db_points_p, k=8)"
      ],
      "id": "OoWkq_pmEIRx"
    },
    {
      "cell_type": "code",
      "execution_count": null,
      "metadata": {
        "id": "4GqcQkAeEIRx"
      },
      "outputs": [],
      "source": [
        "model = AgglomerativeClustering(linkage='ward', connectivity=w.sparse, n_clusters=5)\n",
        "model.fit(db_points_p[ratings])"
      ],
      "id": "4GqcQkAeEIRx"
    },
    {
      "cell_type": "code",
      "execution_count": null,
      "metadata": {
        "id": "fYF0OQPQEIRx"
      },
      "outputs": [],
      "source": [
        "db_points_p['ward5wknn'] = model.labels_\n",
        "f, ax = plt.subplots(1, figsize=(9, 9))\n",
        "db_points_p.plot(column='ward5wknn', categorical=True, legend=True, linewidth=0, ax=ax)\n",
        "ax.set_axis_off()\n",
        "plt.title('AirBnb-based boroughs for Inner London (Ward, $k=5$, four nearest neighbors)')\n",
        "plt.show()"
      ],
      "id": "fYF0OQPQEIRx"
    },
    {
      "cell_type": "markdown",
      "metadata": {
        "id": "zq9CL3sHEIRy"
      },
      "source": [
        "## Model evaluation"
      ],
      "id": "zq9CL3sHEIRy"
    },
    {
      "cell_type": "code",
      "execution_count": null,
      "metadata": {
        "id": "TRvD3d7oEIRy"
      },
      "outputs": [],
      "source": [
        "results = []\n",
        "for cluster_type in ('k5',\"sagg13cls\", 'ward5wknn'):\n",
        "    # compute the region polygons using a dissolve\n",
        "    regions = db_points_p[[cluster_type, 'geometry']].dissolve(by=cluster_type)\n",
        "    # compute the actual isoperimetric quotient for these regions\n",
        "    ipqs = regions.area * 4 * np.pi / (regions.boundary.length**2)\n",
        "    # cast to a dataframe\n",
        "    result = ipqs.to_frame(cluster_type)\n",
        "    results.append(result)\n",
        "# stack the series together along columns\n",
        "pd.concat(results, axis=1)"
      ],
      "id": "TRvD3d7oEIRy"
    },
    {
      "cell_type": "code",
      "execution_count": null,
      "metadata": {
        "id": "LXK3PdUdEIRz"
      },
      "outputs": [],
      "source": [
        "from sklearn import metrics"
      ],
      "id": "LXK3PdUdEIRz"
    },
    {
      "cell_type": "code",
      "execution_count": null,
      "metadata": {
        "id": "OGfso9kmEIRz"
      },
      "outputs": [],
      "source": [
        "scores = []\n",
        "for cluster_type in ('k5',\"sagg13cls\", 'ward5wknn'):\n",
        "    ch_score = metrics.calinski_harabasz_score(db_points_p[ratings], db_points_p[cluster_type])\n",
        "    s_score = metrics.silhouette_score(db_points_p[ratings], db_points_p[cluster_type])\n",
        "    scores.append((cluster_type, ch_score,  s_score))\n",
        "\n",
        "pd.DataFrame(scores, columns=['cluster type', 'CH score', 'S scores']).set_index('cluster type')"
      ],
      "id": "OGfso9kmEIRz"
    },
    {
      "cell_type": "code",
      "execution_count": null,
      "metadata": {
        "id": "IiHVsuGHEIR0"
      },
      "outputs": [],
      "source": [
        "import matplotlib.cm as cm\n",
        "\n",
        "range_n_clusters = [2, 3, 4, 5, 6]\n",
        "\n",
        "for n_clusters in range_n_clusters:\n",
        "    # Create a subplot with 1 row and 2 columns\n",
        "    fig, ax = plt.subplots(1, 1)\n",
        "    fig.set_size_inches(18, 7)\n",
        "\n",
        "    # The 1st subplot is the silhouette plot\n",
        "    # The silhouette coefficient can range from -1, 1 but in this example all\n",
        "    # lie within [-0.1, 1]\n",
        "    ax.set_xlim([-0.1, 1])\n",
        "    # The (n_clusters+1)*10 is for inserting blank space between silhouette\n",
        "    # plots of individual clusters, to demarcate them clearly.\n",
        "    ax.set_ylim([0, len(db_points_p[ratings]) + (n_clusters + 1) * 10])\n",
        "\n",
        "    # Initialize the clusterer with n_clusters value and a random generator\n",
        "    # seed of 10 for reproducibility.\n",
        "    clusterer = KMeans(n_clusters=n_clusters, random_state=10)\n",
        "    cluster_labels = clusterer.fit_predict(db_points_p[ratings])\n",
        "\n",
        "    # The silhouette_score gives the average value for all the samples.\n",
        "    # This gives a perspective into the density and separation of the formed\n",
        "    # clusters\n",
        "    silhouette_avg = metrics.silhouette_score(db_points_p[ratings], cluster_labels)\n",
        "    print(\"For n_clusters =\", n_clusters,\n",
        "          \"The average silhouette_score is :\", silhouette_avg)\n",
        "\n",
        "    # Compute the silhouette scores for each sample\n",
        "    sample_silhouette_values = metrics.silhouette_samples(db_points_p[ratings], cluster_labels)\n",
        "\n",
        "    y_lower = 10\n",
        "    for i in range(n_clusters):\n",
        "        # Aggregate the silhouette scores for samples belonging to\n",
        "        # cluster i, and sort them\n",
        "        ith_cluster_silhouette_values = \\\n",
        "            sample_silhouette_values[cluster_labels == i]\n",
        "\n",
        "        ith_cluster_silhouette_values.sort()\n",
        "\n",
        "        size_cluster_i = ith_cluster_silhouette_values.shape[0]\n",
        "        y_upper = y_lower + size_cluster_i\n",
        "\n",
        "        color = cm.nipy_spectral(float(i) / n_clusters)\n",
        "        ax.fill_betweenx(np.arange(y_lower, y_upper),\n",
        "                          0, ith_cluster_silhouette_values,\n",
        "                          facecolor=color, edgecolor=color, alpha=0.7)\n",
        "\n",
        "        # Label the silhouette plots with their cluster numbers at the middle\n",
        "        ax.text(-0.05, y_lower + 0.5 * size_cluster_i, str(i))\n",
        "\n",
        "        # Compute the new y_lower for next plot\n",
        "        y_lower = y_upper + 10  # 10 for the 0 samples\n",
        "\n",
        "    ax.set_title(\"The silhouette plot for the various clusters.\")\n",
        "    ax.set_xlabel(\"The silhouette coefficient values\")\n",
        "    ax.set_ylabel(\"Cluster label\")\n",
        "\n",
        "    # The vertical line for average silhouette score of all the values\n",
        "    ax.axvline(x=silhouette_avg, color=\"red\", linestyle=\"--\")\n",
        "\n",
        "    ax.set_yticks([])  # Clear the yaxis labels / ticks\n",
        "    ax.set_xticks([-0.1, 0, 0.2, 0.4, 0.6, 0.8, 1])\n",
        "\n",
        "    plt.suptitle((\"Silhouette analysis for KMeans clustering on sample data \"\n",
        "                  \"with n_clusters = %d\" % n_clusters),\n",
        "                 fontsize=14, fontweight='bold')\n",
        "\n",
        "plt.show()"
      ],
      "id": "IiHVsuGHEIR0"
    }
  ],
  "metadata": {
    "kernelspec": {
      "display_name": "Python 3",
      "language": "python",
      "name": "python3"
    },
    "language_info": {
      "codemirror_mode": {
        "name": "ipython",
        "version": 3
      },
      "file_extension": ".py",
      "mimetype": "text/x-python",
      "name": "python",
      "nbconvert_exporter": "python",
      "pygments_lexer": "ipython3",
      "version": "3.8.5"
    },
    "colab": {
      "provenance": [],
      "include_colab_link": true
    }
  },
  "nbformat": 4,
  "nbformat_minor": 5
}